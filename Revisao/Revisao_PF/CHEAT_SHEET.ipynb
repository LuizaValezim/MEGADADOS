{
 "cells": [
  {
   "cell_type": "markdown",
   "metadata": {},
   "source": [
    "# Comandos do MYSQL\n",
    "\n"
   ]
  },
  {
   "cell_type": "markdown",
   "metadata": {},
   "source": [
    "### Para criar tabelas:\n",
    "\n",
    "**EXEMPLO1**\n",
    "\n",
    "``` mysql\n",
    "DROP TABLE IF EXISTS Filmes\n",
    "\n",
    "CREATE TABLE Filmes(\n",
    "    id_filme INT NOT NULL AUTO_INCREMENT,,\n",
    "    titulo VARCHAR(80) NOT NULL,\n",
    "    PRIMARY KEY (id_filme)\n",
    ");\n",
    "\n",
    "CREATE TABLE Filme_Cenas(\n",
    "    id_filme INT NOT NULL AUTO_INCREMENT,\n",
    "    id_cena INT NOT NULL,\n",
    "    PRIMARY KEY(id_filme, id_cena)\n",
    ");\n",
    "\n",
    "ALTER TABLE Filme_Cenas\n",
    "    ADD CONSTRAINT fk_cena\n",
    "        FOREIGN KEY (id_cena)\n",
    "            REFERENCES Cena(id_cena);\n",
    "\n",
    "\n",
    "ALTER TABLE Filme_Cenas\n",
    "    ADD CONSTRAINT fk_filme\n",
    "        FOREIGN KEY (id_filme)\n",
    "            REFERENCES Filmes(id_filme);\n",
    "            \n",
    "ALTER TABLE Funcionario\n",
    "\tADD COLUMN (\n",
    "\t\tRG_mentor INT NOT NULL,\n",
    "\t\torgao_mentor VARCHAR(45) NOT NULL\n",
    " );\n",
    "            \n",
    "```"
   ]
  },
  {
   "cell_type": "markdown",
   "metadata": {},
   "source": [
    "**EXEMPLO2**\n",
    "\n",
    "```mysql\n",
    "DROP DATABASE IF EXISTS emprestimos;\n",
    "CREATE DATABASE emprestimos;\n",
    "USE emprestimos;\n",
    "\n",
    "CREATE TABLE usuario (\n",
    "    id_usuario INT NOT NULL AUTO_INCREMENT,\n",
    "    nome VARCHAR(80) NOT NULL,\n",
    "    sobrenome VARCHAR(80) NOT NULL,\n",
    "    saldo DECIMAL(30 , 2 ) NOT NULL DEFAULT 0.0,\n",
    "    PRIMARY KEY (id_usuario),\n",
    "    CONSTRAINT c_saldo CHECK (saldo >= 0.0)\n",
    ");\n",
    "\n",
    "CREATE TABLE emprestimo (\n",
    "    id_emprestimo INT NOT NULL AUTO_INCREMENT,\n",
    "    id_credor INT NOT NULL,\n",
    "    id_devedor INT NOT NULL,\n",
    "    valor_atual DECIMAL(30 , 2 ) NOT NULL DEFAULT 0.0,\n",
    "    data_inicio DATETIME NOT NULL DEFAULT CURRENT_TIMESTAMP,\n",
    "    data_modificação DATETIME NOT NULL DEFAULT CURRENT_TIMESTAMP ON UPDATE CURRENT_TIMESTAMP,\n",
    "    PRIMARY KEY (id_emprestimo),\n",
    "    CONSTRAINT fk_credor FOREIGN KEY (id_credor)\n",
    "        REFERENCES usuario (id_usuario),\n",
    "    CONSTRAINT fk_devedor FOREIGN KEY (id_devedor)\n",
    "        REFERENCES usuario (id_usuario),\n",
    "    CONSTRAINT c_valor CHECK (valor_atual >= 0.0)\n",
    ");\n",
    "\n",
    "CREATE TABLE operacao (\n",
    "    id_operacao INT NOT NULL AUTO_INCREMENT,\n",
    "    id_emprestimo INT NOT NULL,\n",
    "    valor DECIMAL(30 , 2 ),\n",
    "    data_operacao DATETIME NOT NULL DEFAULT CURRENT_TIMESTAMP,\n",
    "    PRIMARY KEY (id_operacao),\n",
    "    CONSTRAINT fk_emprestimo FOREIGN KEY (id_emprestimo)\n",
    "        REFERENCES emprestimo (id_emprestimo)\n",
    ");\n",
    "\n",
    "CREATE TABLE movimentacao (\n",
    "    id_movimentacao INT NOT NULL AUTO_INCREMENT,\n",
    "    id_usuario INT NOT NULL,\n",
    "    valor DECIMAL(30 , 2 ),\n",
    "    data_operacao DATETIME NOT NULL DEFAULT CURRENT_TIMESTAMP,\n",
    "    PRIMARY KEY (id_movimentacao),\n",
    "    CONSTRAINT fk_usuario FOREIGN KEY (id_usuario)\n",
    "        REFERENCES usuario (id_usuario)\n",
    ");\n",
    "\n",
    "```"
   ]
  },
  {
   "cell_type": "markdown",
   "metadata": {},
   "source": [
    "# SINTAXE DE JOINS, LEFT , RIGHT E FUNÇÕES QUE APRENDEMOS ANTES DA PI\n"
   ]
  },
  {
   "cell_type": "markdown",
   "metadata": {},
   "source": [
    "### Para inserir algo:"
   ]
  },
  {
   "cell_type": "code",
   "execution_count": null,
   "metadata": {},
   "outputs": [],
   "source": [
    "db('''\n",
    "INSERT INTO usuario (id_usuario, nome, sobrenome) VALUES\n",
    "    (1, 'Juca', 'Silva'), \n",
    "    (2, 'Mario', 'Ferreira'), \n",
    "    (3, 'Ana', 'Soares'), \n",
    "    (4, 'Antonio', 'Reis'), \n",
    "    (5, 'Paulo', 'Oliveira')\n",
    "''')"
   ]
  },
  {
   "cell_type": "markdown",
   "metadata": {},
   "source": [
    "### Para ver quais tabelas existem:"
   ]
  },
  {
   "cell_type": "code",
   "execution_count": null,
   "metadata": {},
   "outputs": [],
   "source": [
    "db('SHOW TABLES')"
   ]
  },
  {
   "cell_type": "markdown",
   "metadata": {},
   "source": [
    "### Para saber qual schema de uma tabela - no caso aqui a CD\n",
    "\n"
   ]
  },
  {
   "cell_type": "code",
   "execution_count": null,
   "metadata": {},
   "outputs": [],
   "source": [
    "db('DESCRIBE CD')"
   ]
  },
  {
   "cell_type": "markdown",
   "metadata": {},
   "source": [
    "### SELECT TUDO:"
   ]
  },
  {
   "cell_type": "code",
   "execution_count": null,
   "metadata": {},
   "outputs": [],
   "source": [
    "db('SELECT * FROM CD')"
   ]
  },
  {
   "cell_type": "markdown",
   "metadata": {},
   "source": [
    "### SELECT nomes que terminem em A (LIKE)"
   ]
  },
  {
   "cell_type": "code",
   "execution_count": null,
   "metadata": {},
   "outputs": [],
   "source": [
    "db(\"SELECT * FROM CD WHERE Nome_CD LIKE '%a'\")"
   ]
  },
  {
   "cell_type": "markdown",
   "metadata": {},
   "source": [
    "### SELECT com LIKE para detectar se uma string aparece dentro de outra string"
   ]
  },
  {
   "cell_type": "code",
   "execution_count": null,
   "metadata": {},
   "outputs": [],
   "source": [
    "db('''\n",
    "SELECT\n",
    "    SUM(minuto_final - minuto_inicio) as minutos_total\n",
    "FROM \n",
    "    Cena\n",
    "    INNER JOIN Figurino USING (id_cena)\n",
    "    INNER JOIN Roupa USING (id_roupa)\n",
    "WHERE\n",
    "    Roupa.descricao LIKE \"%jeans%\"\n",
    "''')"
   ]
  },
  {
   "cell_type": "markdown",
   "metadata": {},
   "source": [
    "### SELECT COM LIKE PARA VER O QUE COMEÇA COM Rap"
   ]
  },
  {
   "cell_type": "code",
   "execution_count": null,
   "metadata": {},
   "outputs": [],
   "source": [
    "db(\"SELECT * FROM Jogadores WHERE nome_equipe LIKE 'Rap%'\")"
   ]
  },
  {
   "cell_type": "markdown",
   "metadata": {},
   "source": [
    "### Diferentes SELECT's com comandos importantes:"
   ]
  },
  {
   "cell_type": "markdown",
   "metadata": {},
   "source": [
    "#### SELECT com True:"
   ]
  },
  {
   "cell_type": "code",
   "execution_count": null,
   "metadata": {},
   "outputs": [],
   "source": [
    "db('SELECT * FROM CD WHERE True')"
   ]
  },
  {
   "cell_type": "markdown",
   "metadata": {},
   "source": [
    "#### SELECT com DISTINCT (pega só os CDs distintos, não repete):"
   ]
  },
  {
   "cell_type": "code",
   "execution_count": null,
   "metadata": {},
   "outputs": [],
   "source": [
    "db('''\n",
    "SELECT DISTINCT \n",
    "    CD_Indicado \n",
    "FROM \n",
    "    CD\n",
    "''')"
   ]
  },
  {
   "cell_type": "markdown",
   "metadata": {},
   "source": [
    "#### SELECT com COUNT - total de músicas na base de dados\n",
    "\n"
   ]
  },
  {
   "cell_type": "code",
   "execution_count": null,
   "metadata": {},
   "outputs": [],
   "source": [
    "db('SELECT COUNT(*) FROM MUSICA')"
   ]
  },
  {
   "cell_type": "markdown",
   "metadata": {},
   "source": [
    "### SELECT com MAX:"
   ]
  },
  {
   "cell_type": "code",
   "execution_count": null,
   "metadata": {},
   "outputs": [],
   "source": [
    "db('SELECT MAX(duracao) FROM MUSICA')"
   ]
  },
  {
   "cell_type": "markdown",
   "metadata": {},
   "source": [
    "### Criação de variável:"
   ]
  },
  {
   "cell_type": "code",
   "execution_count": null,
   "metadata": {},
   "outputs": [],
   "source": [
    "db('SELECT MAX(duracao) INTO @max_duracao from MUSICA')"
   ]
  },
  {
   "cell_type": "markdown",
   "metadata": {},
   "source": [
    "### SELECT com AVG:"
   ]
  },
  {
   "cell_type": "code",
   "execution_count": null,
   "metadata": {},
   "outputs": [],
   "source": [
    "db('SELECT AVG(duracao) INTO @media_duracao from MUSICA')"
   ]
  },
  {
   "cell_type": "markdown",
   "metadata": {},
   "source": [
    "### LEFT\n",
    "\n",
    "Faça uma lista de filmes que tenham mais de dois atores cujo nome inicia com a mesma letra do título do filme!\n",
    "\n",
    "The LEFT() function extracts a number of characters from a string (starting from left)."
   ]
  },
  {
   "cell_type": "code",
   "execution_count": null,
   "metadata": {},
   "outputs": [],
   "source": [
    "# Primeiro: vamos ver os atores daquele filme. Group por filme\n",
    "# Depois vamos ver as letras do filme e os atores. \n",
    "\n",
    "db('''\n",
    "SELECT \n",
    "    title\n",
    "FROM\n",
    "    film\n",
    "    INNER JOIN film_actor USING (film_id)\n",
    "    INNER JOIN actor USING (actor_id)\n",
    "WHERE\n",
    "    LEFT(title, 1) = LEFT(first_name, 1)    \n",
    "GROUP BY\n",
    "    film_id\n",
    "HAVING\n",
    "    COUNT(actor_id) > 2\n",
    "''')"
   ]
  },
  {
   "cell_type": "markdown",
   "metadata": {},
   "source": [
    "### CONCAT"
   ]
  },
  {
   "cell_type": "code",
   "execution_count": null,
   "metadata": {},
   "outputs": [],
   "source": [
    "# Observe também o uso da função CONCAT(), só para ficar mais bonito!\n",
    "# É um inner join só que da tabela com ela mesma :D\n",
    "db('''\n",
    "SELECT\n",
    "    CONCAT('\"', c1.Nome_CD, '\" indicado por \"', c2.Nome_CD, '\"')\n",
    "FROM\n",
    "    CD c1,\n",
    "    CD c2\n",
    "WHERE\n",
    "    c1.Codigo_CD = c2.CD_Indicado\n",
    "''')\n",
    "\n",
    "# OUTPUT\n",
    "\n",
    "# Executando query:\n",
    "# ('\"Perfil\" indicado por \"Mais do Mesmo\"',)\n",
    "# ('\"Elis Regina - Essa Mulher\" indicado por \"Bate-Boca\"',)\n",
    "# ('\"Mais do Mesmo\" indicado por \"Elis Regina - Essa Mulher\"',)\n",
    "# ('\"Mais do Mesmo\" indicado por \"A Força que nunca Seca\"',)\n",
    "# ('\"Bate-Boca\" indicado por \"Perfil\"',)\n",
    "# ('\"Listen Without Prejudice\" indicado por \"Barry Manilow Greatest Hits Vol I\"',)"
   ]
  },
  {
   "cell_type": "markdown",
   "metadata": {},
   "source": [
    "### GROUP CONCAT\n",
    "\n",
    "8) Gere uma tabela contendo, para cada ator, a seguinte informação:\n",
    "\n",
    "| first_name | last_name | filmes por categoria |\n",
    "|--|--|--|\n",
    "| PENELOPE | GUINESS | Animation: ANACONDA CONFESSIONS; Children: LANGUAGE COWBOY; Classics: COLOR PHILADELPHIA, WESTWARD SEABISCUIT; Comedy: VERTIGO NORTHWEST; Documentary: ACADEMY DINOSAUR; Family: KING EVOLUTION, SPLASH GUMP; Foreign: MULHOLLAND BEAST; Games: BULWORTH COMMANDMENTS, HUMAN GRAFFITI; Horror: ELEPHANT TROJAN, LADY STAGE, RULES HUMAN; Music: WIZARD COLDBLOODED; New: ANGELS LIFE, OKLAHOMA JUMANJI; Sci-Fi: CHEAPER CLYDE; Sports: GLEAMING JAWBREAKER |\n",
    "| NICK | WAHLBERG | Action: BULL SHAWSHANK; Animation: FIGHT JAWBREAKER; Children: JERSEY SASSY; Classics: DRACULA CRYSTAL, GILBERT PELICAN; Comedy: MALLRATS UNITED, RUSHMORE MERMAID; Documentary: ADAPTATION HOLES; Drama: WARDROBE PHANTOM; Family: APACHE DIVINE, CHISUM BEHAVIOR, INDIAN LOVE, MAGUIRE APACHE; Foreign: BABY HALL, HAPPINESS UNITED; Games: ROOF CHAMPION; Music: LUCKY FLYING; New: DESTINY SATURDAY, FLASH WARS, JEKYLL FROGMEN, MASK PEACH; Sci-Fi: CHAINSAW UPTOWN, GOODFELLAS SALUTE; Travel: LIAISONS SWEET, SMILE EARRING |\n",
    "| etc | etc | etc |\n",
    "\n",
    "Dica: use `GROUP_CONCAT` para agrupar todas as strings de uma coluna em uma string só, e `CONCAT` para unir strings particulares."
   ]
  },
  {
   "cell_type": "code",
   "execution_count": null,
   "metadata": {},
   "outputs": [],
   "source": [
    "db('DROP TABLE IF EXISTS films_por_categoria')\n",
    "\n",
    "db('''\n",
    "CREATE TEMPORARY TABLE films_por_categoria\n",
    "    SELECT\n",
    "        actor_id, first_name, last_name, CONCAT(name, \": \", GROUP_CONCAT(title SEPARATOR \", \")) as films \n",
    "    FROM\n",
    "        actor\n",
    "        INNER JOIN film_actor USING (actor_id)\n",
    "        INNER JOIN film USING (film_id)\n",
    "        INNER JOIN film_category USING (film_id)\n",
    "        INNER JOIN category USING (category_id)\n",
    "    GROUP BY\n",
    "        actor_id, category_id\n",
    "''')\n",
    "\n",
    "# OUTPUT (retornava filmes só de um genero, quero todos):\n",
    "#(1, 'PENELOPE', 'GUINESS', 'Classics: COLOR PHILADELPHIA, WESTWARD SEABISCUIT')\n",
    "#(3, 'ED', 'CHASE', 'Documentary: ARMY FLINTSTONES, FRENCH HOLIDAY, HALLOWEEN NUTS, HUNTER ALTER, WEDDING APOLLO, YOUNG LANGUAGE')"
   ]
  },
  {
   "cell_type": "code",
   "execution_count": null,
   "metadata": {},
   "outputs": [],
   "source": [
    "# Aqui agrupo por ator e pego TODOS os genero: filmes daquele ator\n",
    "\n",
    "db('''\n",
    "SELECT\n",
    "    MIN(first_name), last_name, GROUP_CONCAT(films SEPARATOR \"; \") as all_films \n",
    "FROM\n",
    "    films_por_categoria\n",
    "GROUP BY\n",
    "    actor_id\n",
    "\n",
    "''')\n",
    "\n",
    "# OUTPUT\n",
    "\n",
    "# ('PENELOPE', 'GUINESS', 'Animation: ANACONDA CONFESSIONS; Children: LANGUAGE COWBOY; Classics: COLOR PHILADELPHIA, \n",
    "#  WESTWARD SEABISCUIT; Comedy: VERTIGO NORTHWEST; Documentary: ACADEMY DINOSAUR; Family: KING EVOLUTION, SPLASH GUMP;\n",
    "#  Foreign: MULHOLLAND BEAST; Games: BULWORTH COMMANDMENTS, HUMAN GRAFFITI; Horror: ELEPHANT TROJAN, LADY STAGE, RULES HUMAN;\n",
    "#  Music: WIZARD COLDBLOODED; New: ANGELS LIFE, OKLAHOMA JUMANJI; Sci-Fi: CHEAPER CLYDE; Sports: GLEAMING JAWBREAKER')\n"
   ]
  },
  {
   "cell_type": "markdown",
   "metadata": {},
   "source": [
    "### SEM INNER JOIN"
   ]
  },
  {
   "cell_type": "code",
   "execution_count": null,
   "metadata": {},
   "outputs": [],
   "source": [
    "db('''\n",
    "SELECT \n",
    "    * \n",
    "FROM \n",
    "    CD as c, GRAVADORA as g \n",
    "WHERE \n",
    "    c.Codigo_Gravadora = g.Codigo_Gravadora\n",
    "''')"
   ]
  },
  {
   "cell_type": "markdown",
   "metadata": {},
   "source": [
    "### INNER JOIN"
   ]
  },
  {
   "cell_type": "code",
   "execution_count": null,
   "metadata": {},
   "outputs": [],
   "source": [
    "# Quandos as chaves não tem o mesmo nome nas tabelas\n",
    "\n",
    "db(\"\"\"\n",
    "SELECT \n",
    "    MUSICA.Nome_Musica\n",
    "FROM \n",
    "    AUTOR\n",
    "    INNER JOIN MUSICA_AUTOR ON AUTOR.Codigo_Autor = MUSICA_AUTOR.Codigo_Autor\n",
    "    INNER JOIN MUSICA ON MUSICA_AUTOR.Codigo_Musica = MUSICA.Codigo_Musica\n",
    "WHERE\n",
    "    AUTOR.Nome_Autor = 'Renato Russo'\n",
    "\"\"\")\n"
   ]
  },
  {
   "cell_type": "code",
   "execution_count": null,
   "metadata": {},
   "outputs": [],
   "source": [
    "# Quando as chaves tem o mesmo nome nas tabelas\n",
    "\n",
    "db(\"\"\"\n",
    "SELECT \n",
    "    MUSICA.Nome_Musica\n",
    "FROM \n",
    "    AUTOR\n",
    "    INNER JOIN MUSICA_AUTOR USING (Codigo_Autor)\n",
    "    INNER JOIN MUSICA USING (Codigo_Musica)\n",
    "WHERE\n",
    "    AUTOR.Nome_Autor = 'Renato Russo'\n",
    "\"\"\")\n"
   ]
  },
  {
   "cell_type": "code",
   "execution_count": null,
   "metadata": {},
   "outputs": [],
   "source": [
    "db('''\n",
    "SELECT\n",
    "    title\n",
    "FROM\n",
    "    film\n",
    "    INNER JOIN film_actor USING (film_id)\n",
    "    INNER JOIN actor USING (actor_id)\n",
    "WHERE\n",
    "    first_name = 'Dan'\n",
    "    AND last_name = 'Harris'\n",
    "''')"
   ]
  },
  {
   "cell_type": "markdown",
   "metadata": {},
   "source": [
    "### LEFT OUTER JOIN - exemplo da tabela de comidas e perigos"
   ]
  },
  {
   "cell_type": "code",
   "execution_count": null,
   "metadata": {},
   "outputs": [],
   "source": [
    "#Quero listar todas as comidas com ou sem perigo, e para aquelas que tem perigo quero o nome associado\n",
    "\n",
    "db('''\n",
    "SELECT \n",
    "    comida.Nome, \n",
    "    perigo.Nome \n",
    "FROM\n",
    "    comida\n",
    "    LEFT OUTER JOIN perigo ON comida.idPerigo = perigo.id\n",
    "''')\n",
    "\n",
    "#LEFT OUUTER JOIN: O lado esquerdo vai aparecer integralmente, no caso comida. No lado direito aparece nulo ou as conexões."
   ]
  },
  {
   "cell_type": "code",
   "execution_count": null,
   "metadata": {},
   "outputs": [],
   "source": [
    "# Quais linguas não tem nenhum filme na locadora\n",
    "\n",
    "db('''\n",
    "SELECT\n",
    "    title, name\n",
    "FROM\n",
    "    language\n",
    "    LEFT OUTER JOIN film USING(language_id)\n",
    "WHERE\n",
    "    title is NULL\n",
    "''')"
   ]
  },
  {
   "cell_type": "markdown",
   "metadata": {},
   "source": [
    "### RIGHT OUTER JOIN"
   ]
  },
  {
   "cell_type": "code",
   "execution_count": null,
   "metadata": {},
   "outputs": [],
   "source": [
    "#  quisermos fazer o contrário: queremos que todos os perigos apareçam, mesmo que não exista comida associada\n",
    "\n",
    "db('''\n",
    "SELECT \n",
    "    comida.Nome,\n",
    "    perigo.Nome\n",
    "FROM\n",
    "    comida\n",
    "    RIGHT OUTER JOIN perigo ON comida.idPerigo = perigo.id\n",
    "''')\n",
    "\n",
    "# Agora aparece todos do lado direito, ou seja, os perigos."
   ]
  },
  {
   "cell_type": "code",
   "execution_count": null,
   "metadata": {},
   "outputs": [],
   "source": [
    "#Liste os perigos que não estão associados a nenhuma comida.\n",
    "\n",
    "db('''\n",
    "SELECT \n",
    "    perigo.Nome\n",
    "FROM\n",
    "    comida\n",
    "    RIGHT OUTER JOIN perigo ON comida.idPerigo = perigo.id\n",
    "WHERE \n",
    "    comida.idPerigo IS NULL\n",
    "''')\n",
    "\n",
    "## OUUUUUUU\n",
    "\n",
    "db('''\n",
    "SELECT \n",
    "    perigo.Nome\n",
    "FROM\n",
    "    perigo\n",
    "    LEFT OUTER JOIN comida ON comida.idPerigo = perigo.id\n",
    "WHERE \n",
    "    comida.idPerigo IS NULL\n",
    "''')"
   ]
  },
  {
   "cell_type": "markdown",
   "metadata": {},
   "source": [
    "### GROUP BY e HAVING\n",
    "\n",
    "OBS: toda vez que faço group by tenho que agregar com algo no select : exemplo - SUM, MIN, MAX, COUNT wherever.\n",
    "\n",
    "E só posso usar HAVING depois de ter o GROUP BY\n",
    "\n",
    "2) Qual a diferença entre WHERE e HAVING?\n",
    "\n",
    "O HAVING é bem parecido com o WHERE, porém ele é aplicado apenas para grupos como um todo (isto é, para **as colunas que também aparecem na clásula GROUP BY** ou em uma função agregada - o que representa grupos), enquanto o **WHERE é aplicado para linhas individuais de uma tabela**. Importante resssaltar que uma query pode ter tanto o termo WHERE quanto o termo HAVING. Nesse caso, primeiro é aplicado o WHERE para as linhas individuais nas tabelas, que resultam em linhas que cumprem com as condições indicadas ali. Depois o HAVING será aplicado para as linhas no conjunto resultante, de tal forma que apenas grupos que atendam as condições estabelecidas no HAVING irão aparecer no query de saída"
   ]
  },
  {
   "cell_type": "code",
   "execution_count": null,
   "metadata": {},
   "outputs": [],
   "source": [
    "# Quais atores não compartilham seu sobrenome com nenhum outro ator?\n",
    "\n",
    "db('''\n",
    "SELECT\n",
    "    MIN(first_name), MIN(last_name), COUNT(last_name) as unico_sobrenome\n",
    "FROM\n",
    "    actor\n",
    "GROUP BY\n",
    "    last_name\n",
    "HAVING\n",
    "    unico_sobrenome = 1\n",
    "ORDER BY\n",
    "    last_name\n",
    "''')"
   ]
  },
  {
   "cell_type": "markdown",
   "metadata": {},
   "source": [
    "### VIEW"
   ]
  },
  {
   "cell_type": "code",
   "execution_count": null,
   "metadata": {},
   "outputs": [],
   "source": [
    "#Quantas vezes foram alugados mesmo para filmes que nunca foram alugados: com cnt igual a 0\n",
    "#Todos os filmes serão presentes mesmo que não haja [cópia física em lugar nenhum = inventory]\n",
    "# e mesmo que nunca tenha sido alugado na vida\n",
    "#pode ter quantos nulos for, ele conta como 0\n",
    "db('''\n",
    "DROP VIEW IF EXISTS movie_count;\n",
    "''')\n",
    "\n",
    "db('''\n",
    "CREATE VIEW movie_count AS\n",
    "    SELECT \n",
    "        title, COUNT(rental_id) as cnt\n",
    "    FROM\n",
    "        film\n",
    "        LEFT OUTER JOIN inventory USING (film_id)\n",
    "        LEFT OUTER JOIN rental USING (inventory_id)\n",
    "    GROUP BY\n",
    "        film_id\n",
    "    ORDER BY\n",
    "        cnt ASC;\n",
    "''')"
   ]
  },
  {
   "cell_type": "markdown",
   "metadata": {},
   "source": [
    "### TEMPORARY TABLE"
   ]
  },
  {
   "cell_type": "code",
   "execution_count": null,
   "metadata": {},
   "outputs": [],
   "source": [
    "db('''DROP TABLE IF EXISTS max_duration''')\n",
    "\n",
    "db('''\n",
    "CREATE TEMPORARY TABLE max_duration\n",
    "    SELECT\n",
    "        MAX(length) as duration, name, category_id\n",
    "    FROM\n",
    "        film\n",
    "        INNER JOIN film_category USING (film_id)\n",
    "        INNER JOIN category USING (category_id)\n",
    "    GROUP BY\n",
    "        category_id\n",
    "    ORDER BY\n",
    "        duration DESC\n",
    "\n",
    "''')"
   ]
  },
  {
   "cell_type": "markdown",
   "metadata": {},
   "source": [
    "### SUBQUERY e IN"
   ]
  },
  {
   "cell_type": "code",
   "execution_count": null,
   "metadata": {},
   "outputs": [],
   "source": [
    "# Filmes dos 3 atores mais populares\n",
    "\n",
    "db('''\n",
    "SELECT\n",
    "    first_name, last_name, title\n",
    "FROM\n",
    "    film\n",
    "    INNER JOIN film_actor USING (film_id)\n",
    "    INNER JOIN actor USING (actor_id)\n",
    "WHERE \n",
    "    film.film_id IN\n",
    "    (SELECT * FROM (SELECT\n",
    "            film_id\n",
    "        FROM\n",
    "            film\n",
    "            INNER JOIN inventory USING (film_id)\n",
    "            INNER JOIN rental USING (inventory_id)\n",
    "            INNER JOIN payment USING (rental_id)\n",
    "        GROUP BY\n",
    "            film_id\n",
    "        ORDER BY\n",
    "            SUM(amount) DESC\n",
    "        LIMIT 3\n",
    "        ) as SUBQUERY\n",
    "    )\n",
    "\n",
    "''')"
   ]
  },
  {
   "cell_type": "markdown",
   "metadata": {},
   "source": [
    "### UNION"
   ]
  },
  {
   "cell_type": "code",
   "execution_count": null,
   "metadata": {},
   "outputs": [],
   "source": [
    "#Juntar nome e sobrenome de funcionários e clientes\n",
    "\n",
    "# Nomes dos funcionários\n",
    "db('DROP TABLE IF EXISTS nomes_staff')\n",
    "\n",
    "db('''\n",
    "CREATE TEMPORARY TABLE nomes_staff\n",
    "    SELECT first_name, last_name FROM staff\n",
    "''')\n",
    "\n",
    "# Nomes dos clientes\n",
    "\n",
    "db('DROP TABLE IF EXISTS nomes_clientes')\n",
    "db('''\n",
    "CREATE TEMPORARY TABLE nomes_clientes \n",
    "    SELECT first_name, last_name FROM customer\n",
    "''')\n",
    "\n",
    "# junta tudo\n",
    "\n",
    "db('DROP TABLE IF EXISTS nomes_all')\n",
    "\n",
    "db('''\n",
    "CREATE TEMPORARY TABLE nomes_all\n",
    "    (SELECT * FROM nomes_staff) UNION (SELECT * FROM nomes_clientes)\n",
    "''')\n",
    "\n",
    "db('SELECT * FROM nomes_all ')"
   ]
  },
  {
   "cell_type": "code",
   "execution_count": null,
   "metadata": {},
   "outputs": [],
   "source": [
    "# Juntar nome e sobrenome de funcionários e clientes usando UNION e subquery\n",
    "\n",
    "db('''\n",
    "    (SELECT * FROM (SELECT first_name, last_name FROM customer) as sub1) UNION\n",
    "    (SELECT * FROM (SELECT first_name, last_name FROM staff) as sub2)\n",
    "''')\n"
   ]
  },
  {
   "cell_type": "code",
   "execution_count": null,
   "metadata": {},
   "outputs": [],
   "source": []
  },
  {
   "cell_type": "markdown",
   "metadata": {},
   "source": [
    "### Exemplos de queries:"
   ]
  },
  {
   "cell_type": "code",
   "execution_count": null,
   "metadata": {},
   "outputs": [],
   "source": [
    "db('''\n",
    "SELECT \n",
    "    Nome_CD \n",
    "FROM \n",
    "    CD\n",
    "WHERE \n",
    "    Preco_venda >= 13 \n",
    "ORDER BY \n",
    "    Data_Lancamento ASC [ou pode user DESC] \n",
    "LIMIT 1\n",
    "''')"
   ]
  },
  {
   "cell_type": "code",
   "execution_count": null,
   "metadata": {},
   "outputs": [],
   "source": [
    "db('''\n",
    "SELECT \n",
    "    Nome_Gravadora \n",
    "FROM \n",
    "    GRAVADORA\n",
    "WHERE \n",
    "    Endereco IS NULL\n",
    "''')"
   ]
  },
  {
   "cell_type": "code",
   "execution_count": null,
   "metadata": {},
   "outputs": [],
   "source": [
    "#Quais cds foram lançados na década de 90 e custam 10 reais ou menos?\n",
    "# Poderia usar o BETWEEN, ele é inclusivo, os valores de início e final são incluídos\n",
    "\n",
    "# YEAR(Data_Lancamento) BETWEEN 1990 AND 1999\n",
    "db('''\n",
    "SELECT \n",
    "    Nome_CD \n",
    "FROM \n",
    "    CD\n",
    "WHERE \n",
    "    YEAR(Data_Lancamento) >= 1990 AND YEAR(Data_Lancamento) < 2000 AND Preco_venda <= 10 \n",
    "''')"
   ]
  },
  {
   "cell_type": "code",
   "execution_count": null,
   "metadata": {},
   "outputs": [],
   "source": [
    "db('''\n",
    "SELECT\n",
    "    actor_id, first_name, last_name, COUNT(actor_id) as aparicoes\n",
    "FROM\n",
    "    actor\n",
    "    INNER JOIN film_actor USING (actor_id)\n",
    "    INNER JOIN film USING (film_id)\n",
    "GROUP BY\n",
    "    actor_id\n",
    "ORDER BY\n",
    "    aparicoes DESC\n",
    "LIMIT\n",
    "    10\n",
    "''')"
   ]
  },
  {
   "cell_type": "markdown",
   "metadata": {},
   "source": [
    "# ------------------------------------------------------------------------------------------------------\n",
    "\n",
    "# SINTAXE DO QUE APREDEMOS DEPOIS DA PI: TRANSAÇÃO, TRIGGER, PROCEDURE, ETC"
   ]
  },
  {
   "cell_type": "markdown",
   "metadata": {},
   "source": [
    "### Para iniciar uma transação: "
   ]
  },
  {
   "cell_type": "code",
   "execution_count": null,
   "metadata": {},
   "outputs": [],
   "source": [
    "db('START TRANSACTION')\n",
    "db('INSERT INTO usuario (id_usuario, nome, sobrenome) VALUES (8, \"Carlos\", \"Sainz\")')\n",
    "db('COMMIT')\n",
    "\n",
    "# Posso reverter a transação em uma outra transação\n",
    "\n",
    "db('START TRANSACTION')\n",
    "db('''\n",
    "SELECT id_usuario INTO @id_usuario \n",
    "    FROM usuario \n",
    "    WHERE nome = 'Barack' AND sobrenome = 'Trump' \n",
    "    ORDER BY id_usuario DESC LIMIT 1;\n",
    "''')\n",
    "db('SELECT @id_usuario')\n",
    "db('DELETE FROM usuario WHERE id_usuario=@id_usuario')\n",
    "db('COMMIT')"
   ]
  },
  {
   "cell_type": "markdown",
   "metadata": {},
   "source": [
    "### Para criar funções para transação seguir o padrão:\n",
    "\n"
   ]
  },
  {
   "cell_type": "code",
   "execution_count": null,
   "metadata": {},
   "outputs": [],
   "source": [
    "def deposito(connection, id_usuario, valor):\n",
    "    with connection.cursor() as cursor:\n",
    "        # Atualizei o saldo da pessoa depois do depósito\n",
    "        query1 = '''\n",
    "        UPDATE \n",
    "            usuario\n",
    "        SET\n",
    "            saldo = saldo + %s \n",
    "        WHERE\n",
    "            id_usuario = %s\n",
    "        '''\n",
    "        params1 = (valor, id_usuario)\n",
    "        cursor.execute(query1, params1)\n",
    "        \n",
    "        # Log da movimentação de conta corrente.\n",
    "        \n",
    "        query2 = '''\n",
    "        INSERT INTO movimentacao (id_usuario, valor) VALUES (%s, %s)\n",
    "        '''\n",
    "        params2 = (id_usuario, valor)\n",
    "        \n",
    "        cursor.execute(query2, params2)"
   ]
  },
  {
   "cell_type": "code",
   "execution_count": null,
   "metadata": {},
   "outputs": [],
   "source": [
    "def pega_id_usuario(connection, nome, sobrenome):\n",
    "    with connection.cursor() as cursor:\n",
    "        cursor.execute(\n",
    "            '''\n",
    "            SELECT id_usuario \n",
    "            FROM usuario \n",
    "            WHERE nome = %s AND sobrenome = %s''', (nome, sobrenome))\n",
    "\n",
    "        results = cursor.fetchall()\n",
    "        \n",
    "    if results is None:\n",
    "        raise KeyError(f'Usuario {nome} {sobrenome} não encontrado.')\n",
    "    \n",
    "    return results[0][0]\n",
    "\n",
    "\n",
    "# retorna último id inserido\n",
    "cursor.execute('SELECT LAST_INSERT_ID()')\n"
   ]
  },
  {
   "cell_type": "code",
   "execution_count": null,
   "metadata": {},
   "outputs": [],
   "source": [
    "def atualiza_emprestimo(connection, id_emprestimo, valor):\n",
    "    with connection.cursor() as cursor:\n",
    "        # Atualiza saldo do emprestimo.\n",
    "        query = '''\n",
    "        UPDATE \n",
    "            emprestimo\n",
    "        SET \n",
    "            valor_atual = valor_atual + %s\n",
    "        WHERE \n",
    "            id_emprestimo = %s\n",
    "        '''\n",
    "        params = (valor, id_emprestimo)\n",
    "        cursor.execute(query, params)\n",
    "\n",
    "        # Log na tabela de operações.\n",
    "        query = '''\n",
    "        INSERT INTO operacao (id_emprestimo, valor) VALUES (%s, %s)\n",
    "        '''\n",
    "        params = (id_emprestimo, valor)\n",
    "        cursor.execute(query, params)"
   ]
  },
  {
   "cell_type": "markdown",
   "metadata": {},
   "source": [
    "### Para testar funções de transação:\n",
    "    "
   ]
  },
  {
   "cell_type": "code",
   "execution_count": null,
   "metadata": {},
   "outputs": [],
   "source": [
    "dados = [\n",
    "    (\"Ana\", \"Soares\", \"Juca\", \"Silva\", 1000),\n",
    "    (\"Ana\", \"Soares\", \"Antonio\", \"Reis\", 2000),\n",
    "    (\"Paulo\", \"Oliveira\", \"Juca\", \"Silva\", 3000),\n",
    "]\n",
    "\n",
    "for nome_credor, sobrenome_credor, \\\n",
    "    nome_devedor, sobrenome_devedor, \\\n",
    "    valor in dados:\n",
    "    try:\n",
    "        start_transaction(connection)\n",
    "        id_credor = pega_id_usuario(\n",
    "            connection,\n",
    "            nome_credor,\n",
    "            sobrenome_credor,\n",
    "        )\n",
    "        id_devedor = pega_id_usuario(\n",
    "            connection,\n",
    "            nome_devedor,\n",
    "            sobrenome_devedor,\n",
    "        )\n",
    "        id_emprestimo = cria_emprestimo_(connection, id_credor, id_devedor)\n",
    "        saque(connection, id_credor, valor)\n",
    "        deposito(connection, id_devedor, valor)\n",
    "        atualiza_emprestimo(connection, id_emprestimo, valor)\n",
    "        commit(connection)\n",
    "    except Exception as e:\n",
    "        print(e)\n",
    "        rollback(connection)"
   ]
  },
  {
   "cell_type": "markdown",
   "metadata": {},
   "source": [
    "### Para criar uma procedure:"
   ]
  },
  {
   "cell_type": "markdown",
   "metadata": {},
   "source": [
    "``` mysql\n",
    "\n",
    "USE emprestimos;\n",
    "\n",
    "DROP PROCEDURE IF EXISTS adiciona_usuario;\n",
    "\n",
    "DELIMITER //\n",
    "CREATE PROCEDURE adiciona_usuario(IN novo_nome VARCHAR(80), IN novo_sobrenome VARCHAR(80))\n",
    "BEGIN\n",
    "    INSERT INTO usuario (nome, sobrenome) VALUES (novo_nome, novo_sobrenome);\n",
    "END//\n",
    "DELIMITER ;\n",
    "\n",
    "```"
   ]
  },
  {
   "cell_type": "markdown",
   "metadata": {},
   "source": [
    "``` mysql\n",
    "\n",
    "USE emprestimos;\n",
    "\n",
    "DROP PROCEDURE IF EXISTS cobra_taxa;\n",
    "\n",
    "DELIMITER //\n",
    "CREATE PROCEDURE cobra_taxa(IN taxa DECIMAL(30,2), IN id_usuario_procurado INT)\n",
    "BEGIN\n",
    "    DECLARE taxa_cobrada DECIMAL(30,2);\n",
    "    SELECT IF(saldo(id_usuario_procurado)>0.0, taxa, 0.0) INTO taxa_cobrada;\n",
    "    UPDATE usuario SET saldo = saldo - taxa WHERE id_usuario = id_usuario_procurado;\n",
    "END//\n",
    "DELIMITER ;\n",
    "\n",
    "```"
   ]
  },
  {
   "cell_type": "markdown",
   "metadata": {},
   "source": [
    "Note o uso destes comandos DELIMITER. Coisas de MySQL: ele não entende que os ponto-e-virgula internos ao procedimento não sinalizam o final do comando CREATE PROCEDURE..."
   ]
  },
  {
   "cell_type": "markdown",
   "metadata": {},
   "source": [
    "### Como chamar e usar procedures: CALL.\n",
    "\n",
    "Observação: prefira trabalhar com isso no Workbench, é melhor. Já teve bug uma vez."
   ]
  },
  {
   "cell_type": "code",
   "execution_count": null,
   "metadata": {},
   "outputs": [],
   "source": [
    "db('START TRANSACTION')\n",
    "try:\n",
    "    db(\"CALL adiciona_usuario('Max', 'Verstappen');\")\n",
    "    db(\"CALL adiciona_usuario('Lando', 'Norris');\")\n",
    "    db(\"CALL adiciona_usuario('Charles', 'Leclerc');\")\n",
    "except Exception as e:\n",
    "    print(e)\n",
    "    db('ROLLBACK');"
   ]
  },
  {
   "cell_type": "markdown",
   "metadata": {},
   "source": [
    "- Para criar uma function:"
   ]
  },
  {
   "cell_type": "markdown",
   "metadata": {},
   "source": [
    "``` mysql\n",
    "USE emprestimos;\n",
    "\n",
    "DROP FUNCTION IF EXISTS saldo;\n",
    "\n",
    "DELIMITER //\n",
    "CREATE FUNCTION saldo(id INT) RETURNS DECIMAL(30, 2) READS SQL DATA\n",
    "BEGIN\n",
    "    DECLARE saldo_procurado DECIMAL(30, 2);\n",
    "    SELECT IFNULL(saldo, 0.0) INTO saldo_procurado FROM usuario WHERE id_usuario = id;\n",
    "    RETURN saldo_procurado;\n",
    "END//\n",
    "DELIMITER ;\n",
    "\n",
    "COMMIT;\n",
    "```\n"
   ]
  },
  {
   "cell_type": "markdown",
   "metadata": {},
   "source": [
    "``` mysql\n",
    "\n",
    "USE emprestimos;\n",
    "\n",
    "DROP FUNCTION IF EXISTS total_saldo;\n",
    "\n",
    "DELIMITER //\n",
    "CREATE FUNCTION total_saldo() RETURNS DECIMAL(30, 2) READS SQL DATA\n",
    "BEGIN\n",
    "    DECLARE soma_total DECIMAL(30, 2);\n",
    "    SELECT \n",
    "        SUM(saldo) INTO soma_total \n",
    "    FROM usuario;\n",
    "    RETURN soma_total;\n",
    "END//\n",
    "DELIMITER ;\n",
    "\n",
    "```"
   ]
  },
  {
   "cell_type": "markdown",
   "metadata": {},
   "source": [
    "### Para usar uma função e chamá-la:"
   ]
  },
  {
   "cell_type": "code",
   "execution_count": null,
   "metadata": {},
   "outputs": [],
   "source": [
    "db(\"SELECT saldo(1)\")"
   ]
  },
  {
   "cell_type": "markdown",
   "metadata": {},
   "source": [
    "OBS2: Prefira rodar no MySql Workbench os testes. Caso esteja \"hanging\", simplesmente feche a conexão do notebook e espere rodar tudo no Workbench. Depois abra de novo o jupyter e siga a vida :)"
   ]
  },
  {
   "cell_type": "markdown",
   "metadata": {},
   "source": [
    "### Funções do MySQL:"
   ]
  },
  {
   "cell_type": "markdown",
   "metadata": {},
   "source": [
    "https://dev.mysql.com/doc/refman/8.0/en/flow-control-functions.html#function_if\n",
    "\n",
    "- IF:"
   ]
  },
  {
   "cell_type": "markdown",
   "metadata": {},
   "source": [
    "```mysql\n",
    "mysql> SELECT IF(1>2,2,3);\n",
    "        -> 3\n",
    "mysql> SELECT IF(1<2,'yes','no');\n",
    "        -> 'yes'\n",
    "mysql> SELECT IF(STRCMP('test','test1'),'no','yes');\n",
    "        -> 'no'\n",
    "```"
   ]
  },
  {
   "cell_type": "markdown",
   "metadata": {},
   "source": [
    "- IFNULL:\n"
   ]
  },
  {
   "cell_type": "markdown",
   "metadata": {},
   "source": [
    "``` mysql\n",
    "\n",
    "mysql> SELECT IFNULL(1,0);\n",
    "        -> 1\n",
    "mysql> SELECT IFNULL(NULL,10);\n",
    "        -> 10\n",
    "mysql> SELECT IFNULL(1/0,10);\n",
    "        -> 10\n",
    "mysql> SELECT IFNULL(1/0,'yes');\n",
    "        -> 'yes'\n",
    "```"
   ]
  },
  {
   "cell_type": "markdown",
   "metadata": {},
   "source": [
    "### Para criar um trigger:"
   ]
  },
  {
   "cell_type": "markdown",
   "metadata": {},
   "source": [
    "Trigger simples que toda vez que tenho uma movimentação atualiza o saldo do usuário. Ou seja, posta sempre o conteúdo na movimentação:\n",
    "\n",
    "``` mysql\n",
    "\n",
    "USE emprestimos;\n",
    "\n",
    "DROP TRIGGER IF EXISTS trig_movimentacao;\n",
    "\n",
    "DELIMITER //\n",
    "CREATE TRIGGER trig_movimentacao \n",
    "BEFORE INSERT ON movimentacao\n",
    "FOR EACH ROW\n",
    "BEGIN\n",
    "    UPDATE usuario \n",
    "        SET saldo = saldo + NEW.valor \n",
    "        WHERE id_usuario = NEW.id_usuario;\n",
    "END//\n",
    "\n",
    "DELIMITER ;\n",
    "\n",
    "```\n",
    "\n",
    "OBS: Se for DELETE, precisa usar o .OLD"
   ]
  },
  {
   "cell_type": "markdown",
   "metadata": {},
   "source": [
    "Nesse contexto a operação é basicamente: já existe um empréstimo, vou aumentar mais. Ou seja, estou criando uma operação que vai agir atualizando o empréstimo que já existe e criando movimentações. E como a movimentação já tem o trigger anterior, também atualiza o saldo do usuário.\n",
    "\n",
    "\n",
    "``` mysql\n",
    "\n",
    "USE emprestimos;\n",
    "\n",
    "DROP TRIGGER IF EXISTS trig_operacao;\n",
    "\n",
    "DELIMITER //\n",
    "CREATE TRIGGER trig_operacao\n",
    "BEFORE INSERT ON operacao\n",
    "FOR EACH ROW\n",
    "BEGIN\n",
    "\tUPDATE emprestimo \n",
    "\t\tSET valor_atual = valor_atual + NEW.valor # valor da operacao - aumentando a dívida. Precisamos inserir mov \n",
    "        WHERE id_emprestimo = NEW.id_emprestimo;\n",
    "\tSELECT id_credor INTO @id_credor\n",
    "\t\tFROM emprestimo \n",
    "\t\tWHERE id_emprestimo = NEW.id_emprestimo;\n",
    "\tSELECT id_devedor INTO @id_devedor\n",
    "\t\tFROM emprestimo \n",
    "\t\tWHERE id_emprestimo = NEW.id_emprestimo;\n",
    "\tINSERT INTO movimentacao (id_usuario, valor) VALUES (@id_credor, -NEW.valor);\n",
    "\tINSERT INTO movimentacao (id_usuario, valor) VALUES (@id_devedor, NEW.valor);\n",
    "END //\n",
    "\n",
    "DELIMITER ;\n",
    "\n",
    "```\n",
    "\n",
    "\n",
    "### Para testar o Trigger:\n",
    "\n",
    "```mysql\n",
    "USE emprestimos;\n",
    "\n",
    "SELECT * FROM usuario;\n",
    "SELECT * FROM emprestimo;\n",
    "SELECT * FROM operacao;\n",
    "\n",
    "START TRANSACTION;\n",
    "\n",
    "INSERT INTO movimentacao (id_usuario, valor) VALUES(1, 50000);\n",
    "\n",
    "INSERT INTO emprestimo (id_credor, id_devedor) VALUES (1, 2);\n",
    "INSERT INTO operacao (id_emprestimo, valor) VALUES (LAST_INSERT_ID(), 2000);\n",
    "\n",
    "SELECT * FROM usuario;\n",
    "SELECT * FROM emprestimo;\n",
    "SELECT * FROM operacao;\n",
    "\n",
    "ROLLBACK;\n",
    "\n",
    "SELECT * FROM usuario;\n",
    "SELECT * FROM emprestimo;\n",
    "SELECT * FROM operacao;\n",
    "\n",
    "```"
   ]
  },
  {
   "cell_type": "markdown",
   "metadata": {},
   "source": [
    "### Para adicionar uma constraint de verificação de valor:"
   ]
  },
  {
   "cell_type": "markdown",
   "metadata": {},
   "source": [
    "CONSTRAINT c_saldo CHECK (saldo >= 0.0)\n",
    "\n",
    "``` mysql\n",
    "\n",
    "\n",
    "CREATE TABLE usuario (\n",
    "    id_usuario INT NOT NULL AUTO_INCREMENT,\n",
    "    nome VARCHAR(80) NOT NULL,\n",
    "    sobrenome VARCHAR(80) NOT NULL,\n",
    "    saldo DECIMAL(30 , 2 ) NOT NULL DEFAULT 0.0,\n",
    "    PRIMARY KEY (id_usuario),\n",
    "    CONSTRAINT c_saldo CHECK (saldo >= 0.0)\n",
    ");\n",
    "\n",
    "CREATE TABLE emprestimo (\n",
    "    id_emprestimo INT NOT NULL AUTO_INCREMENT,\n",
    "    id_credor INT NOT NULL,\n",
    "    id_devedor INT NOT NULL,\n",
    "    valor_atual DECIMAL(30 , 2) NOT NULL DEFAULT 0.0,\n",
    "    data_inicio DATETIME NOT NULL DEFAULT CURRENT_TIMESTAMP,\n",
    "    data_modificação DATETIME NOT NULL DEFAULT CURRENT_TIMESTAMP ON UPDATE CURRENT_TIMESTAMP,\n",
    "    PRIMARY KEY (id_emprestimo),\n",
    "    CONSTRAINT fk_credor FOREIGN KEY (id_credor)\n",
    "        REFERENCES usuario (id_usuario),\n",
    "    CONSTRAINT fk_devedor FOREIGN KEY (id_devedor)\n",
    "        REFERENCES usuario (id_usuario),\n",
    "    CONSTRAINT c_valor CHECK (valor_atual >= 0.0)\n",
    ");\n",
    "\n",
    "```"
   ]
  },
  {
   "cell_type": "markdown",
   "metadata": {},
   "source": [
    "### Para criar uma VIEW:\n",
    "\n",
    "Lista nome e sobrenome de usuários sem revelar saldos: \n",
    "```mysql\n",
    "USE emprestimos;\n",
    "\n",
    "CREATE VIEW nomes AS \n",
    "    SELECT DISTINCT nome, sobrenome FROM usuario;\n",
    "```\n",
    "\n",
    "Porque usar views? Assim como no caso de stored procedures, podemos configurar permissões de acesso diferentes para esta view. Suponha que um vendedor deva ter acesso aos nomes dos clientes, mas não aos seus saldos (por razões de confidencialidade). Podemos conceder ao vendedor acesso apenas à essa view. Poderíamos ter resolvido o problema também com uma stored procedure: em SQL as coisas costumam ter várias soluções possíveis..."
   ]
  },
  {
   "cell_type": "markdown",
   "metadata": {},
   "source": [
    "```mySQL\n",
    "\n",
    "USE emprestimos\n",
    "\n",
    "CREATE VIEW credor AS\n",
    "    SELECT \n",
    "        id_usuario, SUM(IFNULL(valor_atual, 0.0)) as total\n",
    "    FROM \n",
    "        usuario\n",
    "        LEFT OUTER JOIN emprestimo ON usuario.id_usuario = emprestimo.id_credor\n",
    "    GROUP BY\n",
    "        id_usuario\n",
    "```\n",
    "\n",
    "```mySQL\n",
    "\n",
    "USE emprestimos\n",
    "\n",
    "CREATE VIEW devedor AS\n",
    "    SELECT \n",
    "        id_usuario, SUM(IFNULL(valor_atual, 0.0)) as total\n",
    "    FROM \n",
    "        usuario\n",
    "        LEFT OUTER JOIN emprestimo ON usuario.id_usuario = emprestimo.id_devedor\n",
    "    GROUP BY\n",
    "        id_usuario\n",
    "```\n",
    "```"
   ]
  },
  {
   "cell_type": "markdown",
   "metadata": {},
   "source": [
    "```mySQL\n",
    "\n",
    "USE emprestimos\n",
    "\n",
    "CREATE VIEW valor_liquido AS\n",
    "    SELECT \n",
    "        id_usuario, nome, sobrenome, saldo + credor.total - devedor.total as valor\n",
    "    FROM \n",
    "        usuario\n",
    "        INNER JOIN credor USING (id_usuario)\n",
    "        INNER JOIN devedor USING (id_usuario)\n",
    "```"
   ]
  },
  {
   "cell_type": "markdown",
   "metadata": {},
   "source": [
    "# ------------------------------------------------------------------------------------------------------\n",
    "\n",
    "# OPERAÇÕES COM LAMBDA NO PYTHON:"
   ]
  },
  {
   "cell_type": "markdown",
   "metadata": {},
   "source": [
    "Escreva uma função em Python usando apenas ferramentas de programação funcional (como map(), functools.reduce(), filter(), zip(), list comprehensions, etc.) para a seguinte tarefa:\n",
    "\n",
    "São dadas duas listas x e y de números reais, de mesmo comprimento n. Cada elemento de cada lista é um número real ou None, indicando que o número está ausente.\n",
    "A função deverá calcular a soma a seguir:\n",
    "\n",
    "- somatório de (xi-yi)^2, com i indo de 1 até n e xi != None E yi != None"
   ]
  },
  {
   "cell_type": "code",
   "execution_count": null,
   "metadata": {},
   "outputs": [],
   "source": [
    "# Filtrando individualmente :\n",
    "\n",
    "x = [10, 5, 6, 7, 9, -6, None, None, 4, 0]\n",
    "y = [8, 6, None, 5, None, 2, 16, 4, -5, 7]\n",
    "\n",
    "filtrado_x = list(filter(lambda x : x != None, x))\n",
    "filtrado_y = list(filter(lambda y: y != None, y))\n",
    "\n",
    "zippado = zip(filtrado_x, filtrado_y)\n",
    "\n",
    "print(list(filtrado_x))\n",
    "print(list(filtrado_y))\n",
    "print(list(zippado))\n",
    "\n",
    "somatorio = sum([(a - b)**2 for a, b in zip(filtrado_x, filtrado_y)])\n",
    "\n",
    "print(somatorio)\n",
    "\n"
   ]
  },
  {
   "cell_type": "code",
   "execution_count": null,
   "metadata": {},
   "outputs": [],
   "source": [
    "from functools import *\n",
    "\n",
    "x = [3, None, 5, -2, None]\n",
    "y = [5, None, None, 1, 3]\n",
    "\n",
    "zipp_x_y = zip(x, y)\n",
    "\n",
    "filtro_zip_x_y = list(filter(lambda x : x[0] != None and x[1] != None, zipp_x_y))\n",
    "\n",
    "print(filtro_zip_x_y)\n",
    "\n",
    "#somatorio = sum([(a - b)**2 for a, b in filtro_zip_x_y])\n",
    "#somatorio = reduce(lambda x,y : x+y , (map(lambda x: (x[0] - x[1])**2, filtro_zip_x_y)), 0)\n",
    "somatorio = sum(map(lambda x: (x[0] - x[1])**2, filtro_zip_x_y))\n",
    "\n",
    "print(somatorio)"
   ]
  }
 ],
 "metadata": {
  "kernelspec": {
   "display_name": "Python 3",
   "language": "python",
   "name": "python3"
  },
  "language_info": {
   "codemirror_mode": {
    "name": "ipython",
    "version": 3
   },
   "file_extension": ".py",
   "mimetype": "text/x-python",
   "name": "python",
   "nbconvert_exporter": "python",
   "pygments_lexer": "ipython3",
   "version": "3.7.6"
  }
 },
 "nbformat": 4,
 "nbformat_minor": 4
}

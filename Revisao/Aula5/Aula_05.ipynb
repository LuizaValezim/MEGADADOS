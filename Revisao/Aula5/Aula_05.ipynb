{
 "cells": [
  {
   "cell_type": "markdown",
   "metadata": {},
   "source": [
    "# Experimentando com bancos de dados em Python"
   ]
  },
  {
   "cell_type": "markdown",
   "metadata": {},
   "source": [
    "## Conectando com a base de dados"
   ]
  },
  {
   "cell_type": "markdown",
   "metadata": {},
   "source": [
    "Existem sistemas de gerenciamento de bancos de dados que operam no mesmo processo da aplicação cliente - ou seja, são bibliotecas que você pode importar diretamente no seu programa. Por exemplo: a biblioteca ``sqlite3`` (https://docs.python.org/3/library/sqlite3.html) é parte do conjunto de bibliotecas padrão da linguagem Python, e permite criar bases de dados diretamente em arquivo ou memória, sem a necessidade de um programa em separado. Eis um exemplo de uso de sqlite3:"
   ]
  },
  {
   "cell_type": "code",
   "execution_count": 1,
   "metadata": {},
   "outputs": [],
   "source": [
    "import sqlite3\n",
    "\n",
    "db = sqlite3.connect('teste.db')\n",
    "# Para criar a base em memória (base temporária) use o nome de arquivo\n",
    "# \":memory:\""
   ]
  },
  {
   "cell_type": "markdown",
   "metadata": {},
   "source": [
    "Note que o arquivo ``teste.db`` foi criado. "
   ]
  },
  {
   "cell_type": "code",
   "execution_count": 2,
   "metadata": {},
   "outputs": [
    {
     "name": "stdout",
     "output_type": "stream",
     "text": [
      "True\n"
     ]
    }
   ],
   "source": [
    "import os\n",
    "\n",
    "print('teste.db' in os.listdir())"
   ]
  },
  {
   "cell_type": "markdown",
   "metadata": {},
   "source": [
    "Apesar do ``sqlite3`` criar o sistema de gerenciamento de banco de dados (SGBD) SQLite diretamente no nosso processo (neste caso, o kernel Python que está sendo executado por esse notebook), o objeto de acesso ainda é uma \"conexão\". Isso se deve ao fato de que SGBDs \"normais\" - aqueles que realmente usamos em produção - são geralmente *sistemas cliente-servidor*, onde o SGBD é um processo separado da aplicação cliente e a comunicação entre eles acontece através de uma conexão de rede.\n",
    "\n",
    "<center><img src='imgs/client-server.png'></center>\n",
    "\n",
    "**Atividade:**\n",
    "\n",
    "Na figura acima, quem é o cliente do sistema de gerenciamento de banco de dados?"
   ]
  },
  {
   "cell_type": "markdown",
   "metadata": {},
   "source": [
    "**R:** É quem faz a requisição através da conexão internet, nesse caso é o microsserviço 1."
   ]
  },
  {
   "cell_type": "markdown",
   "metadata": {},
   "source": [
    "Uma conexão é simplesmente o conduíte entre o cliente e o SGBD. Em Python, a especificação PEP 249 (https://www.python.org/dev/peps/pep-0249/) define que uma conexão deve ter os métodos ``.close()`` (para fechar a conexão), ``.cursor()`` (para obter um *cursor*, que é o objeto para realmente interagir com o banco de dados), e o par ``.commit()``/``.rollback()`` (para gerenciamento de transações).\n",
    "\n",
    "Vamos fechar essa conexão e trabalhar com o MySQL daqui em diante."
   ]
  },
  {
   "cell_type": "code",
   "execution_count": 3,
   "metadata": {},
   "outputs": [],
   "source": [
    "db.close()"
   ]
  },
  {
   "cell_type": "code",
   "execution_count": 4,
   "metadata": {},
   "outputs": [],
   "source": [
    "os.remove('teste.db')"
   ]
  },
  {
   "cell_type": "markdown",
   "metadata": {},
   "source": [
    "Antes de tudo vamos criar um banco de dados. Queremos criar um banco de dados para gerenciar as equipes do primeiro campeonato Insper de ninja-cowboy-urso!\n",
    "\n",
    "- Ninja, com sua velocidade e furtividade, detona o cowboy.\n",
    "- O cowboy atira no urso.\n",
    "- O urso dá uma patada no ninja e acaba com ele.\n",
    "\n",
    "Cada jogador tem um nome, uma equipe, e sua jogada favorita. As equipes tem um nome e um grito de guerra.\n",
    "\n",
    "Portanto, nosso schema será:\n",
    "\n",
    "```\n",
    "Jogadores (id PK, nome_equipe, nome, preferencia)\n",
    "Equipes (nome PK, grito)\n",
    "```\n",
    "\n",
    "com a restrição:\n",
    "\n",
    "```\n",
    "Jogadores(nome_equipe) FK para Equipes(nome)\n",
    "```\n",
    "\n",
    "E um dicionário de dados simples para este problema é:\n",
    "\n",
    "<center>Jogadores</center>\n",
    "<table>\n",
    "    <tr>\n",
    "        <th>Campo</th>\n",
    "        <th>Tipo</th>\n",
    "        <th>Significado</th>\n",
    "        <th>Chave?</th>\n",
    "        <th>Valores</th>\n",
    "    </tr>\n",
    "    <tr>\n",
    "        <td>id</td>\n",
    "        <td>int</td>\n",
    "        <td>Identificador unico do jogador</td>\n",
    "        <td>PK</td>\n",
    "        <td>sem restrições</td>\n",
    "    </tr>\n",
    "    <tr>\n",
    "        <td>nome_equipe</td>\n",
    "        <td>string</td>\n",
    "        <td>Nome da equipe na qual o jogador atua</td>\n",
    "        <td>FK Equipes(nome)</td>\n",
    "        <td></td>\n",
    "    </tr>\n",
    "    <tr>\n",
    "        <td>nome</td>\n",
    "        <td>string</td>\n",
    "        <td>Nome do jogador</td>\n",
    "        <td></td>\n",
    "        <td>Pode haver dois jogadores com mesmo nome. Máximo 80 caracteres.</td>\n",
    "    </tr>\n",
    "    <tr>\n",
    "        <td>preferencia</td>\n",
    "        <td>int</td>\n",
    "        <td>Jogada preferida do jogador</td>\n",
    "        <td></td>\n",
    "        <td>0: Ninja, 1: Cowboy, 2: Urso</td>\n",
    "    </tr>\n",
    "</table>\n",
    "\n",
    "<center>Equipes</center>\n",
    "<table>\n",
    "    <tr>\n",
    "        <th>Campo</th>\n",
    "        <th>Tipo</th>\n",
    "        <th>Significado</th>\n",
    "        <th>Chave?</th>\n",
    "        <th>Valores</th>\n",
    "    </tr>\n",
    "    <tr>\n",
    "        <td>nome</td>\n",
    "        <td>string</td>\n",
    "        <td>Nome da equipe</td>\n",
    "        <td>PK</td>\n",
    "        <td>Máximo 30 caracteres</td>\n",
    "    </tr>\n",
    "    <tr>\n",
    "        <td>grito</td>\n",
    "        <td>string</td>\n",
    "        <td>Grito de guerra da equipe</td>\n",
    "        <td></td>\n",
    "        <td>Maximo 80 caracteres</td>\n",
    "    </tr>\n",
    "</table>\n",
    "\n",
    "**Atividade:** Escreva e rode o script de criação do banco de dados. Chame o banco de dados de ``torneio``. Compare com o gabarito em ``script_001.sql``."
   ]
  },
  {
   "cell_type": "markdown",
   "metadata": {},
   "source": [
    "Para conectar com o MySQL precisamos da biblioteca *mysql-connector-python*. \n",
    "Para instalar esta biblioteca:\n",
    "\n",
    "**`pip install mysql-connector-python`**"
   ]
  },
  {
   "cell_type": "code",
   "execution_count": 5,
   "metadata": {},
   "outputs": [],
   "source": [
    "import mysql.connector"
   ]
  },
  {
   "cell_type": "markdown",
   "metadata": {},
   "source": [
    "Vamos agora abrir uma conexão com o MySQL. Como agora temos realmente um sistema cliente-servidor, precisamos definir onde está o servidor, e precisamos também de informações de autenticação."
   ]
  },
  {
   "cell_type": "code",
   "execution_count": 6,
   "metadata": {},
   "outputs": [],
   "source": [
    "connection_options = {\n",
    "    'host': 'localhost',\n",
    "    'user': 'megadados',\n",
    "    'password': 'megadados',\n",
    "    'database': 'torneio'\n",
    "}"
   ]
  },
  {
   "cell_type": "markdown",
   "metadata": {},
   "source": [
    "**Pergunta**: Faz sentido guardar o *user* e *password* dentro do próprio código fonte? Qual o jeito correto de lidar com username e password no seu produto?"
   ]
  },
  {
   "cell_type": "markdown",
   "metadata": {},
   "source": [
    "**Resposta**: Não, pois assim qualquer um que tivesse acesso ao código fonte poderia acessar o banco de dados. O user e o password deveriam ser algo mais restrito, como um sistema de autenticação e senha.\n",
    "\n",
    "- Use um arquivo de configuração (tipo, secrets.json) na conta que será usada para rodar a aplicação e isso não vai no git, ele vai no .gitignore. Este arquivo deve ter todas as permissões de acesso negadas, exceto permissão de leitura para o próprio usuário da conta de execução da aplicação. O arquivo deverá ser lido então pela aplicação no momento da inicialização.\n",
    "\n",
    "- Use uma variável de ambiente com essas credenciais. É a mesma coisa que no ítem anterior, só ao invés de ter um arquivo de configuração da aplicação, temos o arquivo de configuração da conta em si, com os mesmos requisitos em relação às restrições de permissão."
   ]
  },
  {
   "cell_type": "markdown",
   "metadata": {},
   "source": [
    "Abrindo a conexão:"
   ]
  },
  {
   "cell_type": "code",
   "execution_count": 7,
   "metadata": {},
   "outputs": [],
   "source": [
    "# A notação de duplo asterisco em Python permite usar um dicionário no lugar de argumentos nomeados.\n",
    "# A linha a ser executada abaixo equivale á:\n",
    "# connection = mysql.connector.connect(\n",
    "#     host='localhost',\n",
    "#     user='megadados',\n",
    "#     password='megadados2019',\n",
    "#     database='torneio'\n",
    "# )\n",
    "connection = mysql.connector.connect(**connection_options) # quando é lista, uma * só"
   ]
  },
  {
   "cell_type": "markdown",
   "metadata": {},
   "source": [
    "**IMPORTANTE:** TODAS AS OPERAÇÕES REALIZADAS NESTA CONEXÃO SÃO TEMPORÁRIAS, ATÉ QUE O COMANDO `connection.commit()` seja executado!\n",
    "\n",
    "**MAIS IMPORTANTE AINDA:** ISSO NÃO VALE SE `AUTOCOMMIT` ESTIVER LIGADO!\n",
    "\n",
    "Estudaremos melhor essa questão quando discutirmos transações em maiores detalhes.\n",
    "\n",
    "Vamos criar alguns dados iniciais:"
   ]
  },
  {
   "cell_type": "code",
   "execution_count": 8,
   "metadata": {},
   "outputs": [],
   "source": [
    "T1 = 'Raposas Nerds'\n",
    "T2 = 'É nois'\n",
    "\n",
    "NINJA = 0\n",
    "COWBOY = 1\n",
    "URSO = 2\n",
    "\n",
    "times = {\n",
    "    T1: 'sudo vencer!',\n",
    "    T2: 'Olha eu mamãe!',\n",
    "}\n",
    "\n",
    "jogadores = [\n",
    "    ('Raul Ayres', T1, NINJA),\n",
    "    ('Luciano Hashimoto', T1, COWBOY),\n",
    "    ('Rafael Montaigner', T1, URSO),\n",
    "    ('Igor Miranda', T2, URSO),\n",
    "    ('Andrew Ikeda', T2, COWBOY),\n",
    "    ('Fábio Kurauchi', T2, NINJA),\n",
    "]"
   ]
  },
  {
   "cell_type": "markdown",
   "metadata": {},
   "source": [
    "Vamos inserir os dados dos times.\n",
    "\n",
    "**Atividade:** Quem devemos inserir primeiro: dados na tabela `Equipes` ou na tabela `Jogadores`?"
   ]
  },
  {
   "cell_type": "markdown",
   "metadata": {},
   "source": [
    "**R:** Dados na tabela Equipes, isso porque em Jogadores há o campo nome_equipe que é chave estrangeira. Assim, esse campo depende de Equipes para existir, se não há equipe, esse campo fica nulo em Jogadores.\n"
   ]
  },
  {
   "cell_type": "markdown",
   "metadata": {},
   "source": [
    "Quando uma tabela tem chave estrangeira para outra tabela dizemos que ela é filha (*child*) da outra tabela, e que a outra tabela é a pai (*parent*).\n",
    "\n",
    "Um *cursor* é o objeto que permite executar queries SQL e interagir com os resultados obtidos."
   ]
  },
  {
   "cell_type": "code",
   "execution_count": 9,
   "metadata": {},
   "outputs": [],
   "source": [
    "try:\n",
    "    with connection.cursor() as cursor:\n",
    "        # Outra opção aqui seria o uso de cursor.executemany()\n",
    "        for time, grito in times.items():\n",
    "            cursor.execute('INSERT INTO Equipes VALUES (%s, %s)', (time, grito))\n",
    "    connection.commit()\n",
    "except mysql.connector.IntegrityError as exception:\n",
    "    print(f'IntegrityError: {exception}')\n",
    "    connection.rollback()"
   ]
  },
  {
   "cell_type": "markdown",
   "metadata": {},
   "source": [
    "Note o comando ``commit`` acima: ele serve para efetivar a operação no banco de dados. Verifique no MySQL Workbench que a operação foi bem sucedida.\n",
    "\n",
    "Podemos tambem usar nossa conexão para verificar o estado da tabela ``Equipes``:"
   ]
  },
  {
   "cell_type": "code",
   "execution_count": 10,
   "metadata": {},
   "outputs": [
    {
     "name": "stdout",
     "output_type": "stream",
     "text": [
      "('É nois', 'Olha eu mamãe!')\n",
      "('Raposas Nerds', 'sudo vencer!')\n"
     ]
    }
   ],
   "source": [
    "with connection.cursor() as cursor:\n",
    "    cursor.execute('SELECT * FROM Equipes')\n",
    "    for item in cursor:\n",
    "        print(item)"
   ]
  },
  {
   "cell_type": "markdown",
   "metadata": {},
   "source": [
    "**Atividade:** Tente executar novamente a inserção de dados, o que acontece?\n",
    "\n"
   ]
  },
  {
   "cell_type": "markdown",
   "metadata": {},
   "source": [
    "**Resposta:** IntegrityError: 1062 (23000): Duplicate entry 'Raposas Nerds' for key 'equipes.PRIMARY'\n",
    "\n",
    "Ou seja, acontece um erro que alega que a entrada está duplicada para a chave primária de equipes."
   ]
  },
  {
   "cell_type": "markdown",
   "metadata": {},
   "source": [
    "## Interlúdio: sanitização de entradas de dados"
   ]
  },
  {
   "cell_type": "markdown",
   "metadata": {},
   "source": [
    "Por que usamos aqueles ``%s`` no comando a ser executado? Por que não simplesmente incluir diretamente os dados na *string* do comando SQL? Por exemplo:\n",
    "\n",
    "```Python\n",
    "cursor.execute('INSERT INTO Equipes VALUES (\"' + time + '\", \"' + grito + '\")')\n",
    "```"
   ]
  },
  {
   "cell_type": "markdown",
   "metadata": {},
   "source": [
    "Muitas vezes o resultado é o mesmo! Contudo, e SE executássemos a query abaixo..."
   ]
  },
  {
   "cell_type": "raw",
   "metadata": {},
   "source": [
    "time = 'Robert\", \"\"); DROP DATABASE torneio; -- '\n",
    "grito = ''\n",
    "\n",
    "with connection.cursor() as cursor:\n",
    "    for result in cursor.execute(\n",
    "            'INSERT INTO Equipes VALUES (\"' + time + '\", \"' + grito + '\")',\n",
    "            multi=True,\n",
    "    ):\n",
    "        print(result)\n",
    "\n",
    "with connection.cursor() as cursor:\n",
    "    cursor.execute('SELECT * FROM Equipes')\n",
    "    for item in cursor:\n",
    "        print(item)"
   ]
  },
  {
   "cell_type": "markdown",
   "metadata": {},
   "source": [
    "A célula acima está desabilitada. Mas se quiser executar passe para tipo \"Code\" e rode. Depois feche a conexão com `connection.close()`, volte para o começo do notebook e rode tudo de novo exceto a célula mortal!\n",
    "\n",
    "![Little Bobby Tables](imgs/exploits_of_a_mom.png)\n",
    "\n",
    "[Exploits of a mom](https://xkcd.com/327/)\n",
    "\n",
    "\n",
    "Existem jeitos de quebrar o sistema com esse tipo de ataque, onde o hacker tenta inserir código SQL mal-intencionado em formulários, na expectativa de que o programador não tenha feito a sanitização das entradas. Esse ataque chama-se *'SQL injection'*."
   ]
  },
  {
   "cell_type": "markdown",
   "metadata": {},
   "source": [
    "Fim do interlúdio, voltamos à apresentação principal.\n",
    "\n",
    "Vamos agora inserir os jogadores. Neste caso não precisamos inserir a chave primária, pois ela é gerada automaticamente. Consequentemente temos que especificar que estamos inserindo apenas as demais colunas - temos que nomear as colunas na qual estamos inserindo os dados."
   ]
  },
  {
   "cell_type": "code",
   "execution_count": 11,
   "metadata": {},
   "outputs": [],
   "source": [
    "try:\n",
    "    with connection.cursor() as cursor:\n",
    "        cursor.executemany(\n",
    "            'INSERT INTO Jogadores (nome, nome_equipe, preferencia) VALUES (%s, %s, %s)',\n",
    "            jogadores)\n",
    "    connection.commit()\n",
    "except Exception as e:\n",
    "    print(e)\n",
    "    connection.rollback()"
   ]
  },
  {
   "cell_type": "markdown",
   "metadata": {},
   "source": [
    "Vamos verificar se funcionou. Para evitar ter criar os cursores a todo momento e coletar os resultados vamos construir uma classe auxiliar, só para simplificar o código:"
   ]
  },
  {
   "cell_type": "code",
   "execution_count": 12,
   "metadata": {},
   "outputs": [],
   "source": [
    "class ConnectionHelper:\n",
    "\n",
    "    def __init__(self, connection):\n",
    "        self.connection = connection\n",
    "\n",
    "    def __call__(self, query, args=None):\n",
    "        with self.connection.cursor() as cursor:\n",
    "            print('Executando query:')\n",
    "            cursor.execute(query, args)\n",
    "            for result in cursor:\n",
    "                print(result)\n",
    "\n",
    "\n",
    "db = ConnectionHelper(connection)"
   ]
  },
  {
   "cell_type": "markdown",
   "metadata": {},
   "source": [
    "Note o padrão de *'dependency injection'* aqui: ao invés de criar a conexão dentro do construtor da classe ConnectionHelper, passamos um objeto 'connection' que será armazenado dentro do ConnectionHelper. Qualquer objeto 'connection' pode ser passado, de qualquer classe, desde que obedeça a interface (implícita) de um objeto de conexão ao banco de dados. Neste nosso caso, tem que ter o método `cursor()` que retorne um objeto de interação com a base de dados."
   ]
  },
  {
   "cell_type": "markdown",
   "metadata": {},
   "source": [
    "## Explorando a estrutura da base de dados\n",
    "\n",
    "Vamos ver quais tabelas existem na base ``torneio``:"
   ]
  },
  {
   "cell_type": "code",
   "execution_count": 13,
   "metadata": {},
   "outputs": [
    {
     "name": "stdout",
     "output_type": "stream",
     "text": [
      "Executando query:\n",
      "('equipes',)\n",
      "('jogadores',)\n"
     ]
    }
   ],
   "source": [
    "db('SHOW TABLES')"
   ]
  },
  {
   "cell_type": "markdown",
   "metadata": {},
   "source": [
    "Para saber qual o schema da tabela 'jogadores', podemos usar o comando '`DESCRIBE`'"
   ]
  },
  {
   "cell_type": "code",
   "execution_count": 14,
   "metadata": {
    "scrolled": true
   },
   "outputs": [
    {
     "name": "stdout",
     "output_type": "stream",
     "text": [
      "Executando query:\n",
      "('id', b'int', 'NO', 'PRI', None, 'auto_increment')\n",
      "('nome', b'varchar(80)', 'NO', '', None, '')\n",
      "('nome_equipe', b'varchar(30)', 'NO', 'MUL', None, '')\n",
      "('preferencia', b'int', 'YES', '', None, '')\n"
     ]
    }
   ],
   "source": [
    "db('DESCRIBE jogadores')"
   ]
  },
  {
   "cell_type": "markdown",
   "metadata": {},
   "source": [
    "## Consultando a base de dados\n",
    "\n",
    "Vamos usar o comando `SELECT` para listar os conteudos da tabela 'Jpgadores'"
   ]
  },
  {
   "cell_type": "code",
   "execution_count": 15,
   "metadata": {},
   "outputs": [
    {
     "name": "stdout",
     "output_type": "stream",
     "text": [
      "Executando query:\n",
      "(1, 'Raul Ayres', 'Raposas Nerds', 0)\n",
      "(2, 'Luciano Hashimoto', 'Raposas Nerds', 1)\n",
      "(3, 'Rafael Montaigner', 'Raposas Nerds', 2)\n",
      "(4, 'Igor Miranda', 'É nois', 2)\n",
      "(5, 'Andrew Ikeda', 'É nois', 1)\n",
      "(6, 'Fábio Kurauchi', 'É nois', 0)\n"
     ]
    }
   ],
   "source": [
    "db('SELECT * FROM Jogadores')"
   ]
  },
  {
   "cell_type": "markdown",
   "metadata": {},
   "source": [
    "O comando acima lista todos os registros da tabela `Jogadores`, com todas as colunas presentes:\n",
    "\n",
    "![Seleção da tabela inteira](imgs/tudo.png)\n",
    "\n",
    "Vamos agora selecionar apenas algumas colunas para exibir."
   ]
  },
  {
   "cell_type": "code",
   "execution_count": 16,
   "metadata": {
    "scrolled": true
   },
   "outputs": [
    {
     "name": "stdout",
     "output_type": "stream",
     "text": [
      "Executando query:\n",
      "('Raul Ayres', 'Raposas Nerds')\n",
      "('Luciano Hashimoto', 'Raposas Nerds')\n",
      "('Rafael Montaigner', 'Raposas Nerds')\n",
      "('Igor Miranda', 'É nois')\n",
      "('Andrew Ikeda', 'É nois')\n",
      "('Fábio Kurauchi', 'É nois')\n"
     ]
    }
   ],
   "source": [
    "db('SELECT nome, nome_equipe FROM Jogadores')"
   ]
  },
  {
   "cell_type": "markdown",
   "metadata": {},
   "source": [
    "Agora vemos apenas as colunas escolhidas.  A operação de seleção de colunas chama-se **projeção**.\n",
    "\n",
    "![Projeção](imgs/projecao.png)\n",
    "\n",
    "Vamos agora atuar na escolha de linhas, selecionando quais desejamos. Para escolher todas as linhas cujo `nome_equipe` começa com 'Rap' podemos executar a query a seguir:"
   ]
  },
  {
   "cell_type": "code",
   "execution_count": 17,
   "metadata": {},
   "outputs": [
    {
     "name": "stdout",
     "output_type": "stream",
     "text": [
      "Executando query:\n",
      "(1, 'Raul Ayres', 'Raposas Nerds', 0)\n",
      "(2, 'Luciano Hashimoto', 'Raposas Nerds', 1)\n",
      "(3, 'Rafael Montaigner', 'Raposas Nerds', 2)\n"
     ]
    }
   ],
   "source": [
    "db(\"SELECT * FROM Jogadores WHERE nome_equipe LIKE 'Rap%'\")"
   ]
  },
  {
   "cell_type": "markdown",
   "metadata": {},
   "source": [
    "Vemos apenas as linhas escolhidas. A operação de filtragem de linhas apropriadas chama-se ... **seleção**!!!\n",
    "\n",
    "![Seleção](imgs/selecao.png)\n",
    "\n",
    "Seleção e projeção são termos advindos da *álgebra relacional*, tópico que discutiremos em aulas futuras.\n",
    "\n",
    "O comando `SELECT` também pode ser usado para efetuar cálculos:"
   ]
  },
  {
   "cell_type": "code",
   "execution_count": 18,
   "metadata": {},
   "outputs": [
    {
     "name": "stdout",
     "output_type": "stream",
     "text": [
      "Executando query:\n",
      "(2,)\n"
     ]
    }
   ],
   "source": [
    "db('SELECT 1 + 1')"
   ]
  },
  {
   "cell_type": "markdown",
   "metadata": {},
   "source": [
    "## Onde foram parar os dados?\n",
    "\n",
    "MySQL mantém um grande conjunto de variáveis globais para que possamos verificar o estado do sistema. Podemos consultar essas variáveis usando SQL! Afinal, se queremos armazenar informação (neste caso, sobre o próprio sistema), nada melhor que um SGBD!"
   ]
  },
  {
   "cell_type": "code",
   "execution_count": 19,
   "metadata": {
    "tags": []
   },
   "outputs": [],
   "source": [
    "# db('SHOW VARIABLES')"
   ]
  },
  {
   "cell_type": "markdown",
   "metadata": {},
   "source": [
    "Para descobrir o valor de uma variável específica, use a cláusula `WHERE`:"
   ]
  },
  {
   "cell_type": "code",
   "execution_count": 20,
   "metadata": {},
   "outputs": [
    {
     "name": "stdout",
     "output_type": "stream",
     "text": [
      "Executando query:\n",
      "('version', '8.0.30')\n"
     ]
    }
   ],
   "source": [
    "db('SHOW VARIABLES WHERE Variable_name = \"version\"')"
   ]
  },
  {
   "cell_type": "markdown",
   "metadata": {},
   "source": [
    "Para listar todas as variáveis com \"dir\" no nome:"
   ]
  },
  {
   "cell_type": "code",
   "execution_count": 21,
   "metadata": {},
   "outputs": [
    {
     "name": "stdout",
     "output_type": "stream",
     "text": [
      "Executando query:\n",
      "('basedir', 'C:\\\\Program Files\\\\MySQL\\\\MySQL Server 8.0\\\\')\n",
      "('binlog_direct_non_transactional_updates', 'OFF')\n",
      "('character_sets_dir', 'C:\\\\Program Files\\\\MySQL\\\\MySQL Server 8.0\\\\share\\\\charsets\\\\')\n",
      "('datadir', 'C:\\\\ProgramData\\\\MySQL\\\\MySQL Server 8.0\\\\Data\\\\')\n",
      "('innodb_data_home_dir', '')\n",
      "('innodb_directories', '')\n",
      "('innodb_doublewrite_dir', '')\n",
      "('innodb_log_group_home_dir', '.\\\\')\n",
      "('innodb_max_dirty_pages_pct', '90.000000')\n",
      "('innodb_max_dirty_pages_pct_lwm', '10.000000')\n",
      "('innodb_redo_log_archive_dirs', '')\n",
      "('innodb_temp_tablespaces_dir', '.\\\\#innodb_temp\\\\')\n",
      "('innodb_tmpdir', '')\n",
      "('innodb_undo_directory', '.\\\\')\n",
      "('lc_messages_dir', 'C:\\\\Program Files\\\\MySQL\\\\MySQL Server 8.0\\\\share\\\\')\n",
      "('plugin_dir', 'C:\\\\Program Files\\\\MySQL\\\\MySQL Server 8.0\\\\lib\\\\plugin\\\\')\n",
      "('replica_load_tmpdir', 'C:\\\\WINDOWS\\\\SERVIC~1\\\\NETWOR~1\\\\AppData\\\\Local\\\\Temp')\n",
      "('slave_load_tmpdir', 'C:\\\\WINDOWS\\\\SERVIC~1\\\\NETWOR~1\\\\AppData\\\\Local\\\\Temp')\n",
      "('tmpdir', 'C:\\\\WINDOWS\\\\SERVIC~1\\\\NETWOR~1\\\\AppData\\\\Local\\\\Temp')\n"
     ]
    }
   ],
   "source": [
    "db('SHOW VARIABLES WHERE Variable_name LIKE \"%dir%\"')"
   ]
  },
  {
   "cell_type": "markdown",
   "metadata": {},
   "source": [
    "Observe a variável `datadir`: ela contém o diretório onde o MySQL armazena nossos dados. Na minha máquina é `C:\\ProgramData\\MySQL\\MySQL Server 8.0\\Data\\`\n",
    "\n",
    "<center><img src='imgs/datadir.png'/></center>\n",
    "\n",
    "Note que esse diretório também tem várias chaves criptográficas! Uma vez que o acesso físico ao seu servidor for comprometido, você pode perder completamente o controle, pois o invasor agora tem até mesmo as chaves de acesso!\n",
    "\n",
    "Dentro do diretório `torneio` temos nossa base de dados no disco:\n",
    "\n",
    "<center><img src='imgs/torneio.png'/></center>\n"
   ]
  },
  {
   "cell_type": "markdown",
   "metadata": {},
   "source": [
    "## Carregando dados em massa\n",
    "\n",
    "Se você tem um arquivo com vários itens de dados, o melhor jeito de inserí-los no banco de dados é usar os comandos de carga de dados do seu SGBD preferido. No MySQL, veja a documentação do comando `LOAD DATA` em https://dev.mysql.com/doc/refman/8.0/en/load-data.html\n",
    "\n",
    "Daqui para frente acostume-se a consultar a documentação de todo novo comando que você descobrir!\n",
    "\n",
    "# `UPDATE`\n",
    "\n",
    "Vamos alterar informações na nossa base. Para isso vamos usar o comando `UPDATE`. \n",
    "\n",
    "Suponha que desejamos alterar o grito de guerra da equipe \"Raposas Nerds\" de 'sudo vencer!' para 'sudo vencer --force!':"
   ]
  },
  {
   "cell_type": "code",
   "execution_count": 22,
   "metadata": {},
   "outputs": [
    {
     "name": "stdout",
     "output_type": "stream",
     "text": [
      "Executando query:\n"
     ]
    }
   ],
   "source": [
    "db('UPDATE Equipes SET grito=\"sudo vencer --force!\" WHERE nome=\"Raposas Nerds\"')"
   ]
  },
  {
   "cell_type": "markdown",
   "metadata": {},
   "source": [
    "Verificando o resultado:"
   ]
  },
  {
   "cell_type": "code",
   "execution_count": 23,
   "metadata": {},
   "outputs": [
    {
     "name": "stdout",
     "output_type": "stream",
     "text": [
      "Executando query:\n",
      "('É nois', 'Olha eu mamãe!')\n",
      "('Raposas Nerds', 'sudo vencer --force!')\n"
     ]
    }
   ],
   "source": [
    "db('SELECT * from Equipes')"
   ]
  },
  {
   "cell_type": "markdown",
   "metadata": {},
   "source": [
    "**Atividade:** Passe o \"Rafael Montaigner\" para o time \"É nois\"."
   ]
  },
  {
   "cell_type": "code",
   "execution_count": 24,
   "metadata": {},
   "outputs": [
    {
     "name": "stdout",
     "output_type": "stream",
     "text": [
      "Executando query:\n"
     ]
    }
   ],
   "source": [
    "db('UPDATE Jogadores SET nome_equipe=\"É nois\" WHERE id=\"3\"')"
   ]
  },
  {
   "cell_type": "code",
   "execution_count": 25,
   "metadata": {},
   "outputs": [
    {
     "name": "stdout",
     "output_type": "stream",
     "text": [
      "Executando query:\n",
      "(1, 'Raul Ayres', 'Raposas Nerds', 0)\n",
      "(2, 'Luciano Hashimoto', 'Raposas Nerds', 1)\n",
      "(3, 'Rafael Montaigner', 'É nois', 2)\n",
      "(4, 'Igor Miranda', 'É nois', 2)\n",
      "(5, 'Andrew Ikeda', 'É nois', 1)\n",
      "(6, 'Fábio Kurauchi', 'É nois', 0)\n"
     ]
    }
   ],
   "source": [
    "db('SELECT * from Jogadores')"
   ]
  },
  {
   "cell_type": "markdown",
   "metadata": {},
   "source": [
    "**Atividade:** Tente mudar o nome de \"Andrew Ikeda\" para \"Andrew Gomes da Silva\". O que aconteceu?"
   ]
  },
  {
   "cell_type": "code",
   "execution_count": 26,
   "metadata": {},
   "outputs": [
    {
     "name": "stdout",
     "output_type": "stream",
     "text": [
      "Executando query:\n"
     ]
    }
   ],
   "source": [
    "db('UPDATE Jogadores SET nome=\"Andrew Gomes da Silva\" WHERE id=\"5\"')"
   ]
  },
  {
   "cell_type": "code",
   "execution_count": 27,
   "metadata": {},
   "outputs": [
    {
     "name": "stdout",
     "output_type": "stream",
     "text": [
      "Executando query:\n",
      "(1, 'Raul Ayres', 'Raposas Nerds', 0)\n",
      "(2, 'Luciano Hashimoto', 'Raposas Nerds', 1)\n",
      "(3, 'Rafael Montaigner', 'É nois', 2)\n",
      "(4, 'Igor Miranda', 'É nois', 2)\n",
      "(5, 'Andrew Gomes da Silva', 'É nois', 1)\n",
      "(6, 'Fábio Kurauchi', 'É nois', 0)\n"
     ]
    }
   ],
   "source": [
    "db('SELECT * from Jogadores')"
   ]
  },
  {
   "cell_type": "markdown",
   "metadata": {},
   "source": [
    "**Atividade:** Tente agora mudar o nome do time \"É nois\" para \"Somos nos\". O que aconteceu?"
   ]
  },
  {
   "cell_type": "code",
   "execution_count": 28,
   "metadata": {},
   "outputs": [
    {
     "name": "stdout",
     "output_type": "stream",
     "text": [
      "Executando query:\n"
     ]
    },
    {
     "ename": "IntegrityError",
     "evalue": "1451 (23000): Cannot delete or update a parent row: a foreign key constraint fails (`torneio`.`jogadores`, CONSTRAINT `fk_equipe` FOREIGN KEY (`nome_equipe`) REFERENCES `equipes` (`nome`))",
     "output_type": "error",
     "traceback": [
      "\u001b[1;31m---------------------------------------------------------------------------\u001b[0m",
      "\u001b[1;31mMySQLInterfaceError\u001b[0m                       Traceback (most recent call last)",
      "\u001b[1;32m~\\Anaconda3\\lib\\site-packages\\mysql\\connector\\connection_cext.py\u001b[0m in \u001b[0;36mcmd_query\u001b[1;34m(self, query, raw, buffered, raw_as_string)\u001b[0m\n\u001b[0;32m    559\u001b[0m                 \u001b[0mraw_as_string\u001b[0m\u001b[1;33m=\u001b[0m\u001b[0mraw_as_string\u001b[0m\u001b[1;33m,\u001b[0m\u001b[1;33m\u001b[0m\u001b[1;33m\u001b[0m\u001b[0m\n\u001b[1;32m--> 560\u001b[1;33m                 \u001b[0mquery_attrs\u001b[0m\u001b[1;33m=\u001b[0m\u001b[0mself\u001b[0m\u001b[1;33m.\u001b[0m\u001b[0m_query_attrs\u001b[0m\u001b[1;33m,\u001b[0m\u001b[1;33m\u001b[0m\u001b[1;33m\u001b[0m\u001b[0m\n\u001b[0m\u001b[0;32m    561\u001b[0m             )\n",
      "\u001b[1;31mMySQLInterfaceError\u001b[0m: Cannot delete or update a parent row: a foreign key constraint fails (`torneio`.`jogadores`, CONSTRAINT `fk_equipe` FOREIGN KEY (`nome_equipe`) REFERENCES `equipes` (`nome`))",
      "\nThe above exception was the direct cause of the following exception:\n",
      "\u001b[1;31mIntegrityError\u001b[0m                            Traceback (most recent call last)",
      "\u001b[1;32m<ipython-input-28-70d7dec11bd5>\u001b[0m in \u001b[0;36m<module>\u001b[1;34m\u001b[0m\n\u001b[1;32m----> 1\u001b[1;33m \u001b[0mdb\u001b[0m\u001b[1;33m(\u001b[0m\u001b[1;34m'UPDATE Equipes SET nome=\"Somos nós\" WHERE nome=\"É nois\"'\u001b[0m\u001b[1;33m)\u001b[0m\u001b[1;33m\u001b[0m\u001b[1;33m\u001b[0m\u001b[0m\n\u001b[0m",
      "\u001b[1;32m<ipython-input-12-80c6882e5688>\u001b[0m in \u001b[0;36m__call__\u001b[1;34m(self, query, args)\u001b[0m\n\u001b[0;32m      7\u001b[0m         \u001b[1;32mwith\u001b[0m \u001b[0mself\u001b[0m\u001b[1;33m.\u001b[0m\u001b[0mconnection\u001b[0m\u001b[1;33m.\u001b[0m\u001b[0mcursor\u001b[0m\u001b[1;33m(\u001b[0m\u001b[1;33m)\u001b[0m \u001b[1;32mas\u001b[0m \u001b[0mcursor\u001b[0m\u001b[1;33m:\u001b[0m\u001b[1;33m\u001b[0m\u001b[1;33m\u001b[0m\u001b[0m\n\u001b[0;32m      8\u001b[0m             \u001b[0mprint\u001b[0m\u001b[1;33m(\u001b[0m\u001b[1;34m'Executando query:'\u001b[0m\u001b[1;33m)\u001b[0m\u001b[1;33m\u001b[0m\u001b[1;33m\u001b[0m\u001b[0m\n\u001b[1;32m----> 9\u001b[1;33m             \u001b[0mcursor\u001b[0m\u001b[1;33m.\u001b[0m\u001b[0mexecute\u001b[0m\u001b[1;33m(\u001b[0m\u001b[0mquery\u001b[0m\u001b[1;33m,\u001b[0m \u001b[0margs\u001b[0m\u001b[1;33m)\u001b[0m\u001b[1;33m\u001b[0m\u001b[1;33m\u001b[0m\u001b[0m\n\u001b[0m\u001b[0;32m     10\u001b[0m             \u001b[1;32mfor\u001b[0m \u001b[0mresult\u001b[0m \u001b[1;32min\u001b[0m \u001b[0mcursor\u001b[0m\u001b[1;33m:\u001b[0m\u001b[1;33m\u001b[0m\u001b[1;33m\u001b[0m\u001b[0m\n\u001b[0;32m     11\u001b[0m                 \u001b[0mprint\u001b[0m\u001b[1;33m(\u001b[0m\u001b[0mresult\u001b[0m\u001b[1;33m)\u001b[0m\u001b[1;33m\u001b[0m\u001b[1;33m\u001b[0m\u001b[0m\n",
      "\u001b[1;32m~\\Anaconda3\\lib\\site-packages\\mysql\\connector\\cursor_cext.py\u001b[0m in \u001b[0;36mexecute\u001b[1;34m(self, operation, params, multi)\u001b[0m\n\u001b[0;32m    278\u001b[0m                 \u001b[0mraw\u001b[0m\u001b[1;33m=\u001b[0m\u001b[0mself\u001b[0m\u001b[1;33m.\u001b[0m\u001b[0m_raw\u001b[0m\u001b[1;33m,\u001b[0m\u001b[1;33m\u001b[0m\u001b[1;33m\u001b[0m\u001b[0m\n\u001b[0;32m    279\u001b[0m                 \u001b[0mbuffered\u001b[0m\u001b[1;33m=\u001b[0m\u001b[0mself\u001b[0m\u001b[1;33m.\u001b[0m\u001b[0m_buffered\u001b[0m\u001b[1;33m,\u001b[0m\u001b[1;33m\u001b[0m\u001b[1;33m\u001b[0m\u001b[0m\n\u001b[1;32m--> 280\u001b[1;33m                 \u001b[0mraw_as_string\u001b[0m\u001b[1;33m=\u001b[0m\u001b[0mself\u001b[0m\u001b[1;33m.\u001b[0m\u001b[0m_raw_as_string\u001b[0m\u001b[1;33m,\u001b[0m\u001b[1;33m\u001b[0m\u001b[1;33m\u001b[0m\u001b[0m\n\u001b[0m\u001b[0;32m    281\u001b[0m             )\n\u001b[0;32m    282\u001b[0m         \u001b[1;32mexcept\u001b[0m \u001b[0mMySQLInterfaceError\u001b[0m \u001b[1;32mas\u001b[0m \u001b[0merr\u001b[0m\u001b[1;33m:\u001b[0m\u001b[1;33m\u001b[0m\u001b[1;33m\u001b[0m\u001b[0m\n",
      "\u001b[1;32m~\\Anaconda3\\lib\\site-packages\\mysql\\connector\\connection_cext.py\u001b[0m in \u001b[0;36mcmd_query\u001b[1;34m(self, query, raw, buffered, raw_as_string)\u001b[0m\n\u001b[0;32m    563\u001b[0m             raise get_mysql_exception(\n\u001b[0;32m    564\u001b[0m                 \u001b[0merr\u001b[0m\u001b[1;33m.\u001b[0m\u001b[0merrno\u001b[0m\u001b[1;33m,\u001b[0m \u001b[0mmsg\u001b[0m\u001b[1;33m=\u001b[0m\u001b[0merr\u001b[0m\u001b[1;33m.\u001b[0m\u001b[0mmsg\u001b[0m\u001b[1;33m,\u001b[0m \u001b[0msqlstate\u001b[0m\u001b[1;33m=\u001b[0m\u001b[0merr\u001b[0m\u001b[1;33m.\u001b[0m\u001b[0msqlstate\u001b[0m\u001b[1;33m\u001b[0m\u001b[1;33m\u001b[0m\u001b[0m\n\u001b[1;32m--> 565\u001b[1;33m             ) from err\n\u001b[0m\u001b[0;32m    566\u001b[0m         \u001b[1;32mexcept\u001b[0m \u001b[0mAttributeError\u001b[0m \u001b[1;32mas\u001b[0m \u001b[0merr\u001b[0m\u001b[1;33m:\u001b[0m\u001b[1;33m\u001b[0m\u001b[1;33m\u001b[0m\u001b[0m\n\u001b[0;32m    567\u001b[0m             addr = (\n",
      "\u001b[1;31mIntegrityError\u001b[0m: 1451 (23000): Cannot delete or update a parent row: a foreign key constraint fails (`torneio`.`jogadores`, CONSTRAINT `fk_equipe` FOREIGN KEY (`nome_equipe`) REFERENCES `equipes` (`nome`))"
     ]
    }
   ],
   "source": [
    "db('UPDATE Equipes SET nome=\"Somos nós\" WHERE nome=\"É nois\"')"
   ]
  },
  {
   "cell_type": "markdown",
   "metadata": {},
   "source": [
    "1451 (23000): Cannot delete or update a parent row: a foreign key constraint fails (`torneio`.`jogadores`, CONSTRAINT `fk_equipe` FOREIGN KEY (`nome_equipe`) REFERENCES `equipes` (`nome`))"
   ]
  },
  {
   "cell_type": "markdown",
   "metadata": {},
   "source": [
    "## `COMMIT` e `ROLLBACK`\n",
    "\n",
    "Note que as ultimas atividades (de `UPDATE`) foram feitas sem executar `connection.commit()`. Neste caso todas as modificações realizadas ainda não foram registradas no banco de dados! Estas mudanças existem apenas na nossa *sessão*. Vamos verificar esse fenômeno. Primeiro vamos ver o estado das nossas tabelas:"
   ]
  },
  {
   "cell_type": "code",
   "execution_count": 29,
   "metadata": {},
   "outputs": [
    {
     "name": "stdout",
     "output_type": "stream",
     "text": [
      "Executando query:\n",
      "(1, 'Raul Ayres', 'Raposas Nerds', 0)\n",
      "(2, 'Luciano Hashimoto', 'Raposas Nerds', 1)\n",
      "(3, 'Rafael Montaigner', 'É nois', 2)\n",
      "(4, 'Igor Miranda', 'É nois', 2)\n",
      "(5, 'Andrew Gomes da Silva', 'É nois', 1)\n",
      "(6, 'Fábio Kurauchi', 'É nois', 0)\n"
     ]
    }
   ],
   "source": [
    "db('SELECT * FROM Jogadores')"
   ]
  },
  {
   "cell_type": "code",
   "execution_count": 30,
   "metadata": {},
   "outputs": [
    {
     "name": "stdout",
     "output_type": "stream",
     "text": [
      "Executando query:\n",
      "('É nois', 'Olha eu mamãe!')\n",
      "('Raposas Nerds', 'sudo vencer --force!')\n"
     ]
    }
   ],
   "source": [
    "db('SELECT * FROM Equipes')"
   ]
  },
  {
   "cell_type": "markdown",
   "metadata": {},
   "source": [
    "Agora vamos verificar o estado do banco de dados lá no MySQL Workbench:\n",
    "\n",
    "<center><img src='imgs/equipes.png'/></center>\n",
    "\n",
    "<center><img src='imgs/jogadores.png'/></center>\n",
    "\n",
    "Está diferente! Isso acontece porque as mudanças da nossa sessão ainda não foram *committed*, não foram registradas em definitivo. Para registrar as mudanças você pode executar o comando `connection.commit()`, ou equivalentemente rodar o comando SQL `COMMIT`. Se você se arrependeu das mudanças realizadas na sessão, jogue elas fora com o comando `connection.rollback()` ou equivalentemente o comando SQL `ROLLBACK`.\n",
    "\n",
    "Vamos então concretizar nossas mudanças:"
   ]
  },
  {
   "cell_type": "code",
   "execution_count": 31,
   "metadata": {},
   "outputs": [],
   "source": [
    "connection.commit()\n",
    "# ou então db('COMMIT'), é a mesma coisa."
   ]
  },
  {
   "cell_type": "markdown",
   "metadata": {},
   "source": [
    "Agora vamos verificar lá no MySQL Workbench:\n",
    "\n",
    "<center><img src='imgs/equipes2.png'/></center>\n",
    "\n",
    "<center><img src='imgs/jogadores2.png'/></center>"
   ]
  },
  {
   "cell_type": "markdown",
   "metadata": {},
   "source": [
    "Podemos constatar que as mudanças feitas na nossa sessão agora são visíveis na outra sessão (a do MySQL Workbench). Vamos revisitar futuramente os comandos `COMMIT` e `ROLLBACK` na aula de transações SQL."
   ]
  },
  {
   "cell_type": "markdown",
   "metadata": {},
   "source": [
    "## `DELETE`"
   ]
  },
  {
   "cell_type": "markdown",
   "metadata": {},
   "source": [
    "Vamos remover o 'Fábio Kurauchi' da tabela `Jogadores`"
   ]
  },
  {
   "cell_type": "code",
   "execution_count": 32,
   "metadata": {},
   "outputs": [
    {
     "name": "stdout",
     "output_type": "stream",
     "text": [
      "Executando query:\n"
     ]
    }
   ],
   "source": [
    "try:\n",
    "    db('DELETE FROM Jogadores WHERE nome=\"Fábio Kurauchi\"')\n",
    "    connection.commit()\n",
    "except Exception as e:\n",
    "    print(f'{type(e)}: {e}')\n",
    "    connection.rollback()"
   ]
  },
  {
   "cell_type": "markdown",
   "metadata": {},
   "source": [
    "Verificando o resultado:"
   ]
  },
  {
   "cell_type": "code",
   "execution_count": 33,
   "metadata": {},
   "outputs": [
    {
     "name": "stdout",
     "output_type": "stream",
     "text": [
      "Executando query:\n",
      "(1, 'Raul Ayres', 'Raposas Nerds', 0)\n",
      "(2, 'Luciano Hashimoto', 'Raposas Nerds', 1)\n",
      "(3, 'Rafael Montaigner', 'É nois', 2)\n",
      "(4, 'Igor Miranda', 'É nois', 2)\n",
      "(5, 'Andrew Gomes da Silva', 'É nois', 1)\n"
     ]
    }
   ],
   "source": [
    "db('SELECT * FROM Jogadores')"
   ]
  },
  {
   "cell_type": "markdown",
   "metadata": {},
   "source": [
    "**Atividade:** Remova da tabela de jogadores todos aqueles que preferem jogar cowboy."
   ]
  },
  {
   "cell_type": "code",
   "execution_count": 34,
   "metadata": {},
   "outputs": [
    {
     "name": "stdout",
     "output_type": "stream",
     "text": [
      "Executando query:\n"
     ]
    }
   ],
   "source": [
    "db('DELETE FROM Jogadores WHERE preferencia=\"1\"')"
   ]
  },
  {
   "cell_type": "code",
   "execution_count": 35,
   "metadata": {},
   "outputs": [
    {
     "name": "stdout",
     "output_type": "stream",
     "text": [
      "Executando query:\n",
      "(1, 'Raul Ayres', 'Raposas Nerds', 0)\n",
      "(3, 'Rafael Montaigner', 'É nois', 2)\n",
      "(4, 'Igor Miranda', 'É nois', 2)\n"
     ]
    }
   ],
   "source": [
    "db('SELECT * FROM Jogadores')"
   ]
  },
  {
   "cell_type": "markdown",
   "metadata": {},
   "source": [
    "Agora vamos tentar remover o time 'É nois':"
   ]
  },
  {
   "cell_type": "code",
   "execution_count": 36,
   "metadata": {},
   "outputs": [
    {
     "name": "stdout",
     "output_type": "stream",
     "text": [
      "Executando query:\n",
      "<class 'mysql.connector.errors.IntegrityError'>: 1451 (23000): Cannot delete or update a parent row: a foreign key constraint fails (`torneio`.`jogadores`, CONSTRAINT `fk_equipe` FOREIGN KEY (`nome_equipe`) REFERENCES `equipes` (`nome`))\n"
     ]
    }
   ],
   "source": [
    "try:\n",
    "    db('DELETE FROM Equipes WHERE nome=\"É nois\"')\n",
    "    connection.commit()\n",
    "except Exception as e:\n",
    "    print(f'{type(e)}: {e}')\n",
    "    connection.rollback()"
   ]
  },
  {
   "cell_type": "markdown",
   "metadata": {},
   "source": [
    "Novamente o malfadado erro `IntegrityError`. Isso acontece porque o SGBD está fazendo exatamente o que você pediu: garantindo a integridade dos dados! Afinal, se removermos a equipe `'É nois'`, o que fazemos com as linhas da tabela-filha que referenciam esse registro?\n",
    "\n",
    "A restrição de chave estrangeira no nome da equipe (em `script_001.sql` ela foi chamada de `fk_equipe`) especifica, implicitamente, que a ação de apagar um registro deve ser bloqueada se impactar tabelas filhas. Podemos mudar essa restrição.\n",
    "\n",
    "## `ON UPDATE / ON DELETE`\n",
    "\n",
    "Vamos reescrever a restrição de chave estrangeira. Copie o script a seguir para `script_002.sql`.\n",
    "\n",
    "```SQL\n",
    "USE torneio;\n",
    "\n",
    "ALTER TABLE Jogadores\n",
    "    DROP FOREIGN KEY fk_equipe;\n",
    "\n",
    "ALTER TABLE Jogadores\n",
    "    ADD CONSTRAINT fk_equipe FOREIGN KEY (nome_equipe) REFERENCES Equipes (nome)\n",
    "    ON DELETE CASCADE\n",
    "    ON UPDATE CASCADE;\n",
    "\n",
    "```"
   ]
  },
  {
   "cell_type": "markdown",
   "metadata": {},
   "source": [
    "Feche a conexão atual com o banco de dados: ela está bloqueando alterações no schema. Não se esqueça de efetivar as modificações passadas com `commit()`, se elas não foram *committed* até o momento:"
   ]
  },
  {
   "cell_type": "code",
   "execution_count": 37,
   "metadata": {},
   "outputs": [],
   "source": [
    "connection.commit()\n",
    "connection.close()"
   ]
  },
  {
   "cell_type": "markdown",
   "metadata": {},
   "source": [
    "Agora rode `script_002.sql` no MySQL Workbench. Se tudo deu certo você deve observar a mudança de ação na restrição de chave estrageira:\n",
    "\n",
    "<center><img src='imgs/cascade.png'/></center>\n",
    "\n",
    "Reabra a conexão e recrie o *helper*"
   ]
  },
  {
   "cell_type": "code",
   "execution_count": 38,
   "metadata": {},
   "outputs": [],
   "source": [
    "connection = mysql.connector.connect(**connection_options)\n",
    "db = ConnectionHelper(connection)"
   ]
  },
  {
   "cell_type": "markdown",
   "metadata": {},
   "source": [
    "Vamos agora tentar mudar o nome da equipe 'É nois' para 'Somos nós':"
   ]
  },
  {
   "cell_type": "code",
   "execution_count": 39,
   "metadata": {},
   "outputs": [
    {
     "name": "stdout",
     "output_type": "stream",
     "text": [
      "Executando query:\n"
     ]
    }
   ],
   "source": [
    "db('UPDATE Equipes SET nome=\"Somos nós\" WHERE nome=\"É nois\"')"
   ]
  },
  {
   "cell_type": "markdown",
   "metadata": {},
   "source": [
    "Verificando o resultado:"
   ]
  },
  {
   "cell_type": "code",
   "execution_count": 40,
   "metadata": {},
   "outputs": [
    {
     "name": "stdout",
     "output_type": "stream",
     "text": [
      "Executando query:\n",
      "('Raposas Nerds', 'sudo vencer --force!')\n",
      "('Somos nós', 'Olha eu mamãe!')\n"
     ]
    }
   ],
   "source": [
    "db('SELECT * from Equipes')"
   ]
  },
  {
   "cell_type": "markdown",
   "metadata": {},
   "source": [
    "Vamos verificar o que aconteceu com a tabela Jogadores"
   ]
  },
  {
   "cell_type": "code",
   "execution_count": 41,
   "metadata": {},
   "outputs": [
    {
     "name": "stdout",
     "output_type": "stream",
     "text": [
      "Executando query:\n",
      "(1, 'Raul Ayres', 'Raposas Nerds', 0)\n",
      "(2, 'Luciano Hashimoto', 'Raposas Nerds', 1)\n",
      "(3, 'Rafael Montaigner', 'Somos nós', 2)\n",
      "(4, 'Igor Miranda', 'Somos nós', 2)\n",
      "(5, 'Andrew Gomes da Silva', 'Somos nós', 1)\n"
     ]
    }
   ],
   "source": [
    "db('SELECT * FROM Jogadores')"
   ]
  },
  {
   "cell_type": "markdown",
   "metadata": {},
   "source": [
    "Como você pode ver, a mudança de nome foi devidamente propagada, cortesia do `ON UPDATE CASCADE`.\n",
    "\n",
    "Já o `ON DELETE CASCADE` é mais bruto. Vamos remover o time 'Somos nós':"
   ]
  },
  {
   "cell_type": "code",
   "execution_count": 42,
   "metadata": {},
   "outputs": [
    {
     "name": "stdout",
     "output_type": "stream",
     "text": [
      "Executando query:\n"
     ]
    }
   ],
   "source": [
    "db('DELETE FROM Equipes WHERE nome=\"Somos nós\"')"
   ]
  },
  {
   "cell_type": "code",
   "execution_count": 43,
   "metadata": {},
   "outputs": [
    {
     "name": "stdout",
     "output_type": "stream",
     "text": [
      "Executando query:\n",
      "('Raposas Nerds', 'sudo vencer --force!')\n"
     ]
    }
   ],
   "source": [
    "db('SELECT * from Equipes')"
   ]
  },
  {
   "cell_type": "markdown",
   "metadata": {},
   "source": [
    "Ok. E os jogadores?"
   ]
  },
  {
   "cell_type": "code",
   "execution_count": 44,
   "metadata": {},
   "outputs": [
    {
     "name": "stdout",
     "output_type": "stream",
     "text": [
      "Executando query:\n",
      "(1, 'Raul Ayres', 'Raposas Nerds', 0)\n",
      "(2, 'Luciano Hashimoto', 'Raposas Nerds', 1)\n"
     ]
    }
   ],
   "source": [
    "db('SELECT * FROM Jogadores')"
   ]
  },
  {
   "cell_type": "markdown",
   "metadata": {},
   "source": [
    "A ação `CASCADE` associada ao evento `ON DELETE` acabou por limpar a tabela `Jogadores` tambem.\n",
    "\n",
    "Vamos cancelar todas essas ações com o comando `rollback()`, que é o oposto de `commit()`"
   ]
  },
  {
   "cell_type": "code",
   "execution_count": 45,
   "metadata": {},
   "outputs": [],
   "source": [
    "connection.rollback()"
   ]
  },
  {
   "cell_type": "markdown",
   "metadata": {},
   "source": [
    "Verificando se deu certo:"
   ]
  },
  {
   "cell_type": "code",
   "execution_count": 46,
   "metadata": {},
   "outputs": [
    {
     "name": "stdout",
     "output_type": "stream",
     "text": [
      "Executando query:\n",
      "(1, 'Raul Ayres', 'Raposas Nerds', 0)\n",
      "(2, 'Luciano Hashimoto', 'Raposas Nerds', 1)\n",
      "(3, 'Rafael Montaigner', 'É nois', 2)\n",
      "(4, 'Igor Miranda', 'É nois', 2)\n",
      "(5, 'Andrew Gomes da Silva', 'É nois', 1)\n"
     ]
    }
   ],
   "source": [
    "db('SELECT * FROM Jogadores')"
   ]
  },
  {
   "cell_type": "markdown",
   "metadata": {},
   "source": [
    "**Atividade:** Alem de `CASCADE` e `RESTRICT` existem outros especificadores de ação. Ache a URL da documentação que mostra essas opções."
   ]
  },
  {
   "cell_type": "markdown",
   "metadata": {},
   "source": [
    "**R:** https://dev.mysql.com/doc/refman/8.0/en/create-table-foreign-keys.html"
   ]
  },
  {
   "cell_type": "markdown",
   "metadata": {},
   "source": [
    "## `REPLACE` = `DELETE` + `INSERT`\n",
    "\n",
    "O comando `REPLACE` lembra um pouco o comando `UPDATE`, e é aí que mora o perigo! `REPLACE` é na verdade uma combinação de `DELETE` seguido de `INSERT`. Vamos exemplificar: suponha que eu quero atualizar o grito do time 'É nois' para 'Vai dar ruim!', mas ao invés de usar o `UPDATE` resolvi usar o `REPLACE`:"
   ]
  },
  {
   "cell_type": "code",
   "execution_count": 47,
   "metadata": {},
   "outputs": [
    {
     "name": "stdout",
     "output_type": "stream",
     "text": [
      "Executando query:\n",
      "('É nois', 'Olha eu mamãe!')\n",
      "('Raposas Nerds', 'sudo vencer --force!')\n",
      "Executando query:\n",
      "(1, 'Raul Ayres', 'Raposas Nerds', 0)\n",
      "(2, 'Luciano Hashimoto', 'Raposas Nerds', 1)\n",
      "(3, 'Rafael Montaigner', 'É nois', 2)\n",
      "(4, 'Igor Miranda', 'É nois', 2)\n",
      "(5, 'Andrew Gomes da Silva', 'É nois', 1)\n"
     ]
    }
   ],
   "source": [
    "db('SELECT * from Equipes')\n",
    "db('SELECT * from Jogadores')"
   ]
  },
  {
   "cell_type": "code",
   "execution_count": 48,
   "metadata": {},
   "outputs": [
    {
     "name": "stdout",
     "output_type": "stream",
     "text": [
      "Executando query:\n"
     ]
    }
   ],
   "source": [
    "db('REPLACE INTO Equipes VALUES (\"É nois\", \"Vai dar ruim!\")')"
   ]
  },
  {
   "cell_type": "code",
   "execution_count": 49,
   "metadata": {},
   "outputs": [
    {
     "name": "stdout",
     "output_type": "stream",
     "text": [
      "Executando query:\n",
      "('É nois', 'Vai dar ruim!')\n",
      "('Raposas Nerds', 'sudo vencer --force!')\n"
     ]
    }
   ],
   "source": [
    "db('SELECT * from Equipes')"
   ]
  },
  {
   "cell_type": "code",
   "execution_count": 50,
   "metadata": {},
   "outputs": [
    {
     "name": "stdout",
     "output_type": "stream",
     "text": [
      "Executando query:\n",
      "(1, 'Raul Ayres', 'Raposas Nerds', 0)\n",
      "(2, 'Luciano Hashimoto', 'Raposas Nerds', 1)\n"
     ]
    }
   ],
   "source": [
    "# Como tá no CASCADE, ele deleta e depois insere o é nois, e por isso tudo morreu yay\n",
    "db('SELECT * from Jogadores')"
   ]
  },
  {
   "cell_type": "code",
   "execution_count": 52,
   "metadata": {},
   "outputs": [
    {
     "name": "stdout",
     "output_type": "stream",
     "text": [
      "Executando query:\n",
      "('É nois', 'Olha eu mamãe!')\n",
      "('Raposas Nerds', 'sudo vencer --force!')\n",
      "Executando query:\n",
      "(1, 'Raul Ayres', 'Raposas Nerds', 0)\n",
      "(2, 'Luciano Hashimoto', 'Raposas Nerds', 1)\n",
      "(3, 'Rafael Montaigner', 'É nois', 2)\n",
      "(4, 'Igor Miranda', 'É nois', 2)\n",
      "(5, 'Andrew Gomes da Silva', 'É nois', 1)\n"
     ]
    }
   ],
   "source": [
    "connection.rollback()\n",
    "db('SELECT * from Equipes')\n",
    "db('SELECT * from Jogadores')"
   ]
  },
  {
   "cell_type": "markdown",
   "metadata": {},
   "source": [
    "Aparentemente deu ruim!\n",
    "\n",
    "**Atividade:** Explique"
   ]
  },
  {
   "cell_type": "markdown",
   "metadata": {},
   "source": [
    "**R:**"
   ]
  },
  {
   "cell_type": "markdown",
   "metadata": {},
   "source": [
    "Ufa, por hoje é só! Feche a conexão e até a próxima aula!"
   ]
  },
  {
   "cell_type": "code",
   "execution_count": 53,
   "metadata": {},
   "outputs": [],
   "source": [
    "connection.close()"
   ]
  },
  {
   "cell_type": "code",
   "execution_count": null,
   "metadata": {},
   "outputs": [],
   "source": []
  }
 ],
 "metadata": {
  "kernelspec": {
   "display_name": "Python 3",
   "language": "python",
   "name": "python3"
  },
  "language_info": {
   "codemirror_mode": {
    "name": "ipython",
    "version": 3
   },
   "file_extension": ".py",
   "mimetype": "text/x-python",
   "name": "python",
   "nbconvert_exporter": "python",
   "pygments_lexer": "ipython3",
   "version": "3.7.6"
  }
 },
 "nbformat": 4,
 "nbformat_minor": 4
}

{
 "cells": [
  {
   "cell_type": "markdown",
   "metadata": {},
   "source": [
    "# Mais sobre `SELECT `: agrupamento, subqueries"
   ]
  },
  {
   "cell_type": "markdown",
   "metadata": {},
   "source": [
    "## Introdução"
   ]
  },
  {
   "cell_type": "markdown",
   "metadata": {},
   "source": [
    "Vamos continuar nossa investigação sobre o comando `SELECT`. Desta vez usaremos a base de dados 'sakila', uma famosa base de dados de teste construída pelos autores do MySQL. \n",
    "\n",
    "Abra a URL [`https://dev.mysql.com/doc/sakila/en/`](https://dev.mysql.com/doc/sakila/en/) para conhecer melhor esta base de dados, que modela uma locadora de DVDs (riam, vocês também serão velhos um dia!). Se você não possui esta base, siga as instruções de instalação na página.\n",
    "\n",
    "Vamos também construir nosso objeto auxiliar para conectar com a base de dados, como fizemos na última aula."
   ]
  },
  {
   "cell_type": "code",
   "execution_count": 1,
   "metadata": {
    "tags": []
   },
   "outputs": [],
   "source": [
    "from functools import partial\n",
    "import mysql.connector\n",
    "\n",
    "connection = mysql.connector.connect(\n",
    "    host='localhost',\n",
    "    user='megadados',\n",
    "    password='megadados',\n",
    "    database='sakila',\n",
    ")\n",
    "\n",
    "\n",
    "def run_db_query(connection, query, args=None):\n",
    "    with connection.cursor() as cursor:\n",
    "        print('Executando query:')\n",
    "        cursor.execute(query, args)\n",
    "        for result in cursor:\n",
    "            print(result)\n",
    "\n",
    "\n",
    "db = partial(run_db_query, connection)"
   ]
  },
  {
   "cell_type": "markdown",
   "metadata": {},
   "source": [
    "## Aquecimento"
   ]
  },
  {
   "cell_type": "markdown",
   "metadata": {},
   "source": [
    "Quais os nomes das categorias de filme?"
   ]
  },
  {
   "cell_type": "code",
   "execution_count": 2,
   "metadata": {
    "scrolled": true
   },
   "outputs": [
    {
     "name": "stdout",
     "output_type": "stream",
     "text": [
      "Executando query:\n",
      "('Action',)\n",
      "('Animation',)\n",
      "('Children',)\n",
      "('Classics',)\n",
      "('Comedy',)\n",
      "('Documentary',)\n",
      "('Drama',)\n",
      "('Family',)\n",
      "('Foreign',)\n",
      "('Games',)\n",
      "('Horror',)\n",
      "('Music',)\n",
      "('New',)\n",
      "('Sci-Fi',)\n",
      "('Sports',)\n",
      "('Travel',)\n"
     ]
    }
   ],
   "source": [
    "db('SELECT name FROM category')"
   ]
  },
  {
   "cell_type": "markdown",
   "metadata": {},
   "source": [
    "Quais atores tem as iniciais \"J.D.\"?"
   ]
  },
  {
   "cell_type": "code",
   "execution_count": 3,
   "metadata": {
    "scrolled": true
   },
   "outputs": [
    {
     "name": "stdout",
     "output_type": "stream",
     "text": [
      "Executando query:\n",
      "(4, 'JENNIFER', 'DAVIS', datetime.datetime(2006, 2, 15, 4, 34, 33))\n",
      "(35, 'JUDY', 'DEAN', datetime.datetime(2006, 2, 15, 4, 34, 33))\n",
      "(41, 'JODIE', 'DEGENERES', datetime.datetime(2006, 2, 15, 4, 34, 33))\n",
      "(123, 'JULIANNE', 'DENCH', datetime.datetime(2006, 2, 15, 4, 34, 33))\n"
     ]
    }
   ],
   "source": [
    "db('''\n",
    "SELECT \n",
    "    * \n",
    "FROM\n",
    "    actor\n",
    "WHERE\n",
    "    last_name like \"D%\" AND first_name like \"J%\"\n",
    "''')"
   ]
  },
  {
   "cell_type": "markdown",
   "metadata": {},
   "source": [
    "Liste as cidades brasileiras presentes na base de dados."
   ]
  },
  {
   "cell_type": "code",
   "execution_count": 4,
   "metadata": {},
   "outputs": [
    {
     "name": "stdout",
     "output_type": "stream",
     "text": [
      "Executando query:\n",
      "('Alvorada',)\n",
      "('Angra dos Reis',)\n",
      "('Anpolis',)\n",
      "('Aparecida de Goinia',)\n",
      "('Araatuba',)\n",
      "('Bag',)\n",
      "('Belm',)\n",
      "('Blumenau',)\n",
      "('Boa Vista',)\n",
      "('Braslia',)\n",
      "('Goinia',)\n",
      "('Guaruj',)\n",
      "('guas Lindas de Gois',)\n",
      "('Ibirit',)\n",
      "('Juazeiro do Norte',)\n",
      "('Juiz de Fora',)\n",
      "('Luzinia',)\n",
      "('Maring',)\n",
      "('Po',)\n",
      "('Poos de Caldas',)\n",
      "('Rio Claro',)\n",
      "('Santa Brbara dOeste',)\n",
      "('Santo Andr',)\n",
      "('So Bernardo do Campo',)\n",
      "('So Leopoldo',)\n",
      "('Sorocaba',)\n",
      "('Vila Velha',)\n",
      "('Vitria de Santo Anto',)\n"
     ]
    }
   ],
   "source": [
    "db('''\n",
    "SELECT \n",
    "    city.city \n",
    "FROM\n",
    "    city,\n",
    "    country\n",
    "WHERE \n",
    "    city.country_id = country.country_id \n",
    "    AND country.country = \"Brazil\"\n",
    "''')"
   ]
  },
  {
   "cell_type": "code",
   "execution_count": 5,
   "metadata": {},
   "outputs": [
    {
     "name": "stdout",
     "output_type": "stream",
     "text": [
      "Executando query:\n",
      "('Alvorada',)\n",
      "('Angra dos Reis',)\n",
      "('Anpolis',)\n",
      "('Aparecida de Goinia',)\n",
      "('Araatuba',)\n",
      "('Bag',)\n",
      "('Belm',)\n",
      "('Blumenau',)\n",
      "('Boa Vista',)\n",
      "('Braslia',)\n",
      "('Goinia',)\n",
      "('Guaruj',)\n",
      "('guas Lindas de Gois',)\n",
      "('Ibirit',)\n",
      "('Juazeiro do Norte',)\n",
      "('Juiz de Fora',)\n",
      "('Luzinia',)\n",
      "('Maring',)\n",
      "('Po',)\n",
      "('Poos de Caldas',)\n",
      "('Rio Claro',)\n",
      "('Santa Brbara dOeste',)\n",
      "('Santo Andr',)\n",
      "('So Bernardo do Campo',)\n",
      "('So Leopoldo',)\n",
      "('Sorocaba',)\n",
      "('Vila Velha',)\n",
      "('Vitria de Santo Anto',)\n"
     ]
    }
   ],
   "source": [
    "db('''\n",
    "SELECT \n",
    "    city.city \n",
    "FROM\n",
    "    city \n",
    "    INNER JOIN country ON city.country_id = country.country_id \n",
    "WHERE \n",
    "    country.country = \"Brazil\"\n",
    "''')"
   ]
  },
  {
   "cell_type": "code",
   "execution_count": 6,
   "metadata": {},
   "outputs": [
    {
     "name": "stdout",
     "output_type": "stream",
     "text": [
      "Executando query:\n",
      "('Alvorada',)\n",
      "('Angra dos Reis',)\n",
      "('Anpolis',)\n",
      "('Aparecida de Goinia',)\n",
      "('Araatuba',)\n",
      "('Bag',)\n",
      "('Belm',)\n",
      "('Blumenau',)\n",
      "('Boa Vista',)\n",
      "('Braslia',)\n",
      "('Goinia',)\n",
      "('Guaruj',)\n",
      "('guas Lindas de Gois',)\n",
      "('Ibirit',)\n",
      "('Juazeiro do Norte',)\n",
      "('Juiz de Fora',)\n",
      "('Luzinia',)\n",
      "('Maring',)\n",
      "('Po',)\n",
      "('Poos de Caldas',)\n",
      "('Rio Claro',)\n",
      "('Santa Brbara dOeste',)\n",
      "('Santo Andr',)\n",
      "('So Bernardo do Campo',)\n",
      "('So Leopoldo',)\n",
      "('Sorocaba',)\n",
      "('Vila Velha',)\n",
      "('Vitria de Santo Anto',)\n"
     ]
    }
   ],
   "source": [
    "db('''\n",
    "SELECT \n",
    "    city.city \n",
    "FROM\n",
    "    city \n",
    "    INNER JOIN country USING(country_id)\n",
    "WHERE \n",
    "    country.country = \"Brazil\"\n",
    "''')"
   ]
  },
  {
   "cell_type": "markdown",
   "metadata": {},
   "source": [
    "*Quantas* cidades brasileiras tem na base de dados?"
   ]
  },
  {
   "cell_type": "code",
   "execution_count": 7,
   "metadata": {},
   "outputs": [
    {
     "name": "stdout",
     "output_type": "stream",
     "text": [
      "Executando query:\n",
      "(28,)\n"
     ]
    }
   ],
   "source": [
    "db('''\n",
    "SELECT \n",
    "    COUNT(city.city) \n",
    "FROM\n",
    "    city,\n",
    "    country\n",
    "WHERE \n",
    "    city.country_id = country.country_id \n",
    "    AND country.country = \"Brazil\"\n",
    "''')"
   ]
  },
  {
   "cell_type": "markdown",
   "metadata": {},
   "source": [
    "Liste os filmes do ator (fictício) \"Dan Harris\""
   ]
  },
  {
   "cell_type": "code",
   "execution_count": 8,
   "metadata": {},
   "outputs": [
    {
     "name": "stdout",
     "output_type": "stream",
     "text": [
      "Executando query:\n",
      "('BEDAZZLED MARRIED',)\n",
      "('BOONDOCK BALLROOM',)\n",
      "('DESTINY SATURDAY',)\n",
      "('DIVINE RESURRECTION',)\n",
      "('EYES DRIVING',)\n",
      "('FELLOWSHIP AUTUMN',)\n",
      "('GHOST GROUNDHOG',)\n",
      "('GROOVE FICTION',)\n",
      "('HILLS NEIGHBORS',)\n",
      "('HOLIDAY GAMES',)\n",
      "('INDEPENDENCE HOTEL',)\n",
      "('INSIDER ARIZONA',)\n",
      "('JADE BUNCH',)\n",
      "('LIES TREATMENT',)\n",
      "('MONTEREY LABYRINTH',)\n",
      "('REUNION WITCHES',)\n",
      "('RUN PACIFIC',)\n",
      "('SCHOOL JACKET',)\n",
      "('SEVEN SWARM',)\n",
      "('SIEGE MADRE',)\n",
      "('STEERS ARMAGEDDON',)\n",
      "('STRAIGHT HOURS',)\n",
      "('SUMMER SCARFACE',)\n",
      "('SUPERFLY TRIP',)\n",
      "('TITANIC BOONDOCK',)\n",
      "('TITANS JERK',)\n",
      "('VANISHING ROCKY',)\n",
      "('WATERSHIP FRONTIER',)\n"
     ]
    }
   ],
   "source": [
    "db(\"\"\"\n",
    "SELECT\n",
    "    film.title\n",
    "FROM \n",
    "    actor, \n",
    "    film_actor, \n",
    "    film\n",
    "WHERE \n",
    "    actor.actor_id = film_actor.actor_id \n",
    "    and film.film_id = film_actor.film_id\n",
    "    and actor.first_name = 'DAN'\n",
    "    and actor.last_name = 'HARRIS'\n",
    "\"\"\")"
   ]
  },
  {
   "cell_type": "code",
   "execution_count": 9,
   "metadata": {},
   "outputs": [
    {
     "name": "stdout",
     "output_type": "stream",
     "text": [
      "Executando query:\n",
      "('BEDAZZLED MARRIED',)\n",
      "('BOONDOCK BALLROOM',)\n",
      "('DESTINY SATURDAY',)\n",
      "('DIVINE RESURRECTION',)\n",
      "('EYES DRIVING',)\n",
      "('FELLOWSHIP AUTUMN',)\n",
      "('GHOST GROUNDHOG',)\n",
      "('GROOVE FICTION',)\n",
      "('HILLS NEIGHBORS',)\n",
      "('HOLIDAY GAMES',)\n",
      "('INDEPENDENCE HOTEL',)\n",
      "('INSIDER ARIZONA',)\n",
      "('JADE BUNCH',)\n",
      "('LIES TREATMENT',)\n",
      "('MONTEREY LABYRINTH',)\n",
      "('REUNION WITCHES',)\n",
      "('RUN PACIFIC',)\n",
      "('SCHOOL JACKET',)\n",
      "('SEVEN SWARM',)\n",
      "('SIEGE MADRE',)\n",
      "('STEERS ARMAGEDDON',)\n",
      "('STRAIGHT HOURS',)\n",
      "('SUMMER SCARFACE',)\n",
      "('SUPERFLY TRIP',)\n",
      "('TITANIC BOONDOCK',)\n",
      "('TITANS JERK',)\n",
      "('VANISHING ROCKY',)\n",
      "('WATERSHIP FRONTIER',)\n"
     ]
    }
   ],
   "source": [
    "db(\"\"\"\n",
    "SELECT\n",
    "    film.title\n",
    "FROM \n",
    "    actor\n",
    "    INNER JOIN film_actor ON actor.actor_id = film_actor.actor_id \n",
    "    INNER JOIN film ON film.film_id = film_actor.film_id\n",
    "WHERE \n",
    "    actor.first_name = 'DAN'\n",
    "    and actor.last_name = 'HARRIS'\n",
    "\"\"\")"
   ]
  },
  {
   "cell_type": "markdown",
   "metadata": {},
   "source": [
    "Quais filmes estão alugados por Florence Woods?"
   ]
  },
  {
   "cell_type": "code",
   "execution_count": 10,
   "metadata": {},
   "outputs": [
    {
     "name": "stdout",
     "output_type": "stream",
     "text": [
      "Executando query:\n",
      "('FLORENCE', 'WOODS', 107, 'CLUB GRAFFITI')\n",
      "('FLORENCE', 'WOODS', 107, 'BLADE POLISH')\n"
     ]
    }
   ],
   "source": [
    "db(\"\"\"\n",
    "SELECT \n",
    "    customer.first_name, \n",
    "    customer.last_name, \n",
    "    customer.customer_id, \n",
    "    film.title\n",
    "FROM \n",
    "    customer, \n",
    "    rental, \n",
    "    inventory, \n",
    "    film \n",
    "WHERE \n",
    "    customer.customer_id = rental.customer_id\n",
    "    and rental.inventory_id = inventory.inventory_id\n",
    "    and inventory.film_id = film.film_id\n",
    "    and customer.first_name = \"FLORENCE\"\n",
    "    and customer.last_name = \"WOODS\"\n",
    "    and rental.return_date is null\n",
    "ORDER BY \n",
    "    customer.first_name, \n",
    "    customer.last_name\n",
    "\"\"\")"
   ]
  },
  {
   "cell_type": "code",
   "execution_count": 11,
   "metadata": {},
   "outputs": [
    {
     "name": "stdout",
     "output_type": "stream",
     "text": [
      "Executando query:\n",
      "('FLORENCE', 'WOODS', 107, 'CLUB GRAFFITI')\n",
      "('FLORENCE', 'WOODS', 107, 'BLADE POLISH')\n"
     ]
    }
   ],
   "source": [
    "db(\"\"\"\n",
    "SELECT \n",
    "    customer.first_name, \n",
    "    customer.last_name, \n",
    "    customer.customer_id, \n",
    "    film.title\n",
    "FROM \n",
    "    customer\n",
    "    INNER JOIN rental ON customer.customer_id = rental.customer_id\n",
    "    INNER JOIN inventory ON rental.inventory_id = inventory.inventory_id\n",
    "    INNER JOIN film ON inventory.film_id = film.film_id\n",
    "WHERE \n",
    "    customer.first_name = \"FLORENCE\"\n",
    "    and customer.last_name = \"WOODS\"\n",
    "    and rental.return_date is null\n",
    "ORDER BY \n",
    "    customer.first_name, \n",
    "    customer.last_name\n",
    "\"\"\")"
   ]
  },
  {
   "cell_type": "markdown",
   "metadata": {},
   "source": [
    "Para quais línguas não tem nenhum filme na locadora? (Dica: use `LEFT OUTER JOIN`.)"
   ]
  },
  {
   "cell_type": "code",
   "execution_count": 12,
   "metadata": {},
   "outputs": [
    {
     "name": "stdout",
     "output_type": "stream",
     "text": [
      "Executando query:\n",
      "('French',)\n",
      "('German',)\n",
      "('Italian',)\n",
      "('Japanese',)\n",
      "('Mandarin',)\n"
     ]
    }
   ],
   "source": [
    "db(\"\"\"\n",
    "SELECT \n",
    "    language.name \n",
    "FROM \n",
    "    language \n",
    "    LEFT OUTER JOIN film ON language.language_id = film.language_id \n",
    "WHERE \n",
    "    film.film_id is null\n",
    "ORDER BY \n",
    "    language.name\n",
    "\"\"\")"
   ]
  },
  {
   "cell_type": "markdown",
   "metadata": {},
   "source": [
    "## `DISTINCT`"
   ]
  },
  {
   "cell_type": "markdown",
   "metadata": {},
   "source": [
    "As vezes desejamos consultar quais os valores distintos de uma coluna. Para isso usamos o qualificador `DISTINCT`. \n",
    "\n",
    "Por exemplo: Quais os anos de lançamento dos filmes da base? "
   ]
  },
  {
   "cell_type": "code",
   "execution_count": 13,
   "metadata": {
    "scrolled": true
   },
   "outputs": [
    {
     "name": "stdout",
     "output_type": "stream",
     "text": [
      "Executando query:\n",
      "(2006,)\n",
      "(2006,)\n",
      "(2006,)\n",
      "(2006,)\n",
      "(2006,)\n",
      "(2006,)\n",
      "(2006,)\n",
      "(2006,)\n",
      "(2006,)\n",
      "(2006,)\n",
      "(2006,)\n",
      "(2006,)\n",
      "(2006,)\n",
      "(2006,)\n",
      "(2006,)\n",
      "(2006,)\n",
      "(2006,)\n",
      "(2006,)\n",
      "(2006,)\n",
      "(2006,)\n"
     ]
    }
   ],
   "source": [
    "# Vai aparecer muitas cópias de '(2006,)'\n",
    "db('SELECT release_year FROM film LIMIT 20')"
   ]
  },
  {
   "cell_type": "markdown",
   "metadata": {},
   "source": [
    "Ops, parece que não tem muita variedade nesta base! Usando `DISTINCT` podemos limpar esse resultado:"
   ]
  },
  {
   "cell_type": "code",
   "execution_count": 14,
   "metadata": {},
   "outputs": [
    {
     "name": "stdout",
     "output_type": "stream",
     "text": [
      "Executando query:\n",
      "(2006,)\n"
     ]
    }
   ],
   "source": [
    "db('SELECT DISTINCT release_year FROM film')"
   ]
  },
  {
   "cell_type": "markdown",
   "metadata": {},
   "source": [
    "### Praticando"
   ]
  },
  {
   "cell_type": "markdown",
   "metadata": {},
   "source": [
    "Quais clientes estão alugando um DVD agora?"
   ]
  },
  {
   "cell_type": "code",
   "execution_count": 15,
   "metadata": {},
   "outputs": [
    {
     "name": "stdout",
     "output_type": "stream",
     "text": [
      "Executando query:\n",
      "(5, 'ELIZABETH', 'BROWN')\n",
      "(9, 'MARGARET', 'MOORE')\n",
      "(11, 'LISA', 'ANDERSON')\n",
      "(14, 'BETTY', 'WHITE')\n",
      "(15, 'HELEN', 'HARRIS')\n",
      "(21, 'MICHELLE', 'CLARK')\n",
      "(22, 'LAURA', 'RODRIGUEZ')\n",
      "(23, 'SARAH', 'LEWIS')\n",
      "(28, 'CYNTHIA', 'YOUNG')\n",
      "(29, 'ANGELA', 'HERNANDEZ')\n",
      "(33, 'ANNA', 'HILL')\n",
      "(41, 'STEPHANIE', 'MITCHELL')\n",
      "(42, 'CAROLYN', 'PEREZ')\n",
      "(43, 'CHRISTINE', 'ROBERTS')\n",
      "(44, 'MARIE', 'TURNER')\n",
      "(52, 'JULIE', 'SANCHEZ')\n",
      "(53, 'HEATHER', 'MORRIS')\n",
      "(56, 'GLORIA', 'COOK')\n",
      "(58, 'JEAN', 'BELL')\n",
      "(60, 'MILDRED', 'BAILEY')\n",
      "(64, 'JUDITH', 'COX')\n",
      "(69, 'JUDY', 'GRAY')\n",
      "(73, 'BEVERLY', 'BROOKS')\n",
      "(75, 'TAMMY', 'SANDERS')\n",
      "(80, 'MARILYN', 'ROSS')\n",
      "(83, 'LOUISE', 'JENKINS')\n",
      "(87, 'WANDA', 'PATTERSON')\n",
      "(91, 'LOIS', 'BUTLER')\n",
      "(94, 'NORMA', 'GONZALES')\n",
      "(99, 'EMILY', 'DIAZ')\n",
      "(100, 'ROBIN', 'HAYES')\n",
      "(101, 'PEGGY', 'MYERS')\n",
      "(107, 'FLORENCE', 'WOODS')\n",
      "(108, 'TRACY', 'COLE')\n",
      "(111, 'CARMEN', 'OWENS')\n",
      "(114, 'GRACE', 'ELLIS')\n",
      "(115, 'WENDY', 'HARRISON')\n",
      "(120, 'SYLVIA', 'ORTIZ')\n",
      "(135, 'JUANITA', 'MASON')\n",
      "(142, 'APRIL', 'BURNS')\n",
      "(152, 'ALICIA', 'MILLS')\n",
      "(155, 'GAIL', 'KNIGHT')\n",
      "(162, 'LAUREN', 'HUDSON')\n",
      "(163, 'CATHY', 'SPENCER')\n",
      "(168, 'REGINA', 'BERRY')\n",
      "(175, 'ANNETTE', 'OLSON')\n",
      "(178, 'MARION', 'SNYDER')\n",
      "(180, 'STACY', 'CUNNINGHAM')\n",
      "(181, 'ANA', 'BRADLEY')\n",
      "(186, 'HOLLY', 'FOX')\n",
      "(188, 'MELANIE', 'ARMSTRONG')\n",
      "(190, 'YOLANDA', 'WEAVER')\n",
      "(191, 'JEANETTE', 'GREENE')\n",
      "(192, 'LAURIE', 'LAWRENCE')\n",
      "(193, 'KATIE', 'ELLIOTT')\n",
      "(199, 'BETH', 'FRANKLIN')\n",
      "(200, 'JEANNE', 'LAWSON')\n",
      "(208, 'LUCY', 'WHEELER')\n",
      "(211, 'STACEY', 'MONTGOMERY')\n",
      "(213, 'GINA', 'WILLIAMSON')\n",
      "(214, 'KRISTIN', 'JOHNSTON')\n",
      "(215, 'JESSIE', 'BANKS')\n",
      "(216, 'NATALIE', 'MEYER')\n",
      "(219, 'WILLIE', 'HOWELL')\n",
      "(227, 'COLLEEN', 'BURTON')\n",
      "(228, 'ALLISON', 'STANLEY')\n",
      "(229, 'TAMARA', 'NGUYEN')\n",
      "(234, 'CLAUDIA', 'FULLER')\n",
      "(236, 'MARCIA', 'DEAN')\n",
      "(244, 'VIOLA', 'HANSON')\n",
      "(245, 'COURTNEY', 'DAY')\n",
      "(251, 'VICKIE', 'BREWER')\n",
      "(252, 'MATTIE', 'HOFFMAN')\n",
      "(263, 'HILDA', 'HOPKINS')\n",
      "(264, 'GWENDOLYN', 'MAY')\n",
      "(267, 'MARGIE', 'WADE')\n",
      "(269, 'CASSANDRA', 'WALTERS')\n",
      "(274, 'NAOMI', 'JENNINGS')\n",
      "(279, 'DIANNE', 'SHELTON')\n",
      "(282, 'JENNY', 'CASTRO')\n",
      "(284, 'SONIA', 'GREGORY')\n",
      "(287, 'BECKY', 'MILES')\n",
      "(295, 'DAISY', 'BATES')\n",
      "(296, 'RAMONA', 'HALE')\n",
      "(300, 'JOHN', 'FARNSWORTH')\n",
      "(315, 'KENNETH', 'GOODEN')\n",
      "(317, 'EDWARD', 'BAUGH')\n",
      "(324, 'GARY', 'COY')\n",
      "(327, 'LARRY', 'THRASHER')\n",
      "(330, 'SCOTT', 'SHELLEY')\n",
      "(334, 'RAYMOND', 'MCWHORTER')\n",
      "(335, 'GREGORY', 'MAULDIN')\n",
      "(336, 'JOSHUA', 'MARK')\n",
      "(337, 'JERRY', 'JORDON')\n",
      "(349, 'JOE', 'GILLILAND')\n",
      "(352, 'ALBERT', 'CROUSE')\n",
      "(354, 'JUSTIN', 'NGO')\n",
      "(355, 'TERRY', 'GRISSOM')\n",
      "(359, 'WILLIE', 'MARKHAM')\n",
      "(361, 'LAWRENCE', 'LAWTON')\n",
      "(366, 'BRANDON', 'HUEY')\n",
      "(369, 'FRED', 'WHEAT')\n",
      "(373, 'LOUIS', 'LEONE')\n",
      "(374, 'JEREMY', 'HURTADO')\n",
      "(388, 'CRAIG', 'MORRELL')\n",
      "(394, 'CHRIS', 'BROTHERS')\n",
      "(405, 'LEONARD', 'SCHOFIELD')\n",
      "(410, 'CURTIS', 'IRBY')\n",
      "(411, 'NORMAN', 'CURRIER')\n",
      "(412, 'ALLEN', 'BUTTERFIELD')\n",
      "(417, 'TRAVIS', 'ESTEP')\n",
      "(421, 'LEE', 'HAWKS')\n",
      "(422, 'MELVIN', 'ELLINGTON')\n",
      "(424, 'KYLE', 'SPURLOCK')\n",
      "(431, 'JOEL', 'FRANCISCO')\n",
      "(438, 'BARRY', 'LOVELACE')\n",
      "(440, 'BERNARD', 'COLBY')\n",
      "(441, 'MARIO', 'CHEATHAM')\n",
      "(448, 'MIGUEL', 'BETANCOURT')\n",
      "(450, 'JAY', 'ROBB')\n",
      "(452, 'TOM', 'MILNER')\n",
      "(457, 'BILL', 'GAVIN')\n",
      "(472, 'GREG', 'ROBINS')\n",
      "(474, 'DUSTIN', 'GILLETTE')\n",
      "(476, 'DERRICK', 'BOURQUE')\n",
      "(479, 'ZACHARY', 'HITE')\n",
      "(493, 'BRENT', 'HARKINS')\n",
      "(495, 'CHARLIE', 'BESS')\n",
      "(496, 'TYLER', 'WREN')\n",
      "(497, 'GILBERT', 'SLEDGE')\n",
      "(505, 'RAFAEL', 'ABNEY')\n",
      "(508, 'MILTON', 'HOWLAND')\n",
      "(512, 'CECIL', 'VINES')\n",
      "(516, 'ELMER', 'NOE')\n",
      "(521, 'ROLAND', 'SOUTH')\n",
      "(525, 'ADRIAN', 'CLARY')\n",
      "(527, 'CORY', 'MEEHAN')\n",
      "(530, 'DARRYL', 'ASHCRAFT')\n",
      "(532, 'NEIL', 'RENNER')\n",
      "(533, 'JESSIE', 'MILAM')\n",
      "(534, 'CHRISTIAN', 'JUNG')\n",
      "(537, 'CLINTON', 'BUFORD')\n",
      "(548, 'ALLAN', 'CORNISH')\n",
      "(550, 'GUY', 'BROWNLEE')\n",
      "(554, 'DWAYNE', 'OLVERA')\n",
      "(557, 'FELIX', 'GAFFNEY')\n",
      "(560, 'JORDAN', 'ARCHULETA')\n",
      "(561, 'IAN', 'STILL')\n",
      "(568, 'ALBERTO', 'HENNING')\n",
      "(570, 'IVAN', 'CROMWELL')\n",
      "(576, 'MORRIS', 'MCCARTER')\n",
      "(579, 'DARYL', 'LARUE')\n",
      "(582, 'ANDY', 'VANHORN')\n",
      "(585, 'PERRY', 'SWAFFORD')\n",
      "(587, 'SERGIO', 'STANFIELD')\n",
      "(590, 'SETH', 'HANNON')\n",
      "(592, 'TERRANCE', 'ROUSH')\n",
      "(596, 'ENRIQUE', 'FORSYTHE')\n",
      "(597, 'FREDDIE', 'DUGGAN')\n"
     ]
    }
   ],
   "source": [
    "db('''\n",
    "SELECT DISTINCT\n",
    "    customer.customer_id,\n",
    "    customer.first_name, \n",
    "    customer.last_name\n",
    "FROM \n",
    "    customer, \n",
    "    rental\n",
    "WHERE \n",
    "    customer.customer_id = rental.customer_id\n",
    "    AND rental.return_date is null\n",
    "ORDER BY\n",
    "    customer.customer_id\n",
    "''')"
   ]
  },
  {
   "cell_type": "markdown",
   "metadata": {},
   "source": [
    "## Agrupamento"
   ]
  },
  {
   "cell_type": "markdown",
   "metadata": {},
   "source": [
    "Uma das características mais valiosas de banco de dados é o *agrupamento*. Podemos agrupar os resultados de uma query indicando uma coluna cujos valores serão usados para agrupar os dados.\n",
    "\n",
    "Por exemplo, considere a seguinte tabela, que chamaremos de 'vendas':\n",
    "\n",
    "| id | id_item | item | preco |\n",
    "|--|--|--|--|\n",
    "| 1 | 1 | A | 5 |\n",
    "| 2 | 2 | B | 6 |\n",
    "| 3 | 1 | A | 3 |\n",
    "| 4 | 3 | C | 7 |\n",
    "| 5 | 3 | C | 5 |\n",
    "| 6 | 1 | A | 2 |\n",
    "\n",
    "Se agruparmos pela coluna 'id_item' teremos 3 conjuntos de resultados:\n",
    "\n",
    "id_item = 1:\n",
    "\n",
    "| id | id_item | item | preco |\n",
    "|--|--|--|--|\n",
    "| 1 | 1 | A | 5 |\n",
    "| 3 | 1 | A | 3 |\n",
    "| 6 | 1 | A | 2 |\n",
    "\n",
    "id_item = 2:\n",
    "\n",
    "| id | id_item | item | preco |\n",
    "|--|--|--|--|\n",
    "| 2 | 2 | B | 6 |\n",
    "\n",
    "id_item = 3:\n",
    "\n",
    "| id | id_item | item | preco |\n",
    "|--|--|--|--|\n",
    "| 4 | 3 | C | 7 |\n",
    "| 5 | 3 | C | 5 |\n",
    "\n",
    "É como se tivessemos uma lista de tabelas! Isso não é permitido em SQL. Temos que 'resumir' a informação de cada uma das tabelas a uma linha só, o que significa que, para cada coluna, devemos escolher uma dessas opções:\n",
    "- Resumir a informação da coluna usando uma função de grupo. Podemos somar, tirar a média, contar itens, concatená-los em uma única string, entre outras;\n",
    "- Para colunas que se relacionam 1 para 1 com a coluna de agrupamento (como a coluna de agrupamento em si, ou a coluna 'item' neste exemplo), manter este valor. Isso acontece frequentemente quando fazemos `JOIN`.\n",
    "- Não incluir a coluna, caso contrário.\n",
    "\n",
    "Neste exemplo, podemos tomar a seguinte decisão para cada coluna:\n",
    "- id: descartar\n",
    "- id_item: manter valor\n",
    "- item: manter valor\n",
    "- preco: vamos calcular a soma dos valores, e renomear esta informação para 'total'\n",
    "\n",
    "Com isso, obtemos a seguinte tabela:\n",
    "\n",
    "| id_item | item | total |\n",
    "|--|--|--|\n",
    "| 1 | A | 10 |\n",
    "| 2 | B | 6 |\n",
    "| 3 | C | 12 |\n",
    "\n",
    "Por fim, se não queremos id_item, ficamos com a seguinte tabela:\n",
    "\n",
    "| item | total |\n",
    "|--|--|\n",
    "| A | 10 |\n",
    "| B | 6 |\n",
    "| C | 12 |\n",
    "\n",
    "Para obter essa tabela podemos usar o seguinte comando SQL:\n",
    "\n",
    "```SQL\n",
    "SELECT \n",
    "    item, SUM(preco) as total \n",
    "FROM \n",
    "    vendas\n",
    "GROUP BY\n",
    "    id_item\n",
    "```\n",
    "\n",
    "Consulte o capítulo 9 do seu livro texto para conhecer mais sobre agrupamentos."
   ]
  },
  {
   "cell_type": "markdown",
   "metadata": {},
   "source": [
    "### Praticando"
   ]
  },
  {
   "cell_type": "markdown",
   "metadata": {},
   "source": [
    "Quais os 10 atores que mais apareceram em filmes?"
   ]
  },
  {
   "cell_type": "code",
   "execution_count": 16,
   "metadata": {},
   "outputs": [
    {
     "name": "stdout",
     "output_type": "stream",
     "text": [
      "Executando query:\n",
      "(107, 'GINA', 'DEGENERES', 42)\n",
      "(102, 'WALTER', 'TORN', 41)\n",
      "(198, 'MARY', 'KEITEL', 40)\n",
      "(181, 'MATTHEW', 'CARREY', 39)\n",
      "(23, 'SANDRA', 'KILMER', 37)\n",
      "(81, 'SCARLETT', 'DAMON', 36)\n",
      "(37, 'VAL', 'BOLGER', 35)\n",
      "(158, 'VIVIEN', 'BASINGER', 35)\n",
      "(106, 'GROUCHO', 'DUNST', 35)\n",
      "(13, 'UMA', 'WOOD', 35)\n"
     ]
    }
   ],
   "source": [
    "db('''\n",
    "SELECT \n",
    "    actor.actor_id, \n",
    "    actor.first_name, \n",
    "    actor.last_name,\n",
    "    COUNT(actor_id) AS film_count\n",
    "FROM \n",
    "    actor \n",
    "    INNER JOIN film_actor USING(actor_id)\n",
    "GROUP BY\n",
    "    actor_id\n",
    "ORDER BY \n",
    "    film_count DESC\n",
    "LIMIT 10\n",
    "''')"
   ]
  },
  {
   "cell_type": "markdown",
   "metadata": {},
   "source": [
    "## Pipeline do comando `SELECT`"
   ]
  },
  {
   "cell_type": "markdown",
   "metadata": {},
   "source": [
    "Uma versão mais completa do `SELECT` (mas não inteiramente completa - consulte o manual do MySQL) é vista abaixo:\n",
    "\n",
    "```\n",
    "SELECT [DISTINCT] <select_header> \n",
    "FROM <source_tables>\n",
    "WHERE <filter_expression>\n",
    "GROUP BY <grouping_expressions>\n",
    "HAVING <filter_expression>\n",
    "ORDER BY <ordering_expressions>\n",
    "LIMIT <count> \n",
    "OFFSET <count>\n",
    "```\n",
    "\n",
    "Você já deve ter percebido que o comando `SELECT` tem uma sequência própria de avaliação. Por exemplo, para saber quais filmes custam mais que 3 dinheiros, podemos escrever:"
   ]
  },
  {
   "cell_type": "code",
   "execution_count": 17,
   "metadata": {},
   "outputs": [
    {
     "name": "stdout",
     "output_type": "stream",
     "text": [
      "Executando query:\n",
      "(336,)\n"
     ]
    }
   ],
   "source": [
    "db('''\n",
    "SELECT \n",
    "    COUNT(f.rental_rate)\n",
    "FROM\n",
    "    film f\n",
    "WHERE\n",
    "    f.rental_rate > 3\n",
    "''')"
   ]
  },
  {
   "cell_type": "markdown",
   "metadata": {},
   "source": [
    "Observe que o 'apelido' f para a tabela 'film' é definido na cláusula `FROM`, mas usado em `SELECT` e também em `WHERE`.\n",
    "\n",
    "A ordem de execução do comando `SELECT` é aproximadamente como segue:\n",
    "\n",
    "1. `FROM <source_tables>`: indica as tabelas que serão usadas nesta query e, conceitualmente, combina estas tabelas através de *produto cartesiano* em uma grande tabela. (Note o termo \"*conceitualmente*\" que usei: em termos de implementação da query este produto cartesiano raramente é construído.)\n",
    "\n",
    "2. `WHERE <filter_expression>`: filtra linhas.\n",
    "\n",
    "3. `GROUP BY <grouping_expressions>`: agrupa conjuntos de linhas.\n",
    "\n",
    "4. `SELECT <select_heading>`: escolha de colunas e de agregados.\n",
    "\n",
    "5. `HAVING <filter_expression>`: outra filtragem, esta aplicada apenas **depois** da agregação. Pode usar resultados do processo de agregação. Obriga o uso de `GROUP BY`.\n",
    "\n",
    "6. `DISTINCT`: Elimina linhas duplicadas.\n",
    "\n",
    "7. `ORDER BY`: ordena as linhas do resultado.\n",
    "\n",
    "8. `OFFSET <count>`: Pula linhas do resultado. Requer LIMIT.\n",
    "\n",
    "9. `LIMIT <count>`: Mantém apenas um número máximo de linhas.\n",
    "\n",
    "Esta sequencia também serve como dica de como projetar uma query! \n",
    "- Comece identificando as tabelas que você deseja usar\n",
    "- Monte o filtro de linhas, incluindo critérios de `JOIN`\n",
    "- Agrupe\n",
    "- Selecione colunas e aplique funções de agregação, conforme necessário\n",
    "- Filtre com `HAVING`, agora que temos agregação\n",
    "- O resto é mais fácil, aplique conforme requerido"
   ]
  },
  {
   "cell_type": "markdown",
   "metadata": {},
   "source": [
    "## `WHERE` versus `HAVING`"
   ]
  },
  {
   "cell_type": "markdown",
   "metadata": {},
   "source": [
    "Conforme visto acima, temos a cláusula `HAVING` para fazer filtragens *APÓS* agregação. Para que serve isso? Por exemplo, suponha que queremos saber quais atores não compartilham seu sobrenome com nenhum outro ator. Podemos usar a quer a seguir:"
   ]
  },
  {
   "cell_type": "code",
   "execution_count": 18,
   "metadata": {
    "scrolled": true
   },
   "outputs": [
    {
     "name": "stdout",
     "output_type": "stream",
     "text": [
      "Executando query:\n",
      "('ANGELINA', 'ASTAIRE')\n",
      "('RUSSELL', 'BACALL')\n",
      "('HARRISON', 'BALE')\n",
      "('RENEE', 'BALL')\n",
      "('JULIA', 'BARRYMORE')\n",
      "('VIVIEN', 'BASINGER')\n",
      "('VIVIEN', 'BERGEN')\n",
      "('LIZA', 'BERGMAN')\n",
      "('CUBA', 'BIRCH')\n",
      "('KEVIN', 'BLOOM')\n",
      "('CHRIS', 'BRIDGES')\n",
      "('LAURENCE', 'BULLOCK')\n",
      "('MATTHEW', 'CARREY')\n",
      "('GREG', 'CHAPLIN')\n",
      "('RUSSELL', 'CLOSE')\n",
      "('FRED', 'COSTNER')\n",
      "('SIDNEY', 'CROWE')\n",
      "('JUDE', 'CRUISE')\n",
      "('RALPH', 'CRUZ')\n",
      "('SCARLETT', 'DAMON')\n",
      "('FRANCES', 'DAY-LEWIS')\n",
      "('SYLVESTER', 'DERN')\n",
      "('ALAN', 'DREYFUSS')\n",
      "('GROUCHO', 'DUNST')\n",
      "('CHRISTIAN', 'GABLE')\n",
      "('MERYL', 'GIBSON')\n",
      "('PARKER', 'GOLDBERG')\n",
      "('ADAM', 'GRANT')\n",
      "('MEG', 'HAWKE')\n",
      "('GEOFFREY', 'HESTON')\n",
      "('HARVEY', 'HOPE')\n",
      "('ANGELA', 'HUDSON')\n",
      "('CARMEN', 'HUNT')\n",
      "('WHOOPI', 'HURT')\n",
      "('WOODY', 'JOLIE')\n",
      "('KIRK', 'JOVOVICH')\n",
      "('MATTHEW', 'LEIGH')\n",
      "('JOHNNY', 'LOLLOBRIGIDA')\n",
      "('GRETA', 'MALDEN')\n",
      "('ED', 'MANSFIELD')\n",
      "('ELVIS', 'MARX')\n",
      "('MORGAN', 'MCDORMAND')\n",
      "('TOM', 'MIRANDA')\n",
      "('BETTE', 'NICHOLSON')\n",
      "('KENNETH', 'PESCI')\n",
      "('OLYMPIA', 'PFEIFFER')\n",
      "('GARY', 'PHOENIX')\n",
      "('PENELOPE', 'PINKETT')\n",
      "('JAMES', 'PITT')\n",
      "('BURT', 'POSEY')\n",
      "('ELLEN', 'PRESLEY')\n",
      "('RITA', 'REYNOLDS')\n",
      "('JADA', 'RYDER')\n",
      "('GROUCHO', 'SINATRA')\n",
      "('SISSY', 'SOBIESKI')\n",
      "('NICK', 'STALLONE')\n",
      "('JOHN', 'SUVARI')\n",
      "('JOE', 'SWANK')\n",
      "('DUSTIN', 'TAUTOU')\n",
      "('FRANCES', 'TOMEI')\n",
      "('HELEN', 'VOIGHT')\n",
      "('BELA', 'WALKEN')\n",
      "('ALEC', 'WAYNE')\n",
      "('WILL', 'WILSON')\n",
      "('ANGELA', 'WITHERSPOON')\n",
      "('CAMERON', 'WRAY')\n"
     ]
    }
   ],
   "source": [
    "db('''\n",
    "SELECT \n",
    "    a.first_name, a.last_name\n",
    "FROM \n",
    "    actor a \n",
    "GROUP BY \n",
    "    a.last_name\n",
    "HAVING\n",
    "    COUNT(a.first_name) = 1\n",
    "ORDER BY\n",
    "    a.last_name, a.first_name\n",
    "''')"
   ]
  },
  {
   "cell_type": "markdown",
   "metadata": {},
   "source": [
    "## Praticando"
   ]
  },
  {
   "cell_type": "markdown",
   "metadata": {},
   "source": [
    "Liste a duração média dos filmes na categoria 'Drama'."
   ]
  },
  {
   "cell_type": "code",
   "execution_count": 19,
   "metadata": {},
   "outputs": [
    {
     "name": "stdout",
     "output_type": "stream",
     "text": [
      "Executando query:\n",
      "(Decimal('120.8387'),)\n",
      "Executando query:\n",
      "(Decimal('120.8387'),)\n",
      "Executando query:\n",
      "(Decimal('120.8387'),)\n"
     ]
    }
   ],
   "source": [
    "db('''\n",
    "SELECT \n",
    "    AVG(length)\n",
    "FROM\n",
    "    film,\n",
    "    film_category,\n",
    "    category\n",
    "WHERE\n",
    "    film.film_id = film_category.film_id\n",
    "    AND category.category_id = film_category.category_id\n",
    "    AND category.name = 'Drama'\n",
    "''')\n",
    "\n",
    "# Outras versões de INNER JOIN:\n",
    "# Usando ON\n",
    "db('''\n",
    "SELECT \n",
    "    AVG(length)\n",
    "FROM\n",
    "    film\n",
    "    INNER JOIN film_category ON film.film_id = film_category.film_id\n",
    "    INNER JOIN category ON category.category_id = film_category.category_id\n",
    "WHERE\n",
    "    category.name = 'Drama'\n",
    "''')\n",
    "\n",
    "# Usando USING\n",
    "db('''\n",
    "SELECT \n",
    "    AVG(length)\n",
    "FROM\n",
    "    film\n",
    "    INNER JOIN film_category USING (film_id)\n",
    "    INNER JOIN category USING (category_id)\n",
    "WHERE\n",
    "    category.name = 'Drama'\n",
    "''')"
   ]
  },
  {
   "cell_type": "markdown",
   "metadata": {},
   "source": [
    "Liste o nome da categoria e a duração média dos filmes por categoria."
   ]
  },
  {
   "cell_type": "code",
   "execution_count": 20,
   "metadata": {},
   "outputs": [
    {
     "name": "stdout",
     "output_type": "stream",
     "text": [
      "Executando query:\n",
      "('Sports', Decimal('128.2027'))\n",
      "('Games', Decimal('127.8361'))\n",
      "('Foreign', Decimal('121.6986'))\n",
      "('Drama', Decimal('120.8387'))\n",
      "('Comedy', Decimal('115.8276'))\n",
      "('Family', Decimal('114.7826'))\n",
      "('Music', Decimal('113.6471'))\n",
      "('Travel', Decimal('113.3158'))\n",
      "('Horror', Decimal('112.4821'))\n",
      "('Classics', Decimal('111.6667'))\n",
      "('Action', Decimal('111.6094'))\n",
      "('New', Decimal('111.1270'))\n",
      "('Animation', Decimal('111.0152'))\n",
      "('Children', Decimal('109.8000'))\n",
      "('Documentary', Decimal('108.7500'))\n",
      "('Sci-Fi', Decimal('108.1967'))\n",
      "Executando query:\n",
      "('Sports', Decimal('128.2027'))\n",
      "('Games', Decimal('127.8361'))\n",
      "('Foreign', Decimal('121.6986'))\n",
      "('Drama', Decimal('120.8387'))\n",
      "('Comedy', Decimal('115.8276'))\n",
      "('Family', Decimal('114.7826'))\n",
      "('Music', Decimal('113.6471'))\n",
      "('Travel', Decimal('113.3158'))\n",
      "('Horror', Decimal('112.4821'))\n",
      "('Classics', Decimal('111.6667'))\n",
      "('Action', Decimal('111.6094'))\n",
      "('New', Decimal('111.1270'))\n",
      "('Animation', Decimal('111.0152'))\n",
      "('Children', Decimal('109.8000'))\n",
      "('Documentary', Decimal('108.7500'))\n",
      "('Sci-Fi', Decimal('108.1967'))\n",
      "Executando query:\n",
      "('Sports', Decimal('128.2027'))\n",
      "('Games', Decimal('127.8361'))\n",
      "('Foreign', Decimal('121.6986'))\n",
      "('Drama', Decimal('120.8387'))\n",
      "('Comedy', Decimal('115.8276'))\n",
      "('Family', Decimal('114.7826'))\n",
      "('Music', Decimal('113.6471'))\n",
      "('Travel', Decimal('113.3158'))\n",
      "('Horror', Decimal('112.4821'))\n",
      "('Classics', Decimal('111.6667'))\n",
      "('Action', Decimal('111.6094'))\n",
      "('New', Decimal('111.1270'))\n",
      "('Animation', Decimal('111.0152'))\n",
      "('Children', Decimal('109.8000'))\n",
      "('Documentary', Decimal('108.7500'))\n",
      "('Sci-Fi', Decimal('108.1967'))\n"
     ]
    }
   ],
   "source": [
    "db('''\n",
    "SELECT \n",
    "    category.name, \n",
    "    AVG(length) AS avg_len\n",
    "FROM\n",
    "    film,\n",
    "    film_category,\n",
    "    category\n",
    "WHERE\n",
    "    film.film_id = film_category.film_id\n",
    "    AND category.category_id = film_category.category_id\n",
    "GROUP BY \n",
    "    category.name\n",
    "ORDER BY \n",
    "    avg_len DESC\n",
    "''')\n",
    "\n",
    "# Outras versões de INNER JOIN:\n",
    "# Usando ON\n",
    "db('''\n",
    "SELECT \n",
    "    category.name, \n",
    "    AVG(length) AS avg_len\n",
    "FROM\n",
    "    film\n",
    "    INNER JOIN film_category ON film.film_id = film_category.film_id\n",
    "    INNER JOIN category ON category.category_id = film_category.category_id\n",
    "GROUP BY \n",
    "    category.name\n",
    "ORDER BY \n",
    "    avg_len DESC\n",
    "''')\n",
    "\n",
    "# Usando USING\n",
    "db('''\n",
    "SELECT \n",
    "    category.name, \n",
    "    AVG(length) AS avg_len\n",
    "FROM\n",
    "    film\n",
    "    INNER JOIN film_category USING (film_id)\n",
    "    INNER JOIN category USING (category_id)\n",
    "GROUP BY \n",
    "    category.name\n",
    "ORDER BY \n",
    "    avg_len DESC\n",
    "''')"
   ]
  },
  {
   "cell_type": "markdown",
   "metadata": {},
   "source": [
    "Liste o nome da categoria e a duração média dos filmes por categoria, apenas para categorias cuja duração média de filme excede 120 minutos."
   ]
  },
  {
   "cell_type": "code",
   "execution_count": 22,
   "metadata": {},
   "outputs": [
    {
     "name": "stdout",
     "output_type": "stream",
     "text": [
      "Executando query:\n",
      "('Sports', Decimal('128.2027'))\n",
      "('Games', Decimal('127.8361'))\n",
      "('Foreign', Decimal('121.6986'))\n",
      "('Drama', Decimal('120.8387'))\n"
     ]
    }
   ],
   "source": [
    "# Daqui em diante não vou fazer todas as versões de INNER JOIN. \n",
    "# Vocês podem escolher a sua versão favorita. \n",
    "db('''\n",
    "SELECT \n",
    "    category.name, \n",
    "    AVG(length) AS avg_len\n",
    "FROM\n",
    "    film,\n",
    "    film_category,\n",
    "    category\n",
    "WHERE\n",
    "    film.film_id = film_category.film_id\n",
    "    AND category.category_id = film_category.category_id\n",
    "GROUP BY \n",
    "    category.name\n",
    "HAVING \n",
    "    avg_len > 120\n",
    "ORDER BY \n",
    "    avg_len DESC\n",
    "''')"
   ]
  },
  {
   "cell_type": "markdown",
   "metadata": {},
   "source": [
    "# Conclusão"
   ]
  },
  {
   "cell_type": "markdown",
   "metadata": {},
   "source": [
    "Esta aula de hoje foi bastante densa! Dicas de estudo:\n",
    "\n",
    "- Pratique no seu livro-texto, capítulo 9. Lembre-se que a base 'música' pode ser usada para praticar os comandos SQL vistos no livro.\n",
    "- Tente criar queries que sirvam de exemplo para os conceitos do livro! A tarefa de criar exemplos é muito instrutiva!\n",
    "\n",
    "**Leitura prévia**:\n",
    "Para a próxima aula vamos continuar praticando, com os assuntos dos capítulos 10 e 11, prepare-se para a aula, ok?\n",
    "\n",
    "Até a próxima!"
   ]
  },
  {
   "cell_type": "code",
   "execution_count": 23,
   "metadata": {},
   "outputs": [],
   "source": [
    "connection.close()"
   ]
  },
  {
   "cell_type": "code",
   "execution_count": null,
   "metadata": {},
   "outputs": [],
   "source": []
  }
 ],
 "metadata": {
  "kernelspec": {
   "display_name": "Python 3",
   "language": "python",
   "name": "python3"
  },
  "language_info": {
   "codemirror_mode": {
    "name": "ipython",
    "version": 3
   },
   "file_extension": ".py",
   "mimetype": "text/x-python",
   "name": "python",
   "nbconvert_exporter": "python",
   "pygments_lexer": "ipython3",
   "version": "3.7.6"
  }
 },
 "nbformat": 4,
 "nbformat_minor": 4
}

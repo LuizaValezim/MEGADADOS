{
 "cells": [
  {
   "cell_type": "markdown",
   "metadata": {
    "tags": []
   },
   "source": [
    "# Mais sobre `SELECT `: agrupamento, subqueries"
   ]
  },
  {
   "cell_type": "markdown",
   "metadata": {},
   "source": [
    "## Introdução"
   ]
  },
  {
   "cell_type": "markdown",
   "metadata": {},
   "source": [
    "Vamos continuar nossa investigação sobre o comando `SELECT`. Desta vez usaremos a base de dados 'sakila', uma famosa base de dados de teste construída pelos autores do MySQL. \n",
    "\n",
    "Abra a URL [`https://dev.mysql.com/doc/sakila/en/`](https://dev.mysql.com/doc/sakila/en/) para conhecer melhor esta base de dados, que modela uma locadora de DVDs (riam, vocês também serão velhos um dia!). Se você não possui esta base, siga as instruções de instalação na página.\n",
    "\n",
    "Vamos também construir nosso objeto auxiliar para conectar com a base de dados, como fizemos na última aula."
   ]
  },
  {
   "cell_type": "code",
   "execution_count": 52,
   "metadata": {
    "tags": []
   },
   "outputs": [],
   "source": [
    "from functools import partial\n",
    "import mysql.connector\n",
    "\n",
    "connection = mysql.connector.connect(\n",
    "    host='localhost',\n",
    "    user='megadados',\n",
    "    password='megadados',\n",
    "    database='sakila',\n",
    "    sql_mode='only_full_group_by',\n",
    ")\n",
    "\n",
    "\n",
    "def run_db_query(connection, query, args=None):\n",
    "    with connection.cursor() as cursor:\n",
    "        print('Executando query:')\n",
    "        cursor.execute(query, args)\n",
    "        for result in cursor:\n",
    "            print(result)\n",
    "\n",
    "\n",
    "db = partial(run_db_query, connection)"
   ]
  },
  {
   "cell_type": "markdown",
   "metadata": {},
   "source": [
    "## Aquecimento"
   ]
  },
  {
   "cell_type": "markdown",
   "metadata": {},
   "source": [
    "Quais os nomes das categorias de filme?"
   ]
  },
  {
   "cell_type": "code",
   "execution_count": 3,
   "metadata": {},
   "outputs": [
    {
     "name": "stdout",
     "output_type": "stream",
     "text": [
      "Executando query:\n",
      "('Action',)\n",
      "('Animation',)\n",
      "('Children',)\n",
      "('Classics',)\n",
      "('Comedy',)\n",
      "('Documentary',)\n",
      "('Drama',)\n",
      "('Family',)\n",
      "('Foreign',)\n",
      "('Games',)\n",
      "('Horror',)\n",
      "('Music',)\n",
      "('New',)\n",
      "('Sci-Fi',)\n",
      "('Sports',)\n",
      "('Travel',)\n"
     ]
    }
   ],
   "source": [
    "db('SELECT name FROM category')"
   ]
  },
  {
   "cell_type": "markdown",
   "metadata": {},
   "source": [
    "Quais atores tem as iniciais \"J.D.\"?"
   ]
  },
  {
   "cell_type": "code",
   "execution_count": 4,
   "metadata": {},
   "outputs": [
    {
     "name": "stdout",
     "output_type": "stream",
     "text": [
      "Executando query:\n",
      "('JENNIFER', 'DAVIS')\n",
      "('JUDY', 'DEAN')\n",
      "('JODIE', 'DEGENERES')\n",
      "('JULIANNE', 'DENCH')\n"
     ]
    }
   ],
   "source": [
    "db('''\n",
    "SELECT \n",
    "    first_name, last_name\n",
    "FROM \n",
    "    actor\n",
    "WHERE\n",
    "    last_name like \"D%\" AND first_name like \"J%\"\n",
    "''')"
   ]
  },
  {
   "cell_type": "markdown",
   "metadata": {},
   "source": [
    "Inventório lista as cópias físicas: DVD e loja onde está alocado. Porque posso ter várias cópias do mesmo filme e naquela loja (por isso não pode ser PK)\n",
    "\n",
    "Endereço pode ter 2."
   ]
  },
  {
   "cell_type": "markdown",
   "metadata": {},
   "source": [
    "Liste as cidades brasileiras presentes na base de dados."
   ]
  },
  {
   "cell_type": "code",
   "execution_count": 6,
   "metadata": {},
   "outputs": [
    {
     "name": "stdout",
     "output_type": "stream",
     "text": [
      "Executando query:\n",
      "('Alvorada', 'Brazil')\n",
      "('Angra dos Reis', 'Brazil')\n",
      "('Anpolis', 'Brazil')\n",
      "('Aparecida de Goinia', 'Brazil')\n",
      "('Araatuba', 'Brazil')\n",
      "('Bag', 'Brazil')\n",
      "('Belm', 'Brazil')\n",
      "('Blumenau', 'Brazil')\n",
      "('Boa Vista', 'Brazil')\n",
      "('Braslia', 'Brazil')\n",
      "('Goinia', 'Brazil')\n",
      "('Guaruj', 'Brazil')\n",
      "('guas Lindas de Gois', 'Brazil')\n",
      "('Ibirit', 'Brazil')\n",
      "('Juazeiro do Norte', 'Brazil')\n",
      "('Juiz de Fora', 'Brazil')\n",
      "('Luzinia', 'Brazil')\n",
      "('Maring', 'Brazil')\n",
      "('Po', 'Brazil')\n",
      "('Poos de Caldas', 'Brazil')\n",
      "('Rio Claro', 'Brazil')\n",
      "('Santa Brbara dOeste', 'Brazil')\n",
      "('Santo Andr', 'Brazil')\n",
      "('So Bernardo do Campo', 'Brazil')\n",
      "('So Leopoldo', 'Brazil')\n",
      "('Sorocaba', 'Brazil')\n",
      "('Vila Velha', 'Brazil')\n",
      "('Vitria de Santo Anto', 'Brazil')\n"
     ]
    }
   ],
   "source": [
    "db('''\n",
    "SELECT \n",
    "    city , country\n",
    "FROM \n",
    "    country\n",
    "    INNER JOIN city USING (country_id)\n",
    "WHERE\n",
    "    country  = 'Brazil'\n",
    "\n",
    "''')"
   ]
  },
  {
   "cell_type": "markdown",
   "metadata": {},
   "source": [
    "*Quantas* cidades brasileiras tem na base de dados?"
   ]
  },
  {
   "cell_type": "code",
   "execution_count": 7,
   "metadata": {},
   "outputs": [
    {
     "name": "stdout",
     "output_type": "stream",
     "text": [
      "Executando query:\n",
      "(28,)\n"
     ]
    }
   ],
   "source": [
    "# Possibilidade de repetição, colocar distinct\n",
    "db('''\n",
    "SELECT \n",
    "    COUNT(city_id)\n",
    "FROM \n",
    "    country\n",
    "    INNER JOIN city USING (country_id)\n",
    "WHERE\n",
    "    country  = 'Brazil'\n",
    "\n",
    "''')\n"
   ]
  },
  {
   "cell_type": "markdown",
   "metadata": {},
   "source": [
    "Liste os filmes do ator (fictício) \"Dan Harris\""
   ]
  },
  {
   "cell_type": "code",
   "execution_count": 8,
   "metadata": {},
   "outputs": [
    {
     "name": "stdout",
     "output_type": "stream",
     "text": [
      "Executando query:\n",
      "('BEDAZZLED MARRIED',)\n",
      "('BOONDOCK BALLROOM',)\n",
      "('DESTINY SATURDAY',)\n",
      "('DIVINE RESURRECTION',)\n",
      "('EYES DRIVING',)\n",
      "('FELLOWSHIP AUTUMN',)\n",
      "('GHOST GROUNDHOG',)\n",
      "('GROOVE FICTION',)\n",
      "('HILLS NEIGHBORS',)\n",
      "('HOLIDAY GAMES',)\n",
      "('INDEPENDENCE HOTEL',)\n",
      "('INSIDER ARIZONA',)\n",
      "('JADE BUNCH',)\n",
      "('LIES TREATMENT',)\n",
      "('MONTEREY LABYRINTH',)\n",
      "('REUNION WITCHES',)\n",
      "('RUN PACIFIC',)\n",
      "('SCHOOL JACKET',)\n",
      "('SEVEN SWARM',)\n",
      "('SIEGE MADRE',)\n",
      "('STEERS ARMAGEDDON',)\n",
      "('STRAIGHT HOURS',)\n",
      "('SUMMER SCARFACE',)\n",
      "('SUPERFLY TRIP',)\n",
      "('TITANIC BOONDOCK',)\n",
      "('TITANS JERK',)\n",
      "('VANISHING ROCKY',)\n",
      "('WATERSHIP FRONTIER',)\n"
     ]
    }
   ],
   "source": [
    "db('''\n",
    "SELECT \n",
    "   film.title\n",
    "FROM \n",
    "    film_actor\n",
    "    INNER JOIN actor USING (actor_id)\n",
    "    INNER JOIN film USING(film_id)    \n",
    "WHERE\n",
    "    actor.first_name = 'Dan' \n",
    "    AND actor.last_name = 'Harris'\n",
    "''')"
   ]
  },
  {
   "cell_type": "code",
   "execution_count": 9,
   "metadata": {},
   "outputs": [
    {
     "name": "stdout",
     "output_type": "stream",
     "text": [
      "Executando query:\n",
      "('BEDAZZLED MARRIED',)\n",
      "('BOONDOCK BALLROOM',)\n",
      "('DESTINY SATURDAY',)\n",
      "('DIVINE RESURRECTION',)\n",
      "('EYES DRIVING',)\n",
      "('FELLOWSHIP AUTUMN',)\n",
      "('GHOST GROUNDHOG',)\n",
      "('GROOVE FICTION',)\n",
      "('HILLS NEIGHBORS',)\n",
      "('HOLIDAY GAMES',)\n",
      "('INDEPENDENCE HOTEL',)\n",
      "('INSIDER ARIZONA',)\n",
      "('JADE BUNCH',)\n",
      "('LIES TREATMENT',)\n",
      "('MONTEREY LABYRINTH',)\n",
      "('REUNION WITCHES',)\n",
      "('RUN PACIFIC',)\n",
      "('SCHOOL JACKET',)\n",
      "('SEVEN SWARM',)\n",
      "('SIEGE MADRE',)\n",
      "('STEERS ARMAGEDDON',)\n",
      "('STRAIGHT HOURS',)\n",
      "('SUMMER SCARFACE',)\n",
      "('SUPERFLY TRIP',)\n",
      "('TITANIC BOONDOCK',)\n",
      "('TITANS JERK',)\n",
      "('VANISHING ROCKY',)\n",
      "('WATERSHIP FRONTIER',)\n"
     ]
    }
   ],
   "source": [
    "#Resultado do monstrinho dou um inner join com outra tabela\n",
    "db('''\n",
    "SELECT \n",
    "    title\n",
    "FROM \n",
    "    actor\n",
    "    INNER JOIN film_actor USING (actor_id)\n",
    "    INNER JOIN film USING(film_id)    \n",
    "WHERE\n",
    "    actor.first_name = 'Dan' \n",
    "    AND actor.last_name = 'Harris'\n",
    "''')"
   ]
  },
  {
   "cell_type": "markdown",
   "metadata": {},
   "source": [
    "Quais filmes estão alugados por Florence Woods?"
   ]
  },
  {
   "cell_type": "code",
   "execution_count": 10,
   "metadata": {},
   "outputs": [
    {
     "name": "stdout",
     "output_type": "stream",
     "text": [
      "Executando query:\n",
      "('CLUB GRAFFITI', 'FLORENCE', 'WOODS')\n",
      "('BLADE POLISH', 'FLORENCE', 'WOODS')\n"
     ]
    }
   ],
   "source": [
    "db('''\n",
    "SELECT \n",
    "   film.title, customer.first_name, customer.last_name\n",
    "FROM \n",
    "    inventory\n",
    "    INNER JOIN film USING (film_id)\n",
    "    INNER JOIN rental USING(inventory_id)\n",
    "    INNER JOIN customer USING(customer_id)\n",
    "WHERE \n",
    "    customer.first_name = 'Florence'\n",
    "    AND customer.last_name = 'Woods'\n",
    "    AND rental.return_date IS NULL\n",
    "''')"
   ]
  },
  {
   "cell_type": "code",
   "execution_count": 11,
   "metadata": {},
   "outputs": [
    {
     "name": "stdout",
     "output_type": "stream",
     "text": [
      "Executando query:\n",
      "('CLUB GRAFFITI', 'FLORENCE', 'WOODS')\n",
      "('BLADE POLISH', 'FLORENCE', 'WOODS')\n"
     ]
    }
   ],
   "source": [
    "db('''\n",
    "SELECT \n",
    "    title, first_name, last_name\n",
    "FROM \n",
    "    customer\n",
    "    INNER JOIN rental USING (customer_id)\n",
    "    INNER JOIN inventory USING(inventory_id)\n",
    "    INNER JOIN film USING(film_id)\n",
    "WHERE \n",
    "    first_name = 'Florence'\n",
    "    AND last_name = 'Woods'\n",
    "    AND return_date IS NULL\n",
    "''')"
   ]
  },
  {
   "cell_type": "markdown",
   "metadata": {},
   "source": [
    "Para quais línguas não tem nenhum filme na locadora? (Dica: use `LEFT OUTER JOIN`.)"
   ]
  },
  {
   "cell_type": "code",
   "execution_count": 12,
   "metadata": {},
   "outputs": [
    {
     "name": "stdout",
     "output_type": "stream",
     "text": [
      "Executando query:\n",
      "('Italian',)\n",
      "('Japanese',)\n",
      "('Mandarin',)\n",
      "('French',)\n",
      "('German',)\n"
     ]
    }
   ],
   "source": [
    "db('''\n",
    "SELECT \n",
    "    language.name\n",
    "FROM\n",
    "    language\n",
    "    LEFT OUTER JOIN film ON language.language_id = film.language_id\n",
    "WHERE \n",
    "    film.film_id IS NULL\n",
    "''')"
   ]
  },
  {
   "cell_type": "code",
   "execution_count": 13,
   "metadata": {},
   "outputs": [
    {
     "name": "stdout",
     "output_type": "stream",
     "text": [
      "Executando query:\n",
      "('Italian',)\n",
      "('Japanese',)\n",
      "('Mandarin',)\n",
      "('French',)\n",
      "('German',)\n"
     ]
    }
   ],
   "source": [
    "db('''\n",
    "SELECT \n",
    "    name\n",
    "FROM\n",
    "    language\n",
    "    LEFT OUTER JOIN film USING (language_id) \n",
    "WHERE \n",
    "    film.film_id IS NULL\n",
    "''')"
   ]
  },
  {
   "cell_type": "markdown",
   "metadata": {},
   "source": [
    "As vezes desejamos consultar quais os valores distintos de uma coluna. Para isso usamos o qualificador `DISTINCT`. \n",
    "\n",
    "Por exemplo: Quais os anos de lançamento dos filmes da base? "
   ]
  },
  {
   "cell_type": "code",
   "execution_count": 14,
   "metadata": {
    "scrolled": true
   },
   "outputs": [
    {
     "name": "stdout",
     "output_type": "stream",
     "text": [
      "Executando query:\n",
      "(2006,)\n",
      "(2006,)\n",
      "(2006,)\n",
      "(2006,)\n",
      "(2006,)\n",
      "(2006,)\n",
      "(2006,)\n",
      "(2006,)\n",
      "(2006,)\n",
      "(2006,)\n",
      "(2006,)\n",
      "(2006,)\n",
      "(2006,)\n",
      "(2006,)\n",
      "(2006,)\n",
      "(2006,)\n",
      "(2006,)\n",
      "(2006,)\n",
      "(2006,)\n",
      "(2006,)\n"
     ]
    }
   ],
   "source": [
    "# Vai aparecer muitas cópias de '(2006,)'\n",
    "db('SELECT release_year FROM film LIMIT 20')"
   ]
  },
  {
   "cell_type": "markdown",
   "metadata": {},
   "source": [
    "Ops, parece que não tem muita variedade nesta base! Usando `DISTINCT` podemos limpar esse resultado:"
   ]
  },
  {
   "cell_type": "code",
   "execution_count": 15,
   "metadata": {},
   "outputs": [
    {
     "name": "stdout",
     "output_type": "stream",
     "text": [
      "Executando query:\n",
      "(2006,)\n"
     ]
    }
   ],
   "source": [
    "db('SELECT DISTINCT release_year FROM film')"
   ]
  },
  {
   "cell_type": "markdown",
   "metadata": {},
   "source": [
    "### Praticando"
   ]
  },
  {
   "cell_type": "markdown",
   "metadata": {},
   "source": [
    "Quais clientes estão alugando um DVD agora?"
   ]
  },
  {
   "cell_type": "code",
   "execution_count": 16,
   "metadata": {},
   "outputs": [
    {
     "name": "stdout",
     "output_type": "stream",
     "text": [
      "Executando query:\n",
      "('ADRIAN', 'CLARY')\n",
      "('ALBERT', 'CROUSE')\n",
      "('ALBERTO', 'HENNING')\n",
      "('ALICIA', 'MILLS')\n",
      "('ALLAN', 'CORNISH')\n",
      "('ALLEN', 'BUTTERFIELD')\n",
      "('ALLISON', 'STANLEY')\n",
      "('ANA', 'BRADLEY')\n",
      "('ANDY', 'VANHORN')\n",
      "('ANGELA', 'HERNANDEZ')\n",
      "('ANNA', 'HILL')\n",
      "('ANNETTE', 'OLSON')\n",
      "('APRIL', 'BURNS')\n",
      "('BARRY', 'LOVELACE')\n",
      "('BECKY', 'MILES')\n",
      "('BERNARD', 'COLBY')\n",
      "('BETH', 'FRANKLIN')\n",
      "('BETTY', 'WHITE')\n",
      "('BEVERLY', 'BROOKS')\n",
      "('BILL', 'GAVIN')\n",
      "('BRANDON', 'HUEY')\n",
      "('BRENT', 'HARKINS')\n",
      "('CARMEN', 'OWENS')\n",
      "('CAROLYN', 'PEREZ')\n",
      "('CASSANDRA', 'WALTERS')\n",
      "('CATHY', 'SPENCER')\n",
      "('CECIL', 'VINES')\n",
      "('CHARLIE', 'BESS')\n",
      "('CHRIS', 'BROTHERS')\n",
      "('CHRISTIAN', 'JUNG')\n",
      "('CHRISTINE', 'ROBERTS')\n",
      "('CLAUDIA', 'FULLER')\n",
      "('CLINTON', 'BUFORD')\n",
      "('COLLEEN', 'BURTON')\n",
      "('CORY', 'MEEHAN')\n",
      "('COURTNEY', 'DAY')\n",
      "('CRAIG', 'MORRELL')\n",
      "('CURTIS', 'IRBY')\n",
      "('CYNTHIA', 'YOUNG')\n",
      "('DAISY', 'BATES')\n",
      "('DARRYL', 'ASHCRAFT')\n",
      "('DARYL', 'LARUE')\n",
      "('DERRICK', 'BOURQUE')\n",
      "('DIANNE', 'SHELTON')\n",
      "('DUSTIN', 'GILLETTE')\n",
      "('DWAYNE', 'OLVERA')\n",
      "('EDWARD', 'BAUGH')\n",
      "('ELIZABETH', 'BROWN')\n",
      "('ELMER', 'NOE')\n",
      "('EMILY', 'DIAZ')\n",
      "('ENRIQUE', 'FORSYTHE')\n",
      "('FELIX', 'GAFFNEY')\n",
      "('FLORENCE', 'WOODS')\n",
      "('FRED', 'WHEAT')\n",
      "('FREDDIE', 'DUGGAN')\n",
      "('GAIL', 'KNIGHT')\n",
      "('GARY', 'COY')\n",
      "('GILBERT', 'SLEDGE')\n",
      "('GINA', 'WILLIAMSON')\n",
      "('GLORIA', 'COOK')\n",
      "('GRACE', 'ELLIS')\n",
      "('GREG', 'ROBINS')\n",
      "('GREGORY', 'MAULDIN')\n",
      "('GUY', 'BROWNLEE')\n",
      "('GWENDOLYN', 'MAY')\n",
      "('HEATHER', 'MORRIS')\n",
      "('HELEN', 'HARRIS')\n",
      "('HILDA', 'HOPKINS')\n",
      "('HOLLY', 'FOX')\n",
      "('IAN', 'STILL')\n",
      "('IVAN', 'CROMWELL')\n",
      "('JAY', 'ROBB')\n",
      "('JEAN', 'BELL')\n",
      "('JEANETTE', 'GREENE')\n",
      "('JEANNE', 'LAWSON')\n",
      "('JENNY', 'CASTRO')\n",
      "('JEREMY', 'HURTADO')\n",
      "('JERRY', 'JORDON')\n",
      "('JESSIE', 'BANKS')\n",
      "('JESSIE', 'MILAM')\n",
      "('JOE', 'GILLILAND')\n",
      "('JOEL', 'FRANCISCO')\n",
      "('JOHN', 'FARNSWORTH')\n",
      "('JORDAN', 'ARCHULETA')\n",
      "('JOSHUA', 'MARK')\n",
      "('JUANITA', 'MASON')\n",
      "('JUDITH', 'COX')\n",
      "('JUDY', 'GRAY')\n",
      "('JULIE', 'SANCHEZ')\n",
      "('JUSTIN', 'NGO')\n",
      "('KATIE', 'ELLIOTT')\n",
      "('KENNETH', 'GOODEN')\n",
      "('KRISTIN', 'JOHNSTON')\n",
      "('KYLE', 'SPURLOCK')\n",
      "('LARRY', 'THRASHER')\n",
      "('LAURA', 'RODRIGUEZ')\n",
      "('LAUREN', 'HUDSON')\n",
      "('LAURIE', 'LAWRENCE')\n",
      "('LAWRENCE', 'LAWTON')\n",
      "('LEE', 'HAWKS')\n",
      "('LEONARD', 'SCHOFIELD')\n",
      "('LISA', 'ANDERSON')\n",
      "('LOIS', 'BUTLER')\n",
      "('LOUIS', 'LEONE')\n",
      "('LOUISE', 'JENKINS')\n",
      "('LUCY', 'WHEELER')\n",
      "('MARCIA', 'DEAN')\n",
      "('MARGARET', 'MOORE')\n",
      "('MARGIE', 'WADE')\n",
      "('MARIE', 'TURNER')\n",
      "('MARILYN', 'ROSS')\n",
      "('MARIO', 'CHEATHAM')\n",
      "('MARION', 'SNYDER')\n",
      "('MATTIE', 'HOFFMAN')\n",
      "('MELANIE', 'ARMSTRONG')\n",
      "('MELVIN', 'ELLINGTON')\n",
      "('MICHELLE', 'CLARK')\n",
      "('MIGUEL', 'BETANCOURT')\n",
      "('MILDRED', 'BAILEY')\n",
      "('MILTON', 'HOWLAND')\n",
      "('MORRIS', 'MCCARTER')\n",
      "('NAOMI', 'JENNINGS')\n",
      "('NATALIE', 'MEYER')\n",
      "('NEIL', 'RENNER')\n",
      "('NORMA', 'GONZALES')\n",
      "('NORMAN', 'CURRIER')\n",
      "('PEGGY', 'MYERS')\n",
      "('PERRY', 'SWAFFORD')\n",
      "('RAFAEL', 'ABNEY')\n",
      "('RAMONA', 'HALE')\n",
      "('RAYMOND', 'MCWHORTER')\n",
      "('REGINA', 'BERRY')\n",
      "('ROBIN', 'HAYES')\n",
      "('ROLAND', 'SOUTH')\n",
      "('SARAH', 'LEWIS')\n",
      "('SCOTT', 'SHELLEY')\n",
      "('SERGIO', 'STANFIELD')\n",
      "('SETH', 'HANNON')\n",
      "('SONIA', 'GREGORY')\n",
      "('STACEY', 'MONTGOMERY')\n",
      "('STACY', 'CUNNINGHAM')\n",
      "('STEPHANIE', 'MITCHELL')\n",
      "('SYLVIA', 'ORTIZ')\n",
      "('TAMARA', 'NGUYEN')\n",
      "('TAMMY', 'SANDERS')\n",
      "('TERRANCE', 'ROUSH')\n",
      "('TERRY', 'GRISSOM')\n",
      "('TOM', 'MILNER')\n",
      "('TRACY', 'COLE')\n",
      "('TRAVIS', 'ESTEP')\n",
      "('TYLER', 'WREN')\n",
      "('VICKIE', 'BREWER')\n",
      "('VIOLA', 'HANSON')\n",
      "('WANDA', 'PATTERSON')\n",
      "('WENDY', 'HARRISON')\n",
      "('WILLIE', 'HOWELL')\n",
      "('WILLIE', 'MARKHAM')\n",
      "('YOLANDA', 'WEAVER')\n",
      "('ZACHARY', 'HITE')\n"
     ]
    }
   ],
   "source": [
    "db('''\n",
    "SELECT \n",
    "    DISTINCT customer.first_name, customer.last_name\n",
    "FROM \n",
    "    customer\n",
    "    INNER JOIN rental USING (customer_id)\n",
    "WHERE \n",
    "    return_date IS NULL\n",
    "ORDER BY\n",
    "    first_name, last_name\n",
    "''')"
   ]
  },
  {
   "cell_type": "markdown",
   "metadata": {},
   "source": [
    "## Agrupamento"
   ]
  },
  {
   "cell_type": "markdown",
   "metadata": {},
   "source": [
    "Uma das características mais valiosas de banco de dados é o *agrupamento*. Podemos agrupar os resultados de uma query indicando uma coluna cujos valores serão usados para agrupar os dados.\n",
    "\n",
    "Por exemplo, considere a seguinte tabela, que chamaremos de 'vendas':\n",
    "\n",
    "| id | id_item | item | preco |\n",
    "|--|--|--|--|\n",
    "| 1 | 1 | A | 5 |\n",
    "| 2 | 2 | B | 6 |\n",
    "| 3 | 1 | A | 3 |\n",
    "| 4 | 3 | C | 7 |\n",
    "| 5 | 3 | C | 5 |\n",
    "| 6 | 1 | A | 2 |\n",
    "\n",
    "Se agruparmos pela coluna 'id_item' teremos 3 conjuntos de resultados:\n",
    "\n",
    "id_item = 1:\n",
    "\n",
    "| id | id_item | item | preco |\n",
    "|--|--|--|--|\n",
    "| 1 | 1 | A | 5 |\n",
    "| 3 | 1 | A | 3 |\n",
    "| 6 | 1 | A | 2 |\n",
    "\n",
    "id_item = 2:\n",
    "\n",
    "| id | id_item | item | preco |\n",
    "|--|--|--|--|\n",
    "| 2 | 2 | B | 6 |\n",
    "\n",
    "id_item = 3:\n",
    "\n",
    "| id | id_item | item | preco |\n",
    "|--|--|--|--|\n",
    "| 4 | 3 | C | 7 |\n",
    "| 5 | 3 | C | 5 |\n",
    "\n",
    "É como se tivessemos uma lista de tabelas! Isso não é permitido em SQL. Temos que 'resumir' a informação de cada uma das tabelas a uma linha só, o que significa que, para cada coluna, devemos escolher uma dessas opções:\n",
    "- Resumir a informação da coluna usando uma função de grupo. Podemos somar, tirar a média, contar itens, concatená-los em uma única string, entre outras;\n",
    "- Para colunas que se relacionam 1 para 1 com a coluna de agrupamento (como a coluna de agrupamento em si, ou a coluna 'item' neste exemplo), manter este valor. Isso acontece frequentemente quando fazemos `JOIN`.\n",
    "- Não incluir a coluna, caso contrário.\n",
    "\n",
    "Neste exemplo, podemos tomar a seguinte decisão para cada coluna:\n",
    "- id: descartar\n",
    "- id_item: manter valor\n",
    "- item: manter valor\n",
    "- preco: vamos calcular a soma dos valores, e renomear esta informação para 'total'\n",
    "\n",
    "Com isso, obtemos a seguinte tabela:\n",
    "\n",
    "| id_item | item | total |\n",
    "|--|--|--|\n",
    "| 1 | A | 10 |\n",
    "| 2 | B | 6 |\n",
    "| 3 | C | 12 |\n",
    "\n",
    "Por fim, se não queremos id_item, ficamos com a seguinte tabela:\n",
    "\n",
    "| item | total |\n",
    "|--|--|\n",
    "| A | 10 |\n",
    "| B | 6 |\n",
    "| C | 12 |\n",
    "\n",
    "Para obter essa tabela podemos usar o seguinte comando SQL:\n",
    "\n",
    "```SQL\n",
    "SELECT \n",
    "    item, SUM(preco) as total \n",
    "FROM \n",
    "    vendas\n",
    "GROUP BY\n",
    "    id_item\n",
    "```\n",
    "\n",
    "Consulte o capítulo 9 do seu livro texto para conhecer mais sobre agrupamentos."
   ]
  },
  {
   "cell_type": "markdown",
   "metadata": {},
   "source": [
    "### Praticando"
   ]
  },
  {
   "cell_type": "markdown",
   "metadata": {},
   "source": [
    "Quais os 10 atores que mais apareceram em filmes?"
   ]
  },
  {
   "cell_type": "code",
   "execution_count": 32,
   "metadata": {},
   "outputs": [
    {
     "name": "stdout",
     "output_type": "stream",
     "text": [
      "Executando query:\n",
      "('GINA', 'DEGENERES', 42)\n",
      "('WALTER', 'TORN', 41)\n",
      "('MARY', 'KEITEL', 40)\n",
      "('MATTHEW', 'CARREY', 39)\n",
      "('SANDRA', 'KILMER', 37)\n",
      "('SCARLETT', 'DAMON', 36)\n",
      "('VAL', 'BOLGER', 35)\n",
      "('VIVIEN', 'BASINGER', 35)\n",
      "('GROUCHO', 'DUNST', 35)\n",
      "('UMA', 'WOOD', 35)\n"
     ]
    }
   ],
   "source": [
    "db('''\n",
    "SELECT \n",
    "    first_name, last_name, COUNT(first_name) as aparicao\n",
    "FROM\n",
    "    film\n",
    "    INNER JOIN film_actor USING (film_id)\n",
    "    INNER JOIN actor USING (actor_id)\n",
    "GROUP BY\n",
    "    actor_id\n",
    "ORDER BY\n",
    "    aparicao DESC\n",
    "LIMIT\n",
    "    10\n",
    "''')\n"
   ]
  },
  {
   "cell_type": "code",
   "execution_count": 33,
   "metadata": {},
   "outputs": [
    {
     "name": "stdout",
     "output_type": "stream",
     "text": [
      "Executando query:\n",
      "('GINA', 'DEGENERES', 42)\n",
      "('WALTER', 'TORN', 41)\n",
      "('MARY', 'KEITEL', 40)\n",
      "('MATTHEW', 'CARREY', 39)\n",
      "('SANDRA', 'KILMER', 37)\n",
      "('SCARLETT', 'DAMON', 36)\n",
      "('VAL', 'BOLGER', 35)\n",
      "('VIVIEN', 'BASINGER', 35)\n",
      "('GROUCHO', 'DUNST', 35)\n",
      "('UMA', 'WOOD', 35)\n"
     ]
    }
   ],
   "source": [
    "db('''\n",
    "SELECT \n",
    "    first_name, last_name, COUNT(film_id) as aparicao\n",
    "FROM\n",
    "    actor\n",
    "    INNER JOIN film_actor USING (actor_id)\n",
    "GROUP BY\n",
    "    actor_id\n",
    "ORDER BY\n",
    "    aparicao DESC\n",
    "LIMIT\n",
    "    10\n",
    "''')"
   ]
  },
  {
   "cell_type": "code",
   "execution_count": 34,
   "metadata": {},
   "outputs": [
    {
     "name": "stdout",
     "output_type": "stream",
     "text": [
      "Executando query:\n",
      "(107, 'GINA', 'DEGENERES', 42)\n",
      "(102, 'WALTER', 'TORN', 41)\n",
      "(198, 'MARY', 'KEITEL', 40)\n",
      "(181, 'MATTHEW', 'CARREY', 39)\n",
      "(23, 'SANDRA', 'KILMER', 37)\n",
      "(81, 'SCARLETT', 'DAMON', 36)\n",
      "(37, 'VAL', 'BOLGER', 35)\n",
      "(158, 'VIVIEN', 'BASINGER', 35)\n",
      "(106, 'GROUCHO', 'DUNST', 35)\n",
      "(13, 'UMA', 'WOOD', 35)\n"
     ]
    }
   ],
   "source": [
    "db('''\n",
    "SELECT \n",
    "    actor.actor_id,\n",
    "    actor.first_name,\n",
    "    actor.last_name,\n",
    "    COUNT(actor_id) AS film_count\n",
    "FROM \n",
    "    actor\n",
    "    INNER JOIN film_actor USING(actor_id)\n",
    "GROUP BY \n",
    "    actor_id\n",
    "ORDER BY\n",
    "    film_count DESC\n",
    "LIMIT \n",
    "    10\n",
    "''')\n",
    "\n",
    "\n"
   ]
  },
  {
   "cell_type": "markdown",
   "metadata": {},
   "source": [
    "## Pipeline do comando `SELECT`"
   ]
  },
  {
   "cell_type": "markdown",
   "metadata": {},
   "source": [
    "Uma versão mais completa do `SELECT` (mas não inteiramente completa - consulte o manual do MySQL) é vista abaixo:\n",
    "\n",
    "```\n",
    "SELECT [DISTINCT] <select_header> \n",
    "FROM <source_tables>\n",
    "WHERE <filter_expression>\n",
    "GROUP BY <grouping_expressions>\n",
    "HAVING <filter_expression>\n",
    "ORDER BY <ordering_expressions>\n",
    "LIMIT <count> \n",
    "OFFSET <count>\n",
    "```\n",
    "\n",
    "Você já deve ter percebido que o comando `SELECT` tem uma sequência própria de avaliação. Por exemplo, para saber quais filmes custam mais que 3 dinheiros, podemos escrever:"
   ]
  },
  {
   "cell_type": "code",
   "execution_count": 35,
   "metadata": {},
   "outputs": [
    {
     "name": "stdout",
     "output_type": "stream",
     "text": [
      "Executando query:\n",
      "(336,)\n"
     ]
    }
   ],
   "source": [
    "db('''\n",
    "SELECT \n",
    "    COUNT(f.rental_rate)\n",
    "FROM\n",
    "    film f\n",
    "WHERE\n",
    "    f.rental_rate > 3\n",
    "''')"
   ]
  },
  {
   "cell_type": "markdown",
   "metadata": {},
   "source": [
    "Observe que o 'apelido' f para a tabela 'film' é definido na cláusula `FROM`, mas usado em `SELECT` e também em `WHERE`.\n",
    "\n",
    "A ordem de execução do comando `SELECT` é aproximadamente como segue:\n",
    "\n",
    "1. `FROM <source_tables>`: indica as tabelas que serão usadas nesta query e, conceitualmente, combina estas tabelas através de *produto cartesiano* em uma grande tabela. (Note o termo \"*conceitualmente*\" que usei: em termos de implementação da query este produto cartesiano raramente é construído.)\n",
    "\n",
    "2. `WHERE <filter_expression>`: filtra linhas.\n",
    "\n",
    "3. `GROUP BY <grouping_expressions>`: agrupa conjuntos de linhas.\n",
    "\n",
    "4. `SELECT <select_heading>`: escolha de colunas e de agregados.\n",
    "\n",
    "5. `HAVING <filter_expression>`: outra filtragem, esta aplicada apenas **depois** da agregação. Pode usar resultados do processo de agregação. Obriga o uso de `GROUP BY`.\n",
    "\n",
    "6. `DISTINCT`: Elimina linhas duplicadas.\n",
    "\n",
    "7. `ORDER BY`: ordena as linhas do resultado.\n",
    "\n",
    "8. `OFFSET <count>`: Pula linhas do resultado. Requer LIMIT.\n",
    "\n",
    "9. `LIMIT <count>`: Mantém apenas um número máximo de linhas.\n",
    "\n",
    "Esta sequencia também serve como dica de como projetar uma query! \n",
    "- Comece identificando as tabelas que você deseja usar\n",
    "- Monte o filtro de linhas, incluindo critérios de `JOIN`\n",
    "- Agrupe\n",
    "- Selecione colunas e aplique funções de agregação, conforme necessário\n",
    "- Filtre com `HAVING`, agora que temos agregação\n",
    "- O resto é mais fácil, aplique conforme requerido"
   ]
  },
  {
   "cell_type": "markdown",
   "metadata": {},
   "source": [
    "## `WHERE` versus `HAVING`"
   ]
  },
  {
   "cell_type": "markdown",
   "metadata": {},
   "source": [
    "Conforme visto acima, temos a cláusula `HAVING` para fazer filtragens *APÓS* agregação. Para que serve isso? Por exemplo, suponha que queremos saber quais atores não compartilham seu sobrenome com nenhum outro ator. Podemos usar a *query* a seguir:"
   ]
  },
  {
   "cell_type": "code",
   "execution_count": 40,
   "metadata": {
    "scrolled": true
   },
   "outputs": [
    {
     "name": "stdout",
     "output_type": "stream",
     "text": [
      "Executando query:\n",
      "('ANGELINA', 'ASTAIRE')\n",
      "('RUSSELL', 'BACALL')\n",
      "('HARRISON', 'BALE')\n",
      "('RENEE', 'BALL')\n",
      "('JULIA', 'BARRYMORE')\n",
      "('VIVIEN', 'BASINGER')\n",
      "('VIVIEN', 'BERGEN')\n",
      "('LIZA', 'BERGMAN')\n",
      "('CUBA', 'BIRCH')\n",
      "('KEVIN', 'BLOOM')\n",
      "('CHRIS', 'BRIDGES')\n",
      "('LAURENCE', 'BULLOCK')\n",
      "('MATTHEW', 'CARREY')\n",
      "('GREG', 'CHAPLIN')\n",
      "('RUSSELL', 'CLOSE')\n",
      "('FRED', 'COSTNER')\n",
      "('SIDNEY', 'CROWE')\n",
      "('JUDE', 'CRUISE')\n",
      "('RALPH', 'CRUZ')\n",
      "('SCARLETT', 'DAMON')\n",
      "('FRANCES', 'DAY-LEWIS')\n",
      "('SYLVESTER', 'DERN')\n",
      "('ALAN', 'DREYFUSS')\n",
      "('GROUCHO', 'DUNST')\n",
      "('CHRISTIAN', 'GABLE')\n",
      "('MERYL', 'GIBSON')\n",
      "('PARKER', 'GOLDBERG')\n",
      "('ADAM', 'GRANT')\n",
      "('MEG', 'HAWKE')\n",
      "('GEOFFREY', 'HESTON')\n",
      "('HARVEY', 'HOPE')\n",
      "('ANGELA', 'HUDSON')\n",
      "('CARMEN', 'HUNT')\n",
      "('WHOOPI', 'HURT')\n",
      "('WOODY', 'JOLIE')\n",
      "('KIRK', 'JOVOVICH')\n",
      "('MATTHEW', 'LEIGH')\n",
      "('JOHNNY', 'LOLLOBRIGIDA')\n",
      "('GRETA', 'MALDEN')\n",
      "('ED', 'MANSFIELD')\n",
      "('ELVIS', 'MARX')\n",
      "('MORGAN', 'MCDORMAND')\n",
      "('TOM', 'MIRANDA')\n",
      "('BETTE', 'NICHOLSON')\n",
      "('KENNETH', 'PESCI')\n",
      "('OLYMPIA', 'PFEIFFER')\n",
      "('GARY', 'PHOENIX')\n",
      "('PENELOPE', 'PINKETT')\n",
      "('JAMES', 'PITT')\n",
      "('BURT', 'POSEY')\n",
      "('ELLEN', 'PRESLEY')\n",
      "('RITA', 'REYNOLDS')\n",
      "('JADA', 'RYDER')\n",
      "('GROUCHO', 'SINATRA')\n",
      "('SISSY', 'SOBIESKI')\n",
      "('NICK', 'STALLONE')\n",
      "('JOHN', 'SUVARI')\n",
      "('JOE', 'SWANK')\n",
      "('DUSTIN', 'TAUTOU')\n",
      "('FRANCES', 'TOMEI')\n",
      "('HELEN', 'VOIGHT')\n",
      "('BELA', 'WALKEN')\n",
      "('ALEC', 'WAYNE')\n",
      "('WILL', 'WILSON')\n",
      "('ANGELA', 'WITHERSPOON')\n",
      "('CAMERON', 'WRAY')\n"
     ]
    }
   ],
   "source": [
    "# MIN usado para pegar o menor deles, depois de dar group by pega só aquele primeiro nome\n",
    "# A gente quer saber quais são os atotres que não compartilham seu sobrenome com nenhum ator, então quero descobrir \n",
    "# quais atores, onde o número de atores com aquele sobrenome é 1.\n",
    "\n",
    "#Faço o group by com o last name e toda vez que agrupo, agrego. Mantenho linahs resumo onde o count do first_name é igual a 1.\n",
    "#\n",
    "\n",
    "\n",
    "db('''\n",
    "SELECT \n",
    "    MIN(a.first_name) as fst_name, a.last_name\n",
    "FROM \n",
    "    actor a \n",
    "GROUP BY \n",
    "    a.last_name\n",
    "HAVING\n",
    "    COUNT(a.first_name) = 1\n",
    "ORDER BY\n",
    "    a.last_name, fst_name\n",
    "''')"
   ]
  },
  {
   "cell_type": "markdown",
   "metadata": {
    "tags": []
   },
   "source": [
    "## Praticando"
   ]
  },
  {
   "cell_type": "markdown",
   "metadata": {},
   "source": [
    "Liste a duração média dos filmes na categoria 'Drama'. Aqui o `GROUP BY` é necessário?"
   ]
  },
  {
   "cell_type": "code",
   "execution_count": 46,
   "metadata": {},
   "outputs": [
    {
     "name": "stdout",
     "output_type": "stream",
     "text": [
      "Executando query:\n",
      "(Decimal('120.8387'),)\n"
     ]
    }
   ],
   "source": [
    "db('''\n",
    "SELECT \n",
    "    AVG(length)\n",
    "FROM \n",
    "    film\n",
    "    INNER JOIN film_category USING (film_id)\n",
    "    INNER JOIN category USING (category_id)\n",
    "    category.name = 'Drama'\n",
    "''')\n"
   ]
  },
  {
   "cell_type": "markdown",
   "metadata": {},
   "source": [
    "Liste o nome da categoria e a duração média dos filmes por categoria."
   ]
  },
  {
   "cell_type": "code",
   "execution_count": 47,
   "metadata": {},
   "outputs": [
    {
     "name": "stdout",
     "output_type": "stream",
     "text": [
      "Executando query:\n",
      "('Sports', Decimal('128.2027'))\n",
      "('Games', Decimal('127.8361'))\n",
      "('Foreign', Decimal('121.6986'))\n",
      "('Drama', Decimal('120.8387'))\n",
      "('Comedy', Decimal('115.8276'))\n",
      "('Family', Decimal('114.7826'))\n",
      "('Music', Decimal('113.6471'))\n",
      "('Travel', Decimal('113.3158'))\n",
      "('Horror', Decimal('112.4821'))\n",
      "('Classics', Decimal('111.6667'))\n",
      "('Action', Decimal('111.6094'))\n",
      "('New', Decimal('111.1270'))\n",
      "('Animation', Decimal('111.0152'))\n",
      "('Children', Decimal('109.8000'))\n",
      "('Documentary', Decimal('108.7500'))\n",
      "('Sci-Fi', Decimal('108.1967'))\n"
     ]
    }
   ],
   "source": [
    "# Agrupar categoria e agregar com AVG\n",
    "\n",
    "db('''\n",
    "SELECT \n",
    "    category.name, AVG(length)\n",
    "FROM \n",
    "    film\n",
    "    INNER JOIN film_category USING (film_id)\n",
    "    INNER JOIN category USING (category_id)\n",
    "GROUP BY\n",
    "    category.name\n",
    "ORDER BY\n",
    "    AVG(length) DESC\n",
    "''')"
   ]
  },
  {
   "cell_type": "code",
   "execution_count": 49,
   "metadata": {},
   "outputs": [
    {
     "name": "stdout",
     "output_type": "stream",
     "text": [
      "Executando query:\n",
      "('Action', Decimal('111.6094'))\n",
      "('Animation', Decimal('111.0152'))\n",
      "('Children', Decimal('109.8000'))\n",
      "('Classics', Decimal('111.6667'))\n",
      "('Comedy', Decimal('115.8276'))\n",
      "('Documentary', Decimal('108.7500'))\n",
      "('Drama', Decimal('120.8387'))\n",
      "('Family', Decimal('114.7826'))\n",
      "('Foreign', Decimal('121.6986'))\n",
      "('Games', Decimal('127.8361'))\n",
      "('Horror', Decimal('112.4821'))\n",
      "('Music', Decimal('113.6471'))\n",
      "('New', Decimal('111.1270'))\n",
      "('Sci-Fi', Decimal('108.1967'))\n",
      "('Sports', Decimal('128.2027'))\n",
      "('Travel', Decimal('113.3158'))\n"
     ]
    }
   ],
   "source": [
    "#name puro pois to agrupando pela chave primaria de categoria\n",
    "db('''\n",
    "SELECT \n",
    "    name, AVG(length)\n",
    "FROM \n",
    "    category\n",
    "    INNER JOIN film_category USING (category_id)\n",
    "    INNER JOIN film USING (film_id)\n",
    "GROUP BY\n",
    "    category_id\n",
    "''')"
   ]
  },
  {
   "cell_type": "markdown",
   "metadata": {},
   "source": [
    "Liste o nome da categoria e a duração média dos filmes por categoria, apenas para categorias cuja duração média de filme excede 120 minutos."
   ]
  },
  {
   "cell_type": "code",
   "execution_count": 50,
   "metadata": {},
   "outputs": [
    {
     "name": "stdout",
     "output_type": "stream",
     "text": [
      "Executando query:\n",
      "('Sports', Decimal('128.2027'))\n",
      "('Games', Decimal('127.8361'))\n",
      "('Foreign', Decimal('121.6986'))\n",
      "('Drama', Decimal('120.8387'))\n"
     ]
    }
   ],
   "source": [
    "#Having uso para depois de ter agrupado por categoria  e agregar com avg, quero apenas selecionar a duração : primo do where\n",
    "\n",
    "db('''\n",
    "SELECT \n",
    "    category.name, AVG(length)\n",
    "FROM \n",
    "    film\n",
    "    INNER JOIN film_category USING (film_id)\n",
    "    INNER JOIN category USING (category_id)\n",
    "GROUP BY\n",
    "    category.name\n",
    "HAVING\n",
    "    AVG(length) > 120\n",
    "ORDER BY\n",
    "    AVG(length) DESC\n",
    "''')"
   ]
  },
  {
   "cell_type": "markdown",
   "metadata": {},
   "source": [
    "# Conclusão"
   ]
  },
  {
   "cell_type": "markdown",
   "metadata": {},
   "source": [
    "Esta aula de hoje foi bastante densa! Dicas de estudo:\n",
    "\n",
    "- Pratique no seu livro-texto, capítulo 9. Lembre-se que a base 'música' pode ser usada para praticar os comandos SQL vistos no livro.\n",
    "- Tente criar queries que sirvam de exemplo para os conceitos do livro! A tarefa de criar exemplos é muito instrutiva!\n",
    "\n",
    "**Leitura prévia**:\n",
    "Para a próxima aula vamos continuar praticando, com os assuntos dos capítulos 10 e 11, prepare-se para a aula, ok?\n",
    "\n",
    "Até a próxima!"
   ]
  },
  {
   "cell_type": "markdown",
   "metadata": {},
   "source": [
    "Exercício) Qual a Query mais maligna que conseguimos imaginar. Inventar um ex com o maior número de joins, having, etc"
   ]
  },
  {
   "cell_type": "markdown",
   "metadata": {},
   "source": [
    "Qual o país com o maior número de filmes alugados por pessoas que começam com o nome \"L\" cujo pertencem a categoria de menor duração média dentro desta seleção.\n"
   ]
  },
  {
   "cell_type": "code",
   "execution_count": 78,
   "metadata": {},
   "outputs": [
    {
     "name": "stdout",
     "output_type": "stream",
     "text": [
      "Executando query:\n",
      "('South Africa', 'Sci-Fi', 'LOUISE', Decimal('51.0000'))\n"
     ]
    }
   ],
   "source": [
    "db('''\n",
    "SELECT\n",
    "    MIN(country), MIN(category.name), MIN(customer.first_name), AVG(length) as media\n",
    "FROM \n",
    "    country\n",
    "    INNER JOIN city USING (country_id)\n",
    "    INNER JOIN address USING (city_id)\n",
    "    INNER JOIN customer USING (address_id)\n",
    "    INNER JOIN rental USING (customer_id)\n",
    "    INNER JOIN inventory USING (inventory_id)\n",
    "    INNER JOIN film USING (film_id)\n",
    "    INNER JOIN film_category USING (film_id)\n",
    "    INNER JOIN category USING(category_id)\n",
    "WHERE \n",
    "    rental.return_date IS NULL \n",
    "    AND customer.first_name like \"L%\"\n",
    "GROUP BY\n",
    "    category.name\n",
    "HAVING\n",
    "    media = 51\n",
    "ORDER BY\n",
    "    AVG(length) ASC\n",
    "\n",
    "\n",
    "''')"
   ]
  },
  {
   "cell_type": "markdown",
   "metadata": {},
   "source": [
    "Qual o país em que as pessoas mais gastam com filmes da categoria 'Drama' que ainda não foram devolvidos e na qual a linguagem original do filme é francês?"
   ]
  },
  {
   "cell_type": "code",
   "execution_count": null,
   "metadata": {},
   "outputs": [],
   "source": []
  },
  {
   "cell_type": "markdown",
   "metadata": {},
   "source": [
    "Qual o país com o maior número de filmes alugados cujo pertencem a categoria de maior duração média"
   ]
  },
  {
   "cell_type": "code",
   "execution_count": 82,
   "metadata": {},
   "outputs": [
    {
     "name": "stdout",
     "output_type": "stream",
     "text": [
      "Executando query:\n",
      "(15, Decimal('128.2027'))\n"
     ]
    }
   ],
   "source": [
    "db('''\n",
    "SELECT\n",
    "    category_id, AVG(length) as avg_length\n",
    "FROM \n",
    "    film_category\n",
    "    INNER JOIN film USING (film_id)\n",
    "\n",
    "GROUP BY\n",
    "    category_id\n",
    "ORDER BY\n",
    "    avg_length DESC\n",
    "LIMIT \n",
    "    1\n",
    "''')\n"
   ]
  },
  {
   "cell_type": "code",
   "execution_count": null,
   "metadata": {},
   "outputs": [],
   "source": [
    "db(''' \n",
    "\n",
    "\n",
    "\n",
    "\n",
    "''')"
   ]
  },
  {
   "cell_type": "code",
   "execution_count": 51,
   "metadata": {},
   "outputs": [],
   "source": [
    "connection.close()"
   ]
  },
  {
   "cell_type": "code",
   "execution_count": null,
   "metadata": {},
   "outputs": [],
   "source": []
  }
 ],
 "metadata": {
  "kernelspec": {
   "display_name": "Python 3",
   "language": "python",
   "name": "python3"
  },
  "language_info": {
   "codemirror_mode": {
    "name": "ipython",
    "version": 3
   },
   "file_extension": ".py",
   "mimetype": "text/x-python",
   "name": "python",
   "nbconvert_exporter": "python",
   "pygments_lexer": "ipython3",
   "version": "3.7.6"
  }
 },
 "nbformat": 4,
 "nbformat_minor": 4
}

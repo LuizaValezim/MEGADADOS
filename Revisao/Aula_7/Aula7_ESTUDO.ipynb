{
 "cells": [
  {
   "cell_type": "code",
   "execution_count": 1,
   "metadata": {},
   "outputs": [],
   "source": [
    "from functools import partial\n",
    "import mysql.connector\n",
    "\n",
    "connection = mysql.connector.connect(\n",
    "    host='localhost',\n",
    "    user='megadados',\n",
    "    password='megadados',\n",
    "    database='sakila',\n",
    "    sql_mode='only_full_group_by',\n",
    ")\n",
    "\n",
    "\n",
    "def run_db_query(connection, query, args=None):\n",
    "    with connection.cursor() as cursor:\n",
    "        print('Executando query:')\n",
    "        cursor.execute(query, args)\n",
    "        for result in cursor:\n",
    "            print(result)\n",
    "\n",
    "\n",
    "db = partial(run_db_query, connection)"
   ]
  },
  {
   "cell_type": "markdown",
   "metadata": {},
   "source": [
    "1) Quais os nomes das categorias de filme?"
   ]
  },
  {
   "cell_type": "code",
   "execution_count": 2,
   "metadata": {},
   "outputs": [
    {
     "name": "stdout",
     "output_type": "stream",
     "text": [
      "Executando query:\n",
      "('Action',)\n",
      "('Animation',)\n",
      "('Children',)\n",
      "('Classics',)\n",
      "('Comedy',)\n",
      "('Documentary',)\n",
      "('Drama',)\n",
      "('Family',)\n",
      "('Foreign',)\n",
      "('Games',)\n",
      "('Horror',)\n",
      "('Music',)\n",
      "('New',)\n",
      "('Sci-Fi',)\n",
      "('Sports',)\n",
      "('Travel',)\n"
     ]
    }
   ],
   "source": [
    "db('''\n",
    "SELECT \n",
    "    name\n",
    "FROM\n",
    "    category\n",
    "''')"
   ]
  },
  {
   "cell_type": "markdown",
   "metadata": {},
   "source": [
    "2) Quais atores tem as iniciais \"J.D.\"?"
   ]
  },
  {
   "cell_type": "code",
   "execution_count": 3,
   "metadata": {},
   "outputs": [
    {
     "name": "stdout",
     "output_type": "stream",
     "text": [
      "Executando query:\n",
      "('JENNIFER', 'DAVIS')\n",
      "('JUDY', 'DEAN')\n",
      "('JODIE', 'DEGENERES')\n",
      "('JULIANNE', 'DENCH')\n"
     ]
    }
   ],
   "source": [
    "db('''\n",
    "SELECT \n",
    "    first_name, last_name\n",
    "FROM\n",
    "    actor\n",
    "WHERE\n",
    "    last_name like \"D%\"\n",
    "    AND first_name like \"J%\"\n",
    "''')"
   ]
  },
  {
   "cell_type": "markdown",
   "metadata": {},
   "source": [
    "3) Liste as cidades brasileiras presentes na base de dados."
   ]
  },
  {
   "cell_type": "code",
   "execution_count": 4,
   "metadata": {},
   "outputs": [
    {
     "name": "stdout",
     "output_type": "stream",
     "text": [
      "Executando query:\n",
      "('Alvorada',)\n",
      "('Angra dos Reis',)\n",
      "('Anpolis',)\n",
      "('Aparecida de Goinia',)\n",
      "('Araatuba',)\n",
      "('Bag',)\n",
      "('Belm',)\n",
      "('Blumenau',)\n",
      "('Boa Vista',)\n",
      "('Braslia',)\n",
      "('Goinia',)\n",
      "('Guaruj',)\n",
      "('guas Lindas de Gois',)\n",
      "('Ibirit',)\n",
      "('Juazeiro do Norte',)\n",
      "('Juiz de Fora',)\n",
      "('Luzinia',)\n",
      "('Maring',)\n",
      "('Po',)\n",
      "('Poos de Caldas',)\n",
      "('Rio Claro',)\n",
      "('Santa Brbara dOeste',)\n",
      "('Santo Andr',)\n",
      "('So Bernardo do Campo',)\n",
      "('So Leopoldo',)\n",
      "('Sorocaba',)\n",
      "('Vila Velha',)\n",
      "('Vitria de Santo Anto',)\n"
     ]
    }
   ],
   "source": [
    "db('''\n",
    "SELECT\n",
    "    city\n",
    "FROM\n",
    "    country\n",
    "    INNER JOIN city USING (country_id)\n",
    "WHERE\n",
    "    country = 'Brazil'\n",
    "\n",
    "''')"
   ]
  },
  {
   "cell_type": "markdown",
   "metadata": {},
   "source": [
    "4) Quantas cidades brasileiras tem na base de dados?"
   ]
  },
  {
   "cell_type": "code",
   "execution_count": 5,
   "metadata": {},
   "outputs": [
    {
     "name": "stdout",
     "output_type": "stream",
     "text": [
      "Executando query:\n",
      "(28,)\n"
     ]
    }
   ],
   "source": [
    "db('''\n",
    "SELECT\n",
    "    COUNT(city)\n",
    "FROM\n",
    "    country\n",
    "    INNER JOIN city USING (country_id)\n",
    "WHERE\n",
    "    country = 'Brazil'\n",
    "''')"
   ]
  },
  {
   "cell_type": "markdown",
   "metadata": {},
   "source": [
    "5) Liste os filmes do ator (fictício) \"Dan Harris\""
   ]
  },
  {
   "cell_type": "code",
   "execution_count": 6,
   "metadata": {},
   "outputs": [
    {
     "name": "stdout",
     "output_type": "stream",
     "text": [
      "Executando query:\n",
      "('BEDAZZLED MARRIED',)\n",
      "('BOONDOCK BALLROOM',)\n",
      "('DESTINY SATURDAY',)\n",
      "('DIVINE RESURRECTION',)\n",
      "('EYES DRIVING',)\n",
      "('FELLOWSHIP AUTUMN',)\n",
      "('GHOST GROUNDHOG',)\n",
      "('GROOVE FICTION',)\n",
      "('HILLS NEIGHBORS',)\n",
      "('HOLIDAY GAMES',)\n",
      "('INDEPENDENCE HOTEL',)\n",
      "('INSIDER ARIZONA',)\n",
      "('JADE BUNCH',)\n",
      "('LIES TREATMENT',)\n",
      "('MONTEREY LABYRINTH',)\n",
      "('REUNION WITCHES',)\n",
      "('RUN PACIFIC',)\n",
      "('SCHOOL JACKET',)\n",
      "('SEVEN SWARM',)\n",
      "('SIEGE MADRE',)\n",
      "('STEERS ARMAGEDDON',)\n",
      "('STRAIGHT HOURS',)\n",
      "('SUMMER SCARFACE',)\n",
      "('SUPERFLY TRIP',)\n",
      "('TITANIC BOONDOCK',)\n",
      "('TITANS JERK',)\n",
      "('VANISHING ROCKY',)\n",
      "('WATERSHIP FRONTIER',)\n"
     ]
    }
   ],
   "source": [
    "db('''\n",
    "SELECT\n",
    "    title\n",
    "FROM\n",
    "    film\n",
    "    INNER JOIN film_actor USING (film_id)\n",
    "    INNER JOIN actor USING (actor_id)\n",
    "WHERE\n",
    "    first_name = 'Dan'\n",
    "    AND last_name = 'Harris'\n",
    "''')"
   ]
  },
  {
   "cell_type": "markdown",
   "metadata": {},
   "source": [
    "6) Quais filmes estão alugados por Florence Woods?"
   ]
  },
  {
   "cell_type": "code",
   "execution_count": 7,
   "metadata": {},
   "outputs": [
    {
     "name": "stdout",
     "output_type": "stream",
     "text": [
      "Executando query:\n",
      "('CLUB GRAFFITI',)\n",
      "('BLADE POLISH',)\n"
     ]
    }
   ],
   "source": [
    "db('''\n",
    "SELECT\n",
    "    title\n",
    "FROM\n",
    "    film\n",
    "    INNER JOIN inventory USING(film_id)\n",
    "    INNER JOIN rental USING(inventory_id)\n",
    "    INNER JOIN customer USING(customer_id)\n",
    "WHERE\n",
    "    first_name = 'Florence'\n",
    "    AND last_name = 'Woods'\n",
    "    AND return_date IS NULL\n",
    "''')"
   ]
  },
  {
   "cell_type": "markdown",
   "metadata": {},
   "source": [
    "7) Para quais línguas não tem nenhum filme na locadora? (Dica: use LEFT OUTER JOIN.)"
   ]
  },
  {
   "cell_type": "code",
   "execution_count": 11,
   "metadata": {},
   "outputs": [
    {
     "name": "stdout",
     "output_type": "stream",
     "text": [
      "Executando query:\n",
      "(None, 'Italian')\n",
      "(None, 'Japanese')\n",
      "(None, 'Mandarin')\n",
      "(None, 'French')\n",
      "(None, 'German')\n"
     ]
    }
   ],
   "source": [
    "db('''\n",
    "SELECT\n",
    "    title, name\n",
    "FROM\n",
    "    language\n",
    "    LEFT OUTER JOIN film USING(language_id)\n",
    "WHERE\n",
    "    title is NULL\n",
    "''')"
   ]
  },
  {
   "cell_type": "markdown",
   "metadata": {},
   "source": [
    "As vezes desejamos consultar quais os valores distintos de uma coluna. Para isso usamos o qualificador DISTINCT.\n",
    "\n",
    "8) Quais os anos de lançamento dos filmes da base?"
   ]
  },
  {
   "cell_type": "code",
   "execution_count": 12,
   "metadata": {},
   "outputs": [
    {
     "name": "stdout",
     "output_type": "stream",
     "text": [
      "Executando query:\n",
      "(2006,)\n"
     ]
    }
   ],
   "source": [
    "db('''\n",
    "SELECT\n",
    "    DISTINCT(release_year)\n",
    "FROM\n",
    "    film\n",
    "\n",
    "''')"
   ]
  },
  {
   "cell_type": "markdown",
   "metadata": {},
   "source": [
    "9) Quais clientes estão alugando um DVD agora?"
   ]
  },
  {
   "cell_type": "code",
   "execution_count": 20,
   "metadata": {},
   "outputs": [
    {
     "name": "stdout",
     "output_type": "stream",
     "text": [
      "Executando query:\n",
      "('ADRIAN', 'CLARY')\n",
      "('ALBERT', 'CROUSE')\n",
      "('ALBERTO', 'HENNING')\n",
      "('ALICIA', 'MILLS')\n",
      "('ALLAN', 'CORNISH')\n",
      "('ALLEN', 'BUTTERFIELD')\n",
      "('ALLISON', 'STANLEY')\n",
      "('ANA', 'BRADLEY')\n",
      "('ANDY', 'VANHORN')\n",
      "('ANGELA', 'HERNANDEZ')\n",
      "('ANNA', 'HILL')\n",
      "('ANNETTE', 'OLSON')\n",
      "('APRIL', 'BURNS')\n",
      "('BARRY', 'LOVELACE')\n",
      "('BECKY', 'MILES')\n",
      "('BERNARD', 'COLBY')\n",
      "('BETH', 'FRANKLIN')\n",
      "('BETTY', 'WHITE')\n",
      "('BEVERLY', 'BROOKS')\n",
      "('BILL', 'GAVIN')\n",
      "('BRANDON', 'HUEY')\n",
      "('BRENT', 'HARKINS')\n",
      "('CARMEN', 'OWENS')\n",
      "('CAROLYN', 'PEREZ')\n",
      "('CASSANDRA', 'WALTERS')\n",
      "('CATHY', 'SPENCER')\n",
      "('CECIL', 'VINES')\n",
      "('CHARLIE', 'BESS')\n",
      "('CHRIS', 'BROTHERS')\n",
      "('CHRISTIAN', 'JUNG')\n",
      "('CHRISTINE', 'ROBERTS')\n",
      "('CLAUDIA', 'FULLER')\n",
      "('CLINTON', 'BUFORD')\n",
      "('COLLEEN', 'BURTON')\n",
      "('CORY', 'MEEHAN')\n",
      "('COURTNEY', 'DAY')\n",
      "('CRAIG', 'MORRELL')\n",
      "('CURTIS', 'IRBY')\n",
      "('CYNTHIA', 'YOUNG')\n",
      "('DAISY', 'BATES')\n",
      "('DARRYL', 'ASHCRAFT')\n",
      "('DARYL', 'LARUE')\n",
      "('DERRICK', 'BOURQUE')\n",
      "('DIANNE', 'SHELTON')\n",
      "('DUSTIN', 'GILLETTE')\n",
      "('DWAYNE', 'OLVERA')\n",
      "('EDWARD', 'BAUGH')\n",
      "('ELIZABETH', 'BROWN')\n",
      "('ELMER', 'NOE')\n",
      "('EMILY', 'DIAZ')\n",
      "('ENRIQUE', 'FORSYTHE')\n",
      "('FELIX', 'GAFFNEY')\n",
      "('FLORENCE', 'WOODS')\n",
      "('FRED', 'WHEAT')\n",
      "('FREDDIE', 'DUGGAN')\n",
      "('GAIL', 'KNIGHT')\n",
      "('GARY', 'COY')\n",
      "('GILBERT', 'SLEDGE')\n",
      "('GINA', 'WILLIAMSON')\n",
      "('GLORIA', 'COOK')\n",
      "('GRACE', 'ELLIS')\n",
      "('GREG', 'ROBINS')\n",
      "('GREGORY', 'MAULDIN')\n",
      "('GUY', 'BROWNLEE')\n",
      "('GWENDOLYN', 'MAY')\n",
      "('HEATHER', 'MORRIS')\n",
      "('HELEN', 'HARRIS')\n",
      "('HILDA', 'HOPKINS')\n",
      "('HOLLY', 'FOX')\n",
      "('IAN', 'STILL')\n",
      "('IVAN', 'CROMWELL')\n",
      "('JAY', 'ROBB')\n",
      "('JEAN', 'BELL')\n",
      "('JEANETTE', 'GREENE')\n",
      "('JEANNE', 'LAWSON')\n",
      "('JENNY', 'CASTRO')\n",
      "('JEREMY', 'HURTADO')\n",
      "('JERRY', 'JORDON')\n",
      "('JESSIE', 'BANKS')\n",
      "('JESSIE', 'MILAM')\n",
      "('JOE', 'GILLILAND')\n",
      "('JOEL', 'FRANCISCO')\n",
      "('JOHN', 'FARNSWORTH')\n",
      "('JORDAN', 'ARCHULETA')\n",
      "('JOSHUA', 'MARK')\n",
      "('JUANITA', 'MASON')\n",
      "('JUDITH', 'COX')\n",
      "('JUDY', 'GRAY')\n",
      "('JULIE', 'SANCHEZ')\n",
      "('JUSTIN', 'NGO')\n",
      "('KATIE', 'ELLIOTT')\n",
      "('KENNETH', 'GOODEN')\n",
      "('KRISTIN', 'JOHNSTON')\n",
      "('KYLE', 'SPURLOCK')\n",
      "('LARRY', 'THRASHER')\n",
      "('LAURA', 'RODRIGUEZ')\n",
      "('LAUREN', 'HUDSON')\n",
      "('LAURIE', 'LAWRENCE')\n",
      "('LAWRENCE', 'LAWTON')\n",
      "('LEE', 'HAWKS')\n",
      "('LEONARD', 'SCHOFIELD')\n",
      "('LISA', 'ANDERSON')\n",
      "('LOIS', 'BUTLER')\n",
      "('LOUIS', 'LEONE')\n",
      "('LOUISE', 'JENKINS')\n",
      "('LUCY', 'WHEELER')\n",
      "('MARCIA', 'DEAN')\n",
      "('MARGARET', 'MOORE')\n",
      "('MARGIE', 'WADE')\n",
      "('MARIE', 'TURNER')\n",
      "('MARILYN', 'ROSS')\n",
      "('MARIO', 'CHEATHAM')\n",
      "('MARION', 'SNYDER')\n",
      "('MATTIE', 'HOFFMAN')\n",
      "('MELANIE', 'ARMSTRONG')\n",
      "('MELVIN', 'ELLINGTON')\n",
      "('MICHELLE', 'CLARK')\n",
      "('MIGUEL', 'BETANCOURT')\n",
      "('MILDRED', 'BAILEY')\n",
      "('MILTON', 'HOWLAND')\n",
      "('MORRIS', 'MCCARTER')\n",
      "('NAOMI', 'JENNINGS')\n",
      "('NATALIE', 'MEYER')\n",
      "('NEIL', 'RENNER')\n",
      "('NORMA', 'GONZALES')\n",
      "('NORMAN', 'CURRIER')\n",
      "('PEGGY', 'MYERS')\n",
      "('PERRY', 'SWAFFORD')\n",
      "('RAFAEL', 'ABNEY')\n",
      "('RAMONA', 'HALE')\n",
      "('RAYMOND', 'MCWHORTER')\n",
      "('REGINA', 'BERRY')\n",
      "('ROBIN', 'HAYES')\n",
      "('ROLAND', 'SOUTH')\n",
      "('SARAH', 'LEWIS')\n",
      "('SCOTT', 'SHELLEY')\n",
      "('SERGIO', 'STANFIELD')\n",
      "('SETH', 'HANNON')\n",
      "('SONIA', 'GREGORY')\n",
      "('STACEY', 'MONTGOMERY')\n",
      "('STACY', 'CUNNINGHAM')\n",
      "('STEPHANIE', 'MITCHELL')\n",
      "('SYLVIA', 'ORTIZ')\n",
      "('TAMARA', 'NGUYEN')\n",
      "('TAMMY', 'SANDERS')\n",
      "('TERRANCE', 'ROUSH')\n",
      "('TERRY', 'GRISSOM')\n",
      "('TOM', 'MILNER')\n",
      "('TRACY', 'COLE')\n",
      "('TRAVIS', 'ESTEP')\n",
      "('TYLER', 'WREN')\n",
      "('VICKIE', 'BREWER')\n",
      "('VIOLA', 'HANSON')\n",
      "('WANDA', 'PATTERSON')\n",
      "('WENDY', 'HARRISON')\n",
      "('WILLIE', 'MARKHAM')\n",
      "('WILLIE', 'HOWELL')\n",
      "('YOLANDA', 'WEAVER')\n",
      "('ZACHARY', 'HITE')\n"
     ]
    }
   ],
   "source": [
    "db('''\n",
    "SELECT\n",
    "    DISTINCT(first_name), last_name\n",
    "FROM\n",
    "    customer\n",
    "    INNER JOIN rental USING (customer_id)\n",
    "WHERE\n",
    "    return_date IS NULL\n",
    "ORDER BY\n",
    "    first_name\n",
    "''')"
   ]
  },
  {
   "cell_type": "markdown",
   "metadata": {},
   "source": [
    "10) Quais os 10 atores que mais apareceram em filmes?"
   ]
  },
  {
   "cell_type": "code",
   "execution_count": 21,
   "metadata": {},
   "outputs": [
    {
     "name": "stdout",
     "output_type": "stream",
     "text": [
      "Executando query:\n",
      "(107, 'GINA', 'DEGENERES', 42)\n",
      "(102, 'WALTER', 'TORN', 41)\n",
      "(198, 'MARY', 'KEITEL', 40)\n",
      "(181, 'MATTHEW', 'CARREY', 39)\n",
      "(23, 'SANDRA', 'KILMER', 37)\n",
      "(81, 'SCARLETT', 'DAMON', 36)\n",
      "(37, 'VAL', 'BOLGER', 35)\n",
      "(158, 'VIVIEN', 'BASINGER', 35)\n",
      "(106, 'GROUCHO', 'DUNST', 35)\n",
      "(13, 'UMA', 'WOOD', 35)\n"
     ]
    }
   ],
   "source": [
    "db('''\n",
    "SELECT\n",
    "    actor_id, first_name, last_name, COUNT(actor_id) as aparicoes\n",
    "FROM\n",
    "    actor\n",
    "    INNER JOIN film_actor USING (actor_id)\n",
    "    INNER JOIN film USING (film_id)\n",
    "GROUP BY\n",
    "    actor_id\n",
    "ORDER BY\n",
    "    aparicoes DESC\n",
    "LIMIT\n",
    "    10\n",
    "''')"
   ]
  },
  {
   "cell_type": "markdown",
   "metadata": {},
   "source": [
    "11) Quais filmes custam mais que 3 dinheiros?"
   ]
  },
  {
   "cell_type": "code",
   "execution_count": 23,
   "metadata": {},
   "outputs": [
    {
     "name": "stdout",
     "output_type": "stream",
     "text": [
      "Executando query:\n",
      "(336,)\n"
     ]
    }
   ],
   "source": [
    "db('''\n",
    "SELECT\n",
    "    COUNT(film_id)\n",
    "FROM\n",
    "    film\n",
    "WHERE\n",
    "    rental_rate > 3\n",
    "\n",
    "''')"
   ]
  },
  {
   "cell_type": "markdown",
   "metadata": {},
   "source": [
    "12) Quais atores não compartilham seu sobrenome com nenhum outro ator?"
   ]
  },
  {
   "cell_type": "code",
   "execution_count": 32,
   "metadata": {},
   "outputs": [
    {
     "name": "stdout",
     "output_type": "stream",
     "text": [
      "Executando query:\n",
      "('ANGELINA', 'ASTAIRE', 1)\n",
      "('RUSSELL', 'BACALL', 1)\n",
      "('HARRISON', 'BALE', 1)\n",
      "('RENEE', 'BALL', 1)\n",
      "('JULIA', 'BARRYMORE', 1)\n",
      "('VIVIEN', 'BASINGER', 1)\n",
      "('VIVIEN', 'BERGEN', 1)\n",
      "('LIZA', 'BERGMAN', 1)\n",
      "('CUBA', 'BIRCH', 1)\n",
      "('KEVIN', 'BLOOM', 1)\n",
      "('CHRIS', 'BRIDGES', 1)\n",
      "('LAURENCE', 'BULLOCK', 1)\n",
      "('MATTHEW', 'CARREY', 1)\n",
      "('GREG', 'CHAPLIN', 1)\n",
      "('RUSSELL', 'CLOSE', 1)\n",
      "('FRED', 'COSTNER', 1)\n",
      "('SIDNEY', 'CROWE', 1)\n",
      "('JUDE', 'CRUISE', 1)\n",
      "('RALPH', 'CRUZ', 1)\n",
      "('SCARLETT', 'DAMON', 1)\n",
      "('FRANCES', 'DAY-LEWIS', 1)\n",
      "('SYLVESTER', 'DERN', 1)\n",
      "('ALAN', 'DREYFUSS', 1)\n",
      "('GROUCHO', 'DUNST', 1)\n",
      "('CHRISTIAN', 'GABLE', 1)\n",
      "('MERYL', 'GIBSON', 1)\n",
      "('PARKER', 'GOLDBERG', 1)\n",
      "('ADAM', 'GRANT', 1)\n",
      "('MEG', 'HAWKE', 1)\n",
      "('GEOFFREY', 'HESTON', 1)\n",
      "('HARVEY', 'HOPE', 1)\n",
      "('ANGELA', 'HUDSON', 1)\n",
      "('CARMEN', 'HUNT', 1)\n",
      "('WHOOPI', 'HURT', 1)\n",
      "('WOODY', 'JOLIE', 1)\n",
      "('KIRK', 'JOVOVICH', 1)\n",
      "('MATTHEW', 'LEIGH', 1)\n",
      "('JOHNNY', 'LOLLOBRIGIDA', 1)\n",
      "('GRETA', 'MALDEN', 1)\n",
      "('ED', 'MANSFIELD', 1)\n",
      "('ELVIS', 'MARX', 1)\n",
      "('MORGAN', 'MCDORMAND', 1)\n",
      "('TOM', 'MIRANDA', 1)\n",
      "('BETTE', 'NICHOLSON', 1)\n",
      "('KENNETH', 'PESCI', 1)\n",
      "('OLYMPIA', 'PFEIFFER', 1)\n",
      "('GARY', 'PHOENIX', 1)\n",
      "('PENELOPE', 'PINKETT', 1)\n",
      "('JAMES', 'PITT', 1)\n",
      "('BURT', 'POSEY', 1)\n",
      "('ELLEN', 'PRESLEY', 1)\n",
      "('RITA', 'REYNOLDS', 1)\n",
      "('JADA', 'RYDER', 1)\n",
      "('GROUCHO', 'SINATRA', 1)\n",
      "('SISSY', 'SOBIESKI', 1)\n",
      "('NICK', 'STALLONE', 1)\n",
      "('JOHN', 'SUVARI', 1)\n",
      "('JOE', 'SWANK', 1)\n",
      "('DUSTIN', 'TAUTOU', 1)\n",
      "('FRANCES', 'TOMEI', 1)\n",
      "('HELEN', 'VOIGHT', 1)\n",
      "('BELA', 'WALKEN', 1)\n",
      "('ALEC', 'WAYNE', 1)\n",
      "('WILL', 'WILSON', 1)\n",
      "('ANGELA', 'WITHERSPOON', 1)\n",
      "('CAMERON', 'WRAY', 1)\n"
     ]
    }
   ],
   "source": [
    "db('''\n",
    "SELECT\n",
    "    MIN(first_name), MIN(last_name), COUNT(last_name) as unico_sobrenome\n",
    "FROM\n",
    "    actor\n",
    "GROUP BY\n",
    "    last_name\n",
    "HAVING\n",
    "    unico_sobrenome = 1\n",
    "ORDER BY\n",
    "    last_name\n",
    "''')"
   ]
  },
  {
   "cell_type": "markdown",
   "metadata": {},
   "source": [
    "13) Liste a duração média dos filmes na categoria 'Drama'. Aqui o GROUP BY é necessário?"
   ]
  },
  {
   "cell_type": "code",
   "execution_count": 33,
   "metadata": {},
   "outputs": [
    {
     "name": "stdout",
     "output_type": "stream",
     "text": [
      "Executando query:\n",
      "(Decimal('120.8387'),)\n"
     ]
    }
   ],
   "source": [
    "db('''\n",
    "SELECT\n",
    "    AVG(length)\n",
    "FROM\n",
    "    film\n",
    "    INNER JOIN film_category USING (film_id)\n",
    "    INNER JOIN category USING (category_id)\n",
    "WHERE\n",
    "    name = 'Drama'\n",
    "''')"
   ]
  },
  {
   "cell_type": "code",
   "execution_count": 36,
   "metadata": {},
   "outputs": [
    {
     "name": "stdout",
     "output_type": "stream",
     "text": [
      "Executando query:\n",
      "('Drama', Decimal('120.8387'))\n"
     ]
    }
   ],
   "source": [
    "db('''\n",
    "SELECT\n",
    "    name, AVG(length)\n",
    "FROM\n",
    "    film\n",
    "    INNER JOIN film_category USING (film_id)\n",
    "    INNER JOIN category USING (category_id)\n",
    "GROUP BY\n",
    "    category_id\n",
    "HAVING\n",
    "    name = 'Drama'\n",
    "''')"
   ]
  },
  {
   "cell_type": "markdown",
   "metadata": {},
   "source": [
    "14) Liste o nome da categoria e a duração média dos filmes por categoria."
   ]
  },
  {
   "cell_type": "code",
   "execution_count": 37,
   "metadata": {},
   "outputs": [
    {
     "name": "stdout",
     "output_type": "stream",
     "text": [
      "Executando query:\n",
      "('Sports', Decimal('128.2027'))\n",
      "('Games', Decimal('127.8361'))\n",
      "('Foreign', Decimal('121.6986'))\n",
      "('Drama', Decimal('120.8387'))\n",
      "('Comedy', Decimal('115.8276'))\n",
      "('Family', Decimal('114.7826'))\n",
      "('Music', Decimal('113.6471'))\n",
      "('Travel', Decimal('113.3158'))\n",
      "('Horror', Decimal('112.4821'))\n",
      "('Classics', Decimal('111.6667'))\n",
      "('Action', Decimal('111.6094'))\n",
      "('New', Decimal('111.1270'))\n",
      "('Animation', Decimal('111.0152'))\n",
      "('Children', Decimal('109.8000'))\n",
      "('Documentary', Decimal('108.7500'))\n",
      "('Sci-Fi', Decimal('108.1967'))\n"
     ]
    }
   ],
   "source": [
    "db('''\n",
    "SELECT\n",
    "    name, AVG(length) as duracao\n",
    "FROM\n",
    "    film\n",
    "    INNER JOIN film_category USING (film_id)\n",
    "    INNER JOIN category USING (category_id)\n",
    "GROUP BY\n",
    "    category_id\n",
    "ORDER BY\n",
    "    duracao DESC\n",
    "''')"
   ]
  },
  {
   "cell_type": "markdown",
   "metadata": {},
   "source": [
    "15) Liste o nome da categoria e a duração média dos filmes por categoria, apenas para categorias cuja duração média de filme excede 120 minutos."
   ]
  },
  {
   "cell_type": "code",
   "execution_count": 38,
   "metadata": {},
   "outputs": [
    {
     "name": "stdout",
     "output_type": "stream",
     "text": [
      "Executando query:\n",
      "('Sports', Decimal('128.2027'))\n",
      "('Games', Decimal('127.8361'))\n",
      "('Foreign', Decimal('121.6986'))\n",
      "('Drama', Decimal('120.8387'))\n"
     ]
    }
   ],
   "source": [
    "db('''\n",
    "SELECT\n",
    "    name, AVG(length) as duracao\n",
    "FROM\n",
    "    film\n",
    "    INNER JOIN film_category USING (film_id)\n",
    "    INNER JOIN category USING (category_id)\n",
    "GROUP BY\n",
    "    category_id\n",
    "HAVING\n",
    "    duracao > 120\n",
    "ORDER BY\n",
    "    duracao DESC\n",
    "''')"
   ]
  },
  {
   "cell_type": "code",
   "execution_count": 39,
   "metadata": {},
   "outputs": [],
   "source": [
    "connection.close()"
   ]
  },
  {
   "cell_type": "code",
   "execution_count": null,
   "metadata": {},
   "outputs": [],
   "source": []
  }
 ],
 "metadata": {
  "kernelspec": {
   "display_name": "Python 3",
   "language": "python",
   "name": "python3"
  },
  "language_info": {
   "codemirror_mode": {
    "name": "ipython",
    "version": 3
   },
   "file_extension": ".py",
   "mimetype": "text/x-python",
   "name": "python",
   "nbconvert_exporter": "python",
   "pygments_lexer": "ipython3",
   "version": "3.7.6"
  }
 },
 "nbformat": 4,
 "nbformat_minor": 4
}

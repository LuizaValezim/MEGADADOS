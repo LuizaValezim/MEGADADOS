{
 "cells": [
  {
   "cell_type": "markdown",
   "metadata": {},
   "source": [
    "## Prova antiga"
   ]
  },
  {
   "cell_type": "markdown",
   "metadata": {},
   "source": [
    "1) Por que usar um sistema de gerenciamento de banco de dados e não um arquivo simples?\n",
    "\n",
    "De fato, existem outras alternativas para um sistema de gerenciamento de bancos de dados, e isso porque nem sempre um banco de dados é necessário. Podem ser usados: um simples arquivo de texto, uma planilha Excel ou até um pedaço de papel. Mas,  precisamos considerar as seguintes situações: se o contexto envolve uma empresa, se há muitos usuários usando aquele arquivo de dados e se há muitos acessos, sem um gerenciamento de banco de dados provavelmente haverá fila para fazer acesso, lentidão, desorganização, mais complexidade para realizar certas operações, menor precisão e consistência, exposição de dados que deveriam estar sob sigilo e pouca proteção contra falhas. Dessa forma, usar um sistema de gerenciamento de dados que já foi concebido com todas essas situações sendo levadas em consideração é muito vantajoso, e é por isso que ele é tão usado em vendas e estoques, recursos humanos, dados científicos, informações geográficas, entre outros."
   ]
  },
  {
   "cell_type": "markdown",
   "metadata": {},
   "source": [
    "2) Qual a diferença entre WHERE e HAVING?\n",
    "\n",
    "O HAVING é bem parecido com o WHERE, porém ele é aplicado apenas para grupos como um todo (isto é, para as colunas que também aparecem na clásula GROUP BY ou em uma função agregada - o que representa grupos), enquanto o WHERE é aplicado para linhas individuais de uma tabela. Importante resssaltar que uma query pode ter tanto o termo WHERE quanto o termo HAVING. Nesse caso, primeiro é aplicado o WHERE para as linhas individuais nas tabelas, que resultam em linhas que cumprem com as condições indicadas ali. Depois o HAVING será aplicado para as linhas no conjunto resultante, de tal forma que apenas grupos que atendam as condições estabelecidas no HAVING irão aparecer no query de saída.\n"
   ]
  },
  {
   "cell_type": "markdown",
   "metadata": {},
   "source": [
    "3) Qual a diferença entre uma View e uma Temporary Table?\n",
    "\n",
    "A VIEW é quase como se fosse uma apelido para o SELECT, funcionando apenas com uma operação de consulta (read-only), mas sendo dinâmica - de tal forma que se os dados originais mudarem, a view também mudará. Além disso, o objeto da VIEW é permanente, então caso seja interessante combinar algumas informações e disponibilizar dados diltrados para os usuários sem perdê-los, a VIEW é ideal. Por sua vez, a TEMPORARY TABLE é como se fosse um snapshot dos dados, funcionando não apenas com uma operação de consulta mas também com operações de edição, inserção (read-write). Outrossim, a temporary table é estática, de tal forma que faz apenas uma cópia dos dados originais sendo uma tabela independente. Por fim, o objeto da temporary table é temporário, não permanecendo no disco após o fim da conexão com o banco de dados, sendo principalmente usada como um passo intermediário de consulta.\n"
   ]
  },
  {
   "cell_type": "code",
   "execution_count": 3,
   "metadata": {},
   "outputs": [],
   "source": [
    "import mysql.connector\n",
    "from functools import partial\n",
    "\n",
    "\n",
    "def get_connection_helper():\n",
    "\n",
    "    def run_db_query(connection, query, args=None):\n",
    "        with connection.cursor() as cursor:\n",
    "            print('Executando query:')\n",
    "            cursor.execute(query, args)\n",
    "            for result in cursor:\n",
    "                print(result)\n",
    "\n",
    "    connection = mysql.connector.connect(\n",
    "        host='localhost',\n",
    "        user='megadados',\n",
    "        password='megadados',\n",
    "        database='xpto',\n",
    "    )\n",
    "    return connection, partial(run_db_query, connection)\n",
    "\n",
    "\n",
    "connection, db = get_connection_helper()"
   ]
  },
  {
   "cell_type": "code",
   "execution_count": 4,
   "metadata": {},
   "outputs": [
    {
     "name": "stdout",
     "output_type": "stream",
     "text": [
      "Executando query:\n",
      "('sem gluten',)\n",
      "('sem lactose',)\n",
      "('vegana',)\n",
      "('vegetariana',)\n",
      "Executando query:\n",
      "('abobrinha', 'sem gluten')\n",
      "('calabresa', 'sem gluten')\n",
      "('massa sem gluten', 'sem gluten')\n",
      "('mussarela', 'sem gluten')\n",
      "('mussarela vegana', 'sem gluten')\n",
      "('picanha', 'sem gluten')\n",
      "('abobrinha', 'sem lactose')\n",
      "('calabresa', 'sem lactose')\n",
      "('massa sem gluten', 'sem lactose')\n",
      "('mussarela vegana', 'sem lactose')\n",
      "('picanha', 'sem lactose')\n",
      "('abobrinha', 'vegana')\n",
      "('massa sem gluten', 'vegana')\n",
      "('mussarela vegana', 'vegana')\n",
      "('abobrinha', 'vegetariana')\n",
      "('massa', 'vegetariana')\n",
      "('massa sem gluten', 'vegetariana')\n",
      "('mussarela', 'vegetariana')\n",
      "('mussarela vegana', 'vegetariana')\n",
      "Executando query:\n",
      "('abobrinha', 5.0)\n",
      "('calabresa', 30.0)\n",
      "('massa', 5.0)\n",
      "('massa sem gluten', 7.0)\n",
      "('mussarela', 10.0)\n",
      "('mussarela vegana', 20.0)\n",
      "('picanha', 40.0)\n",
      "Executando query:\n",
      "('calabresa', 'calabresa', 3.0)\n",
      "('calabresa', 'massa', 1.0)\n",
      "('incoerente', 'massa sem gluten', 1.0)\n",
      "('incoerente', 'mussarela', 1.0)\n",
      "('incoerente', 'mussarela vegana', 1.0)\n",
      "('incoerente', 'picanha', 2.0)\n",
      "('legumes', 'abobrinha', 3.0)\n",
      "('legumes', 'massa sem gluten', 1.0)\n",
      "('mussarela', 'massa', 1.0)\n",
      "('mussarela', 'mussarela', 3.0)\n",
      "('pão', 'massa', 1.0)\n",
      "Executando query:\n",
      "('calabresa', 100.0)\n",
      "('incoerente', 200.0)\n",
      "('legumes', 100.0)\n",
      "('mussarela', 100.0)\n",
      "('pão', 100.0)\n"
     ]
    }
   ],
   "source": [
    "#Fazendo um teste:\n",
    "\n",
    "db('''\n",
    "SELECT\n",
    "    *\n",
    "FROM \n",
    "    tipo\n",
    "''')\n",
    "\n",
    "db('''\n",
    "SELECT\n",
    "    *\n",
    "FROM \n",
    "    ingredientetipo\n",
    "''')\n",
    "\n",
    "db('''\n",
    "SELECT\n",
    "    *\n",
    "FROM \n",
    "    ingrediente\n",
    "''')\n",
    "\n",
    "db('''\n",
    "SELECT\n",
    "    *\n",
    "FROM \n",
    "    ingredientepizza\n",
    "''')\n",
    "\n",
    "db('''\n",
    "SELECT\n",
    "    *\n",
    "FROM \n",
    "    pizza\n",
    "''')"
   ]
  },
  {
   "cell_type": "markdown",
   "metadata": {},
   "source": [
    "1) O script “script_001.sql” contem a DDL para criação do banco de dados e também a DML para inserção de\n",
    "alguns valores de exemplo, para ajudar vocês a responder as questões da prova. Se quiser, adicione\n",
    "exemplos à vontade. Nas perguntas a seguir construa código SQL para cumprir o que se pede."
   ]
  },
  {
   "cell_type": "markdown",
   "metadata": {},
   "source": [
    "a) (1.0 pt) Liste as 3 pizzas que dão mais lucro. O lucro de uma pizza é o seu preço de venda menos o\n",
    "custo total dos ingredientes nela utilizados (não se esqueça de que cada ingrediente da pizza tem uma\n",
    "especificação de quantidade a ser utilizada)."
   ]
  },
  {
   "cell_type": "code",
   "execution_count": 48,
   "metadata": {},
   "outputs": [
    {
     "name": "stdout",
     "output_type": "stream",
     "text": [
      "Executando query:\n",
      "('pão', 95.0)\n",
      "('incoerente', 83.0)\n",
      "('legumes', 78.0)\n"
     ]
    }
   ],
   "source": [
    "db('''\n",
    "SELECT \n",
    "    pizza, preco - SUM(preco_unitario*quantidade) as lucro\n",
    "FROM \n",
    "    ingrediente\n",
    "    INNER JOIN ingredientepizza USING (ingrediente)\n",
    "    INNER JOIN pizza USING (pizza)\n",
    "GROUP BY\n",
    "    pizza\n",
    "ORDER BY\n",
    "    lucro DESC\n",
    "LIMIT\n",
    "    3\n",
    "''')"
   ]
  },
  {
   "cell_type": "markdown",
   "metadata": {},
   "source": [
    " (1.0 pt) Construa uma tabela temporária que liste todas as pizzas e a quantidade de ingredientes nela."
   ]
  },
  {
   "cell_type": "code",
   "execution_count": 55,
   "metadata": {},
   "outputs": [
    {
     "name": "stdout",
     "output_type": "stream",
     "text": [
      "Executando query:\n",
      "('calabresa', 'calabresa', 2)\n",
      "('incoerente', 'massa sem gluten', 4)\n",
      "('legumes', 'abobrinha', 2)\n",
      "('mussarela', 'massa', 2)\n",
      "('pão', 'massa', 1)\n"
     ]
    }
   ],
   "source": [
    "db('''\n",
    "SELECT \n",
    "    pizza, ingrediente, COUNT(ingrediente) as qtd_ingrediente\n",
    "FROM\n",
    "    ingredientepizza\n",
    "GROUP BY\n",
    "    pizza\n",
    "''')"
   ]
  },
  {
   "cell_type": "code",
   "execution_count": 56,
   "metadata": {},
   "outputs": [
    {
     "name": "stdout",
     "output_type": "stream",
     "text": [
      "Executando query:\n",
      "Executando query:\n",
      "Executando query:\n",
      "('calabresa', 2)\n",
      "('incoerente', 4)\n",
      "('legumes', 2)\n",
      "('mussarela', 2)\n",
      "('pão', 1)\n"
     ]
    }
   ],
   "source": [
    "db('DROP TEMPORARY TABLE IF EXISTS qtd_ingredientes_pizza')\n",
    "\n",
    "db('''\n",
    "CREATE TEMPORARY TABLE qtd_ingredientes_pizza\n",
    "    SELECT \n",
    "        pizza, COUNT(ingrediente) as qtd_ingrediente\n",
    "    FROM\n",
    "        ingredientepizza\n",
    "    GROUP BY\n",
    "        pizza\n",
    "''')\n",
    "\n",
    "db('''\n",
    "SELECT\n",
    "    *\n",
    "FROM qtd_ingredientes_pizza\n",
    "\n",
    "''')"
   ]
  },
  {
   "cell_type": "markdown",
   "metadata": {},
   "source": [
    "(1.0 pt) Construa uma tabela temporária que liste todas as pizzas a quantidade de ingredientes\n",
    "veganos nela (ou seja, onde o tipo é “vegana”)"
   ]
  },
  {
   "cell_type": "code",
   "execution_count": 57,
   "metadata": {},
   "outputs": [
    {
     "name": "stdout",
     "output_type": "stream",
     "text": [
      "Executando query:\n",
      "('legumes', 2)\n",
      "('incoerente', 2)\n"
     ]
    }
   ],
   "source": [
    "db('''\n",
    "SELECT \n",
    "    pizza, COUNT(ingrediente) as qtd_ingrediente\n",
    "FROM\n",
    "    ingredientepizza\n",
    "    INNER JOIN ingredientetipo USING(ingrediente)\n",
    "WHERE \n",
    "    tipo = 'vegana'\n",
    "GROUP BY\n",
    "    pizza\n",
    "''')"
   ]
  },
  {
   "cell_type": "code",
   "execution_count": 58,
   "metadata": {},
   "outputs": [
    {
     "name": "stdout",
     "output_type": "stream",
     "text": [
      "Executando query:\n",
      "Executando query:\n",
      "Executando query:\n",
      "('legumes', 2)\n",
      "('incoerente', 2)\n"
     ]
    }
   ],
   "source": [
    "db('DROP TEMPORARY TABLE IF EXISTS qtd_ingredientes_pizza_veganos')\n",
    "\n",
    "db('''\n",
    "CREATE TEMPORARY TABLE qtd_ingredientes_pizza_veganos\n",
    "    SELECT \n",
    "        pizza, COUNT(ingrediente) as qtd_ingrediente\n",
    "    FROM\n",
    "        ingredientepizza\n",
    "        INNER JOIN ingredientetipo USING(ingrediente)\n",
    "    WHERE \n",
    "        tipo = 'vegana'\n",
    "    GROUP BY\n",
    "        pizza\n",
    "''')\n",
    "\n",
    "\n",
    "db('''\n",
    "SELECT\n",
    "    *\n",
    "FROM qtd_ingredientes_pizza_veganos\n",
    "\n",
    "''')"
   ]
  },
  {
   "cell_type": "markdown",
   "metadata": {},
   "source": [
    " (1.0 pt) Usando as tabelas temporárias dos itens (b) e (c) – mesmo que você não os tenha feito – liste\n",
    "as pizzas veganas da pizzaria. Uma pizza é vegana se todos os seus ingredientes são veganos.\n"
   ]
  },
  {
   "cell_type": "code",
   "execution_count": 59,
   "metadata": {},
   "outputs": [
    {
     "name": "stdout",
     "output_type": "stream",
     "text": [
      "Executando query:\n",
      "('legumes',)\n"
     ]
    }
   ],
   "source": [
    "db('''\n",
    "SELECT\n",
    "    pizza\n",
    "FROM\n",
    "    qtd_ingredientes_pizza\n",
    "    INNER JOIN qtd_ingredientes_pizza_veganos USING (pizza)\n",
    "WHERE\n",
    "    qtd_ingredientes_pizza.qtd_ingrediente = qtd_ingredientes_pizza_veganos.qtd_ingrediente \n",
    "''')"
   ]
  },
  {
   "cell_type": "markdown",
   "metadata": {},
   "source": [
    "(1.0 pt) Liste os ingredientes e seus tipos, um ingrediente por linha (Dica: use a função\n",
    "GROUP_CONCAT). O resultado deve ser da seguinte forma:"
   ]
  },
  {
   "cell_type": "code",
   "execution_count": 63,
   "metadata": {},
   "outputs": [
    {
     "name": "stdout",
     "output_type": "stream",
     "text": [
      "Executando query:\n",
      "('abobrinha', 'sem gluten, sem lactose, vegana, vegetariana')\n",
      "('calabresa', 'sem gluten, sem lactose')\n",
      "('massa', 'vegetariana')\n",
      "('massa sem gluten', 'sem gluten, sem lactose, vegana, vegetariana')\n",
      "('mussarela', 'sem gluten, vegetariana')\n",
      "('mussarela vegana', 'sem gluten, sem lactose, vegana, vegetariana')\n",
      "('picanha', 'sem gluten, sem lactose')\n"
     ]
    }
   ],
   "source": [
    "db('''\n",
    "SELECT\n",
    "    ingrediente, CONCAT(GROUP_CONCAT(tipo SEPARATOR \", \")) as lista_tipos\n",
    "FROM\n",
    "    ingredientetipo\n",
    "GROUP BY\n",
    "    ingrediente\n",
    "''')"
   ]
  },
  {
   "cell_type": "code",
   "execution_count": null,
   "metadata": {},
   "outputs": [],
   "source": []
  },
  {
   "cell_type": "code",
   "execution_count": 64,
   "metadata": {},
   "outputs": [],
   "source": [
    "connection.close()"
   ]
  },
  {
   "cell_type": "code",
   "execution_count": null,
   "metadata": {},
   "outputs": [],
   "source": []
  }
 ],
 "metadata": {
  "kernelspec": {
   "display_name": "Python 3",
   "language": "python",
   "name": "python3"
  },
  "language_info": {
   "codemirror_mode": {
    "name": "ipython",
    "version": 3
   },
   "file_extension": ".py",
   "mimetype": "text/x-python",
   "name": "python",
   "nbconvert_exporter": "python",
   "pygments_lexer": "ipython3",
   "version": "3.7.6"
  }
 },
 "nbformat": 4,
 "nbformat_minor": 4
}

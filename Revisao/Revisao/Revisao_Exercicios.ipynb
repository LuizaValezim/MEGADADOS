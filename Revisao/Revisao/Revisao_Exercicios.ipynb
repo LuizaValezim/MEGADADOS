{
 "cells": [
  {
   "cell_type": "code",
   "execution_count": 1,
   "metadata": {},
   "outputs": [],
   "source": [
    "import mysql.connector\n",
    "from functools import partial\n",
    "\n",
    "\n",
    "def get_connection_helper():\n",
    "\n",
    "    def run_db_query(connection, query, args=None):\n",
    "        with connection.cursor() as cursor:\n",
    "            print('Executando query:')\n",
    "            cursor.execute(query, args)\n",
    "            for result in cursor:\n",
    "                print(result)\n",
    "\n",
    "    connection = mysql.connector.connect(\n",
    "        host='localhost',\n",
    "        user='megadados',\n",
    "        password='megadados',\n",
    "        database='agro',\n",
    "    )\n",
    "    return connection, partial(run_db_query, connection)\n",
    "\n",
    "\n",
    "connection, db = get_connection_helper()"
   ]
  },
  {
   "cell_type": "code",
   "execution_count": 2,
   "metadata": {},
   "outputs": [
    {
     "name": "stdout",
     "output_type": "stream",
     "text": [
      "Executando query:\n",
      "(1, 'Terra Forte')\n",
      "(2, 'Agua Brava')\n",
      "Executando query:\n",
      "(1, 'milho')\n",
      "(2, 'soja')\n",
      "(3, 'cafe')\n",
      "(4, 'algodao')\n",
      "Executando query:\n",
      "(1, 'Mata-Tudo', Decimal('200.00'))\n",
      "(2, 'Mae-Terra', Decimal('500.00'))\n",
      "(3, 'Carinho', Decimal('700.00'))\n",
      "Executando query:\n",
      "(1, 1, 2, 3, 100.0)\n",
      "(2, 1, 1, 2, 70.0)\n",
      "(3, 1, None, None, 80.0)\n",
      "(4, 2, 4, None, 90.0)\n",
      "(5, 2, 3, 3, 50.0)\n",
      "(6, 2, 2, 2, 30.0)\n",
      "(7, 2, 4, None, 110.0)\n",
      "Executando query:\n",
      "(1, 1, 2)\n",
      "(1, 2, 1)\n",
      "(2, 2, 1)\n",
      "(2, 3, 1)\n",
      "(3, 1, 4)\n",
      "(3, 3, 1)\n"
     ]
    }
   ],
   "source": [
    "#Fazendo um teste:\n",
    "\n",
    "db('''\n",
    "SELECT\n",
    "    *\n",
    "FROM \n",
    "    fazenda\n",
    "''')\n",
    "\n",
    "db('''\n",
    "SELECT\n",
    "    *\n",
    "FROM \n",
    "    plantacao\n",
    "''')\n",
    "\n",
    "db('''\n",
    "SELECT\n",
    "    *\n",
    "FROM \n",
    "    inseticida\n",
    "''')\n",
    "\n",
    "db('''\n",
    "SELECT\n",
    "    *\n",
    "FROM \n",
    "    lote\n",
    "''')\n",
    "\n",
    "db('''\n",
    "SELECT\n",
    "    *\n",
    "FROM \n",
    "    plantacao_inseticida\n",
    "''')"
   ]
  },
  {
   "cell_type": "markdown",
   "metadata": {},
   "source": [
    "### QUESTÃO 4)\n",
    "\n",
    "a) Crie 3 lotes para a fazenda: um de 4 hectares, outro de 3 hectares, e outro\n",
    "de 5 hectares."
   ]
  },
  {
   "cell_type": "code",
   "execution_count": 3,
   "metadata": {},
   "outputs": [
    {
     "name": "stdout",
     "output_type": "stream",
     "text": [
      "Executando query:\n"
     ]
    }
   ],
   "source": [
    "db('''\n",
    "INSERT INTO Lote (id_lote, id_fazenda, id_plantacao, id_inseticida, area)\n",
    "VALUES (8,2,1,2,4) , (9,1,2,3,3) , (10,2,3,1,5)''')"
   ]
  },
  {
   "cell_type": "code",
   "execution_count": 4,
   "metadata": {},
   "outputs": [
    {
     "name": "stdout",
     "output_type": "stream",
     "text": [
      "Executando query:\n",
      "(1, 1, 2, 3, 100.0)\n",
      "(2, 1, 1, 2, 70.0)\n",
      "(3, 1, None, None, 80.0)\n",
      "(4, 2, 4, None, 90.0)\n",
      "(5, 2, 3, 3, 50.0)\n",
      "(6, 2, 2, 2, 30.0)\n",
      "(7, 2, 4, None, 110.0)\n",
      "(8, 2, 1, 2, 4.0)\n",
      "(9, 1, 2, 3, 3.0)\n",
      "(10, 2, 3, 1, 5.0)\n"
     ]
    }
   ],
   "source": [
    "db('''\n",
    "SELECT\n",
    "    id_lote, id_fazenda, id_plantacao, id_inseticida, area\n",
    "FROM \n",
    "    Lote\n",
    "''')"
   ]
  },
  {
   "cell_type": "markdown",
   "metadata": {},
   "source": [
    "b) Corrija um erro no item anterior: mude o tamanho do lote de 3 hectares para 3,5 hectares.\n"
   ]
  },
  {
   "cell_type": "code",
   "execution_count": 5,
   "metadata": {},
   "outputs": [
    {
     "name": "stdout",
     "output_type": "stream",
     "text": [
      "Executando query:\n"
     ]
    }
   ],
   "source": [
    "db(''' UPDATE Lote SET area = \"3.5\" WHERE id_lote = 9 ''')"
   ]
  },
  {
   "cell_type": "code",
   "execution_count": 6,
   "metadata": {},
   "outputs": [
    {
     "name": "stdout",
     "output_type": "stream",
     "text": [
      "Executando query:\n",
      "(1, 1, 2, 3, 100.0)\n",
      "(2, 1, 1, 2, 70.0)\n",
      "(3, 1, None, None, 80.0)\n",
      "(4, 2, 4, None, 90.0)\n",
      "(5, 2, 3, 3, 50.0)\n",
      "(6, 2, 2, 2, 30.0)\n",
      "(7, 2, 4, None, 110.0)\n",
      "(8, 2, 1, 2, 4.0)\n",
      "(9, 1, 2, 3, 3.5)\n",
      "(10, 2, 3, 1, 5.0)\n"
     ]
    }
   ],
   "source": [
    "db('''\n",
    "SELECT\n",
    "    id_lote, id_fazenda, id_plantacao, id_inseticida, area\n",
    "FROM \n",
    "    Lote\n",
    "''')"
   ]
  },
  {
   "cell_type": "markdown",
   "metadata": {},
   "source": [
    "c) Como obter o id do lote em uma aplicação real? É realista pedir ao usuário que decore o id de cada lote?\n",
    "\n",
    "\n",
    "**R**: Não, não é realista pedir para o usuário decorar o id de cada lote. O que pode ser feito é criar tabelas e utilizar ferramentas como o SELECT para obter as informações desejadas. Ou seja, a aplicação deve ter uma interface de usuário que permita a seleção do lote de interesse de modo simples.\n"
   ]
  },
  {
   "cell_type": "markdown",
   "metadata": {},
   "source": [
    "### Questão 5\n",
    "\n",
    "Escreva queries para as seguintes tarefas:\n",
    "    \n",
    "a) Qual a maior fazenda?"
   ]
  },
  {
   "cell_type": "code",
   "execution_count": 7,
   "metadata": {},
   "outputs": [
    {
     "name": "stdout",
     "output_type": "stream",
     "text": [
      "Executando query:\n",
      "(1, 'Terra Forte', 1, 100.0)\n",
      "(1, 'Terra Forte', 2, 70.0)\n",
      "(1, 'Terra Forte', 3, 80.0)\n",
      "(1, 'Terra Forte', 9, 3.5)\n",
      "(2, 'Agua Brava', 4, 90.0)\n",
      "(2, 'Agua Brava', 5, 50.0)\n",
      "(2, 'Agua Brava', 6, 30.0)\n",
      "(2, 'Agua Brava', 7, 110.0)\n",
      "(2, 'Agua Brava', 8, 4.0)\n",
      "(2, 'Agua Brava', 10, 5.0)\n"
     ]
    }
   ],
   "source": [
    "# DEBUGGGG\n",
    "\n",
    "db('''\n",
    "SELECT \n",
    "    id_fazenda, nome, id_lote, area\n",
    "FROM\n",
    "    fazenda\n",
    "    INNER JOIN lote USING (id_fazenda)    \n",
    "''')"
   ]
  },
  {
   "cell_type": "code",
   "execution_count": 8,
   "metadata": {},
   "outputs": [
    {
     "name": "stdout",
     "output_type": "stream",
     "text": [
      "Executando query:\n",
      "(2, 'Agua Brava', 289.0)\n"
     ]
    }
   ],
   "source": [
    "# RESPOSTA MINHAAAA:\n",
    "\n",
    "db('''\n",
    "SELECT \n",
    "    id_fazenda, nome, SUM(area) as area_total\n",
    "FROM\n",
    "    fazenda\n",
    "    INNER JOIN lote USING (id_fazenda)\n",
    "GROUP BY\n",
    "    id_fazenda\n",
    "ORDER BY\n",
    "    area_total DESC\n",
    "LIMIT\n",
    "    1\n",
    "''')"
   ]
  },
  {
   "cell_type": "code",
   "execution_count": 9,
   "metadata": {},
   "outputs": [
    {
     "name": "stdout",
     "output_type": "stream",
     "text": [
      "Executando query:\n",
      "('Terra Forte', 542.5)\n"
     ]
    }
   ],
   "source": [
    "# RESPOSTA DO PROF (Não funciona quando tenho mais que uma fazendaaaa)\n",
    "\n",
    "db('''\n",
    "SELECT\n",
    "    nome, SUM(area) AS total\n",
    "FROM\n",
    "    fazenda INNER JOIN lote USING (id_fazenda)\n",
    "ORDER BY \n",
    "    total DESC\n",
    "LIMIT 1;\n",
    "''')\n"
   ]
  },
  {
   "cell_type": "markdown",
   "metadata": {},
   "source": [
    "b) Quais as plantações com área total maior que 10 hectares?"
   ]
  },
  {
   "cell_type": "code",
   "execution_count": 10,
   "metadata": {},
   "outputs": [
    {
     "name": "stdout",
     "output_type": "stream",
     "text": [
      "Executando query:\n",
      "(1, 1, 2, 3, 100.0)\n",
      "(2, 1, 1, 2, 70.0)\n",
      "(3, 1, None, None, 80.0)\n",
      "(4, 2, 4, None, 90.0)\n",
      "(5, 2, 3, 3, 50.0)\n",
      "(6, 2, 2, 2, 30.0)\n",
      "(7, 2, 4, None, 110.0)\n",
      "(8, 2, 1, 2, 4.0)\n",
      "(9, 1, 2, 3, 3.5)\n",
      "(10, 2, 3, 1, 5.0)\n"
     ]
    }
   ],
   "source": [
    "# Antes, só conferir os lotes que tão plantados:\n",
    "\n",
    "db('''\n",
    "SELECT\n",
    "    *\n",
    "FROM \n",
    "    lote\n",
    "''')\n"
   ]
  },
  {
   "cell_type": "code",
   "execution_count": 11,
   "metadata": {},
   "outputs": [
    {
     "name": "stdout",
     "output_type": "stream",
     "text": [
      "Executando query:\n",
      "(2, 'soja', 1, 100.0)\n",
      "(1, 'milho', 2, 70.0)\n",
      "(4, 'algodao', 4, 90.0)\n",
      "(3, 'cafe', 5, 50.0)\n",
      "(2, 'soja', 6, 30.0)\n",
      "(4, 'algodao', 7, 110.0)\n",
      "(1, 'milho', 8, 4.0)\n",
      "(2, 'soja', 9, 3.5)\n",
      "(3, 'cafe', 10, 5.0)\n"
     ]
    }
   ],
   "source": [
    "# DEBUGGGGGGGGG\n",
    "\n",
    "db('''\n",
    "SELECT \n",
    "    id_plantacao, nome, id_lote, area\n",
    "FROM\n",
    "    plantacao\n",
    "    INNER JOIN lote USING (id_plantacao)\n",
    "ORDER BY\n",
    "    id_lote\n",
    "''')"
   ]
  },
  {
   "cell_type": "code",
   "execution_count": 12,
   "metadata": {},
   "outputs": [
    {
     "name": "stdout",
     "output_type": "stream",
     "text": [
      "Executando query:\n",
      "(1, 'milho', 2, 74.0)\n",
      "(2, 'soja', 1, 133.5)\n",
      "(3, 'cafe', 5, 55.0)\n",
      "(4, 'algodao', 4, 200.0)\n"
     ]
    }
   ],
   "source": [
    "# MINHA RESPOSTAAAAAAA:\n",
    "\n",
    "db('''\n",
    "SELECT \n",
    "    id_plantacao, nome, id_lote, SUM(area) as area_total\n",
    "FROM\n",
    "    plantacao\n",
    "    INNER JOIN lote USING (id_plantacao)\n",
    "GROUP BY \n",
    "    id_plantacao\n",
    "HAVING \n",
    "    area_total > 10\n",
    "''')\n",
    "\n",
    "\n"
   ]
  },
  {
   "cell_type": "code",
   "execution_count": 13,
   "metadata": {},
   "outputs": [
    {
     "name": "stdout",
     "output_type": "stream",
     "text": [
      "Executando query:\n",
      "('milho', 74.0)\n",
      "('soja', 133.5)\n",
      "('cafe', 55.0)\n",
      "('algodao', 200.0)\n"
     ]
    }
   ],
   "source": [
    "# RESPOSTA DO PROFFFFFFF:\n",
    "\n",
    "db('''\n",
    "SELECT\n",
    "    plantacao.nome, SUM(area) AS total\n",
    "FROM\n",
    "    lote,\n",
    "    plantacao\n",
    "WHERE\n",
    "    lote.id_plantacao = plantacao.id_plantacao\n",
    "GROUP BY\n",
    "    lote.id_plantacao\n",
    "HAVING total > 10;\n",
    "''')"
   ]
  },
  {
   "cell_type": "markdown",
   "metadata": {},
   "source": [
    "c) Qual o custo total atual com inseticidas?"
   ]
  },
  {
   "cell_type": "code",
   "execution_count": 14,
   "metadata": {},
   "outputs": [
    {
     "name": "stdout",
     "output_type": "stream",
     "text": [
      "Executando query:\n",
      "(1, 'Carinho', Decimal('700.00'), 100.0, 1)\n",
      "(2, 'Mae-Terra', Decimal('500.00'), 70.0, 1)\n",
      "(5, 'Carinho', Decimal('700.00'), 50.0, 1)\n",
      "(6, 'Mae-Terra', Decimal('500.00'), 30.0, 1)\n",
      "(8, 'Mae-Terra', Decimal('500.00'), 4.0, 1)\n",
      "(9, 'Carinho', Decimal('700.00'), 3.5, 1)\n",
      "(10, 'Mata-Tudo', Decimal('200.00'), 5.0, 4)\n"
     ]
    }
   ],
   "source": [
    "#DEBUGGGG\n",
    "#OBS não basta que o id do inseticida do lote seja o mesma da indicacao para saber a frequencia\n",
    "# A plantacao também tem que bater, se não ele vai relacionar com todas as plantacoes com aquele id_inseticida\n",
    "db('''\n",
    "SELECT\n",
    "     id_lote, nome, preco, area, frequencia\n",
    "FROM\n",
    "    plantacao_inseticida\n",
    "    INNER JOIN inseticida USING (id_inseticida)\n",
    "    INNER JOIN lote USING (id_inseticida)\n",
    "WHERE\n",
    "    lote.id_plantacao = plantacao_inseticida.id_plantacao\n",
    "ORDER BY\n",
    "    id_lote\n",
    "''')"
   ]
  },
  {
   "cell_type": "code",
   "execution_count": 15,
   "metadata": {},
   "outputs": [
    {
     "name": "stdout",
     "output_type": "stream",
     "text": [
      "Executando query:\n",
      "(1961400.0,)\n"
     ]
    }
   ],
   "source": [
    "# MINHA RESPOSTAAAAAAAA (ESSE INNER JOIN DUPLO TÁ CERTO???):\n",
    "\n",
    "db('''\n",
    "SELECT\n",
    "    SUM(preco*area*frequencia*12) as custo_total_inseticida\n",
    "FROM\n",
    "    plantacao_inseticida\n",
    "    INNER JOIN inseticida USING (id_inseticida)\n",
    "    INNER JOIN lote USING (id_inseticida, id_plantacao)\n",
    "''')"
   ]
  },
  {
   "cell_type": "code",
   "execution_count": 16,
   "metadata": {},
   "outputs": [
    {
     "name": "stdout",
     "output_type": "stream",
     "text": [
      "Executando query:\n",
      "(1961400.0,)\n"
     ]
    }
   ],
   "source": [
    "# MINHA RESPOSTA MAIS CONFIANTEEEEE\n",
    "db('''\n",
    "SELECT\n",
    "    SUM(preco*area*frequencia*12) as custo_total_inseticida\n",
    "FROM\n",
    "    plantacao_inseticida\n",
    "    INNER JOIN inseticida USING (id_inseticida)\n",
    "    INNER JOIN lote USING (id_inseticida)\n",
    "WHERE\n",
    "    lote.id_plantacao = plantacao_inseticida.id_plantacao\n",
    "''')\n"
   ]
  },
  {
   "cell_type": "code",
   "execution_count": 17,
   "metadata": {},
   "outputs": [
    {
     "name": "stdout",
     "output_type": "stream",
     "text": [
      "Executando query:\n",
      "(1961400.0,)\n"
     ]
    }
   ],
   "source": [
    "# RESPOSTA DO PROFFFFFF:\n",
    "\n",
    "db('''\n",
    "SELECT\n",
    "    SUM(lote.area *plantacao_inseticida.frequencia *inseticida.preco * 12)\n",
    "FROM\n",
    "    lote,\n",
    "    inseticida,\n",
    "    plantacao_inseticida\n",
    "WHERE\n",
    "    lote.id_inseticida = plantacao_inseticida.id_inseticida\n",
    "    AND lote.id_plantacao = plantacao_inseticida.id_plantacao\n",
    "    AND lote.id_inseticida = inseticida.id_inseticida;\n",
    "''')\n"
   ]
  },
  {
   "cell_type": "code",
   "execution_count": 18,
   "metadata": {},
   "outputs": [
    {
     "name": "stdout",
     "output_type": "stream",
     "text": [
      "Executando query:\n",
      "(1961400.0,)\n"
     ]
    }
   ],
   "source": [
    "# Primeiro vamos ver o menor custo de inseticida por plantacao levando em conta preço e frequencia\n",
    "db('''\n",
    "SELECT\n",
    "   SUM(12*area*preco*frequencia) \n",
    "FROM\n",
    "    lote\n",
    "    INNER JOIN inseticida USING (id_inseticida)\n",
    "    INNER JOIN plantacao_inseticida USING (id_inseticida, id_plantacao)\n",
    "\n",
    "''')"
   ]
  },
  {
   "cell_type": "markdown",
   "metadata": {},
   "source": [
    "d) Quais inseticidas não foram usados?"
   ]
  },
  {
   "cell_type": "code",
   "execution_count": 19,
   "metadata": {},
   "outputs": [
    {
     "name": "stdout",
     "output_type": "stream",
     "text": [
      "Executando query:\n"
     ]
    }
   ],
   "source": [
    "#Criando dois útlimos que não tão sendo usados\n",
    "db('''\n",
    "INSERT INTO inseticida (id_inseticida, nome, preco) VALUES\n",
    "(4, \"AgroTop\", 600),\n",
    "(5, \"Mata-Pouco\", 100)\n",
    "''')"
   ]
  },
  {
   "cell_type": "code",
   "execution_count": 20,
   "metadata": {},
   "outputs": [
    {
     "name": "stdout",
     "output_type": "stream",
     "text": [
      "Executando query:\n",
      "(1, 'Mata-Tudo', Decimal('200.00'))\n",
      "(2, 'Mae-Terra', Decimal('500.00'))\n",
      "(3, 'Carinho', Decimal('700.00'))\n",
      "(4, 'AgroTop', Decimal('600.00'))\n",
      "(5, 'Mata-Pouco', Decimal('100.00'))\n"
     ]
    }
   ],
   "source": [
    "db('''\n",
    "SELECT\n",
    "    *\n",
    "FROM \n",
    "    inseticida\n",
    "''')"
   ]
  },
  {
   "cell_type": "code",
   "execution_count": 21,
   "metadata": {},
   "outputs": [
    {
     "name": "stdout",
     "output_type": "stream",
     "text": [
      "Executando query:\n",
      "('Mata-Tudo', 10)\n",
      "('Mae-Terra', 2)\n",
      "('Mae-Terra', 6)\n",
      "('Mae-Terra', 8)\n",
      "('Carinho', 1)\n",
      "('Carinho', 5)\n",
      "('Carinho', 9)\n",
      "('AgroTop', None)\n",
      "('Mata-Pouco', None)\n"
     ]
    }
   ],
   "source": [
    "db('''\n",
    "SELECT\n",
    "    nome, id_lote\n",
    "FROM\n",
    "    inseticida\n",
    "    LEFT OUTER JOIN lote USING (id_inseticida)\n",
    "\n",
    "''')"
   ]
  },
  {
   "cell_type": "code",
   "execution_count": 22,
   "metadata": {},
   "outputs": [
    {
     "name": "stdout",
     "output_type": "stream",
     "text": [
      "Executando query:\n",
      "('AgroTop', None)\n",
      "('Mata-Pouco', None)\n"
     ]
    }
   ],
   "source": [
    "db('''\n",
    "SELECT\n",
    "    nome, id_lote\n",
    "FROM\n",
    "    inseticida\n",
    "    LEFT OUTER JOIN lote USING (id_inseticida)\n",
    "WHERE \n",
    "    id_lote is NULL\n",
    "\n",
    "''')"
   ]
  },
  {
   "cell_type": "markdown",
   "metadata": {},
   "source": [
    "e) Qual o menor custo possível com inseticidas? "
   ]
  },
  {
   "cell_type": "code",
   "execution_count": 23,
   "metadata": {},
   "outputs": [
    {
     "name": "stdout",
     "output_type": "stream",
     "text": [
      "Executando query:\n",
      "(1, 'Mata-Tudo', 2, Decimal('200.00'), Decimal('400.00'))\n",
      "(2, 'Mae-Terra', 1, Decimal('500.00'), Decimal('500.00'))\n",
      "(3, 'Mata-Tudo', 4, Decimal('200.00'), Decimal('700.00'))\n"
     ]
    }
   ],
   "source": [
    "# Primeiro vamos ver o menor custo de inseticida por plantacao levando em conta preço e frequencia\n",
    "db('''\n",
    "SELECT\n",
    "    id_plantacao, nome, frequencia, preco, MIN(preco*frequencia) as custo_preco_frequencia\n",
    "FROM\n",
    "    inseticida\n",
    "    INNER JOIN plantacao_inseticida USING (id_inseticida)\n",
    "GROUP BY \n",
    "    id_plantacao\n",
    "''')"
   ]
  },
  {
   "cell_type": "code",
   "execution_count": 24,
   "metadata": {},
   "outputs": [
    {
     "name": "stdout",
     "output_type": "stream",
     "text": [
      "Executando query:\n",
      "Executando query:\n"
     ]
    }
   ],
   "source": [
    "db('DROP TEMPORARY TABLE IF EXISTS menor_preco_freq_por_plantacao')\n",
    "\n",
    "db('''\n",
    "CREATE TEMPORARY TABLE menor_preco_freq_por_plantacao\n",
    "    SELECT\n",
    "        id_plantacao, nome, frequencia, preco, MIN(preco*frequencia) as custo_preco_frequencia\n",
    "    FROM\n",
    "        inseticida\n",
    "        INNER JOIN plantacao_inseticida USING (id_inseticida)\n",
    "    GROUP BY \n",
    "        id_plantacao\n",
    "''')"
   ]
  },
  {
   "cell_type": "code",
   "execution_count": 25,
   "metadata": {},
   "outputs": [
    {
     "name": "stdout",
     "output_type": "stream",
     "text": [
      "Executando query:\n",
      "(1, 'Mata-Tudo', 2, Decimal('200.00'), Decimal('400.00'))\n",
      "(2, 'Mae-Terra', 1, Decimal('500.00'), Decimal('500.00'))\n",
      "(3, 'Mata-Tudo', 4, Decimal('200.00'), Decimal('700.00'))\n"
     ]
    }
   ],
   "source": [
    "#Vendo se criou a tabela\n",
    "\n",
    "db('SELECT * FROM menor_preco_freq_por_plantacao ')\n"
   ]
  },
  {
   "cell_type": "code",
   "execution_count": 26,
   "metadata": {},
   "outputs": [
    {
     "name": "stdout",
     "output_type": "stream",
     "text": [
      "Executando query:\n",
      "(2, 'Mata-Tudo', Decimal('400.00'), 1618200.0)\n"
     ]
    }
   ],
   "source": [
    "# Agora queremos achar todos os lotes, conferir as plantacoes, e ai usar o custo_preco_frequencia para calcular\n",
    "\n",
    "db('''\n",
    "SELECT\n",
    "    id_lote, menor_preco_freq_por_plantacao.nome, custo_preco_frequencia, SUM(custo_preco_frequencia*area*12) as total_custo_lote \n",
    "FROM \n",
    "   menor_preco_freq_por_plantacao,\n",
    "   lote\n",
    "WHERE\n",
    "    lote.id_plantacao = menor_preco_freq_por_plantacao.id_plantacao\n",
    "    AND lote.id_inseticida IS NOT NULL\n",
    "\n",
    "''')"
   ]
  },
  {
   "cell_type": "code",
   "execution_count": null,
   "metadata": {},
   "outputs": [],
   "source": []
  },
  {
   "cell_type": "code",
   "execution_count": null,
   "metadata": {},
   "outputs": [],
   "source": []
  },
  {
   "cell_type": "code",
   "execution_count": null,
   "metadata": {},
   "outputs": [],
   "source": []
  },
  {
   "cell_type": "code",
   "execution_count": 27,
   "metadata": {},
   "outputs": [],
   "source": [
    "connection.close()"
   ]
  },
  {
   "cell_type": "code",
   "execution_count": null,
   "metadata": {},
   "outputs": [],
   "source": []
  }
 ],
 "metadata": {
  "kernelspec": {
   "display_name": "Python 3",
   "language": "python",
   "name": "python3"
  },
  "language_info": {
   "codemirror_mode": {
    "name": "ipython",
    "version": 3
   },
   "file_extension": ".py",
   "mimetype": "text/x-python",
   "name": "python",
   "nbconvert_exporter": "python",
   "pygments_lexer": "ipython3",
   "version": "3.7.6"
  }
 },
 "nbformat": 4,
 "nbformat_minor": 4
}

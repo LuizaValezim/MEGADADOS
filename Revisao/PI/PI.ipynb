{
 "cells": [
  {
   "cell_type": "markdown",
   "metadata": {},
   "source": [
    "## Avaliação Intermediária"
   ]
  },
  {
   "cell_type": "code",
   "execution_count": 3,
   "metadata": {},
   "outputs": [],
   "source": [
    "import mysql.connector\n",
    "from functools import partial\n",
    "\n",
    "\n",
    "def get_connection_helper():\n",
    "\n",
    "    def run_db_query(connection, query, args=None):\n",
    "        with connection.cursor() as cursor:\n",
    "            print('Executando query:')\n",
    "            cursor.execute(query, args)\n",
    "            for result in cursor:\n",
    "                print(result)\n",
    "\n",
    "    connection = mysql.connector.connect(\n",
    "        host='localhost',\n",
    "        user='megadados',\n",
    "        password='megadados',\n",
    "        database='figurino',\n",
    "    )\n",
    "    return connection, partial(run_db_query, connection)\n",
    "\n",
    "\n",
    "connection, db = get_connection_helper()"
   ]
  },
  {
   "cell_type": "code",
   "execution_count": 4,
   "metadata": {},
   "outputs": [
    {
     "name": "stdout",
     "output_type": "stream",
     "text": [
      "Executando query:\n",
      "(1, 'Max')\n",
      "(2, 'Lando')\n"
     ]
    }
   ],
   "source": [
    "db('SELECT * FROM Personagem')"
   ]
  },
  {
   "cell_type": "code",
   "execution_count": 5,
   "metadata": {},
   "outputs": [
    {
     "name": "stdout",
     "output_type": "stream",
     "text": [
      "Executando query:\n",
      "(1, 1, 5)\n",
      "(2, 5, 12)\n"
     ]
    }
   ],
   "source": [
    "db('SELECT * FROM Cena')"
   ]
  },
  {
   "cell_type": "code",
   "execution_count": 6,
   "metadata": {},
   "outputs": [
    {
     "name": "stdout",
     "output_type": "stream",
     "text": [
      "Executando query:\n",
      "(1, 'camisa laranja e calça preta jeans')\n",
      "(2, 'vestido azul escuro')\n",
      "(3, 'macacão listrado')\n",
      "(4, 'camiseta e shorts jeans vermelho')\n",
      "(5, 'vestido longo preto')\n"
     ]
    }
   ],
   "source": [
    "db('SELECT * FROM Roupa')"
   ]
  },
  {
   "cell_type": "code",
   "execution_count": 7,
   "metadata": {},
   "outputs": [
    {
     "name": "stdout",
     "output_type": "stream",
     "text": [
      "Executando query:\n",
      "(1, 1, 1, 'Holanda, laranja mecanica')\n",
      "(1, 2, 1, 'Continuacao da Holanda')\n",
      "(1, 2, 2, 'Laranja, mas agora alegre ')\n",
      "(2, 1, 1, 'Azul, um grande lago')\n",
      "(2, 2, 1, 'Azul, mas agora triste')\n",
      "(2, 2, 2, 'Azul escuro misturado, agora sereno')\n",
      "(3, 1, 1, 'Listrado, como uma lagarta')\n",
      "(3, 2, 1, 'Listrado, mas virou borboleta')\n",
      "(4, 2, 1, 'Vermelho, como vinho')\n",
      "(5, 1, 2, 'Preto, noite, escuro')\n"
     ]
    }
   ],
   "source": [
    "db('SELECT * FROM Figurino')"
   ]
  },
  {
   "cell_type": "markdown",
   "metadata": {},
   "source": [
    "1)\n",
    "\n",
    "a) (1,0 pt.) Identificar qual o personagem que tem o figurino com maior número de peças de vestuário."
   ]
  },
  {
   "cell_type": "code",
   "execution_count": 10,
   "metadata": {},
   "outputs": [
    {
     "name": "stdout",
     "output_type": "stream",
     "text": [
      "Executando query:\n",
      "('Max', 7)\n"
     ]
    }
   ],
   "source": [
    "db('''\n",
    "SELECT\n",
    "    nome, COUNT(id_roupa) AS numero_pecas\n",
    "FROM \n",
    "    Figurino\n",
    "    INNER JOIN Personagem USING (id_personagem)\n",
    "GROUP BY\n",
    "    id_personagem\n",
    "ORDER BY\n",
    "    numero_pecas DESC\n",
    "LIMIT\n",
    "    1\n",
    "''')"
   ]
  },
  {
   "cell_type": "markdown",
   "metadata": {},
   "source": [
    "c) (1,0 pt.) Determinar quantos minutos do filme, considerando todas as cenas, contem algum personagem vestindo\n",
    "peças de roupa cuja descrição contém a palavra “jeans” (e.g. “jeans”, “jeans desbotado”, “jaqueta jeans”, “meia\n",
    "jeans cano longo”, “ceroulas jeans”, “chapéu jeans de cowboy”, etc). Dica: use o operador LIKE para detectar se uma\n",
    "string aparece dentro de outra string"
   ]
  },
  {
   "cell_type": "code",
   "execution_count": 15,
   "metadata": {},
   "outputs": [
    {
     "name": "stdout",
     "output_type": "stream",
     "text": [
      "Executando query:\n",
      "(Decimal('25'),)\n"
     ]
    }
   ],
   "source": [
    "db('''\n",
    "SELECT\n",
    "    SUM(minuto_final - minuto_inicio) as minutos_total\n",
    "FROM \n",
    "    Cena\n",
    "    INNER JOIN Figurino USING (id_cena)\n",
    "    INNER JOIN Roupa USING (id_roupa)\n",
    "WHERE\n",
    "    Roupa.descricao LIKE \"%jeans%\"\n",
    "''')"
   ]
  },
  {
   "cell_type": "markdown",
   "metadata": {},
   "source": [
    "d) (1,0 pt.) Determinar quais peças de roupa nunca são usadas por um personagem de nome “Bob”"
   ]
  },
  {
   "cell_type": "code",
   "execution_count": 26,
   "metadata": {},
   "outputs": [
    {
     "name": "stdout",
     "output_type": "stream",
     "text": [
      "Executando query:\n"
     ]
    }
   ],
   "source": [
    "db('''\n",
    "INSERT INTO Roupa (id_roupa, descricao)\n",
    "VALUES (6, \"vestido rosa, tiara rosa\"), (7, \"camiseta larga e branca\")\n",
    "''')"
   ]
  },
  {
   "cell_type": "code",
   "execution_count": 27,
   "metadata": {},
   "outputs": [
    {
     "name": "stdout",
     "output_type": "stream",
     "text": [
      "Executando query:\n",
      "(1, 'camisa laranja e calça preta jeans')\n",
      "(2, 'vestido azul escuro')\n",
      "(3, 'macacão listrado')\n",
      "(4, 'camiseta e shorts jeans vermelho')\n",
      "(5, 'vestido longo preto')\n",
      "(6, 'vestido rosa, tiara rosa')\n",
      "(7, 'camiseta larga e branca')\n"
     ]
    }
   ],
   "source": [
    "db('SELECT * FROM Roupa')"
   ]
  },
  {
   "cell_type": "code",
   "execution_count": 30,
   "metadata": {},
   "outputs": [
    {
     "name": "stdout",
     "output_type": "stream",
     "text": [
      "Executando query:\n",
      "Executando query:\n",
      "(1,)\n"
     ]
    }
   ],
   "source": [
    "db('''\n",
    "SELECT\n",
    "    id_personagem INTO @id_Bob\n",
    "FROM \n",
    "    Personagem\n",
    "WHERE\n",
    "    nome = 'Max'\n",
    "''')\n",
    "\n",
    "db('SELECT @id_Bob')"
   ]
  },
  {
   "cell_type": "code",
   "execution_count": 41,
   "metadata": {},
   "outputs": [
    {
     "name": "stdout",
     "output_type": "stream",
     "text": [
      "Executando query:\n",
      "Executando query:\n",
      "Executando query:\n",
      "(1, 'camisa laranja e calça preta jeans', 1)\n",
      "(2, 'vestido azul escuro', 1)\n",
      "(3, 'macacão listrado', 1)\n",
      "(4, 'camiseta e shorts jeans vermelho', 1)\n"
     ]
    }
   ],
   "source": [
    "db('DROP TEMPORARY TABLE IF EXISTS roupas_Bob')\n",
    "\n",
    "db('''\n",
    "CREATE TEMPORARY TABLE roupas_Bob\n",
    "    SELECT\n",
    "        DISTINCT (id_roupa), Roupa.descricao, id_personagem\n",
    "    FROM\n",
    "        Roupa\n",
    "        INNER JOIN Figurino USING (id_roupa)\n",
    "    WHERE\n",
    "        id_personagem = @id_Bob\n",
    "''')\n",
    "\n",
    "db('SELECT * FROM roupas_Bob')"
   ]
  },
  {
   "cell_type": "code",
   "execution_count": 46,
   "metadata": {},
   "outputs": [
    {
     "name": "stdout",
     "output_type": "stream",
     "text": [
      "Executando query:\n",
      "(1, 'camisa laranja e calça preta jeans')\n",
      "(2, 'vestido azul escuro')\n",
      "(3, 'macacão listrado')\n",
      "(4, 'camiseta e shorts jeans vermelho')\n",
      "(5, 'vestido longo preto')\n",
      "(6, 'vestido rosa, tiara rosa')\n",
      "(7, 'camiseta larga e branca')\n"
     ]
    }
   ],
   "source": [
    "db('''\n",
    "SELECT\n",
    "    id_roupa, Roupa.descricao\n",
    "FROM\n",
    "    Roupa\n",
    "    LEFT OUTER JOIN roupas_Bob USING (id_roupa)\n",
    "''')"
   ]
  },
  {
   "cell_type": "code",
   "execution_count": 35,
   "metadata": {},
   "outputs": [
    {
     "name": "stdout",
     "output_type": "stream",
     "text": [
      "Executando query:\n",
      "(1, 'camisa laranja e calça preta jeans')\n",
      "(2, 'vestido azul escuro')\n",
      "(3, 'macacão listrado')\n",
      "(4, 'camiseta e shorts jeans vermelho')\n"
     ]
    }
   ],
   "source": [
    "db('''\n",
    "SELECT\n",
    "    DISTINCT (id_roupa), Roupa.descricao\n",
    "FROM\n",
    "    Roupa\n",
    "    LEFT OUTER JOIN Figurino USING (id_roupa)\n",
    "WHERE\n",
    "    id_personagem = @id_Bob\n",
    "''')"
   ]
  },
  {
   "cell_type": "markdown",
   "metadata": {},
   "source": [
    "DEPOIS VOLTA NESSA E PENSA:\n",
    "    \n",
    "FAZ UMA TEMP TABLE COM AS ROUPAS QUE O BOB USA. AS QUE NÃO USAR, LEFT OUTER JOIN."
   ]
  },
  {
   "cell_type": "markdown",
   "metadata": {},
   "source": [
    "e) (0,5 pts.) Vamos inventar um conceito novo: a assinatura digital de uma peça de roupa é o valor da função\n",
    "MD5(id_roupa) do MySQL convertido para binário usando a função UNHEX() do MySQL, ou seja: a assinatura de\n",
    "id_roupa é UNHEX(MD5(id_roupa)). Faça uma tabela temporária contendo o id_roupa e sua respectiva assinatura de\n",
    "roupa."
   ]
  },
  {
   "cell_type": "code",
   "execution_count": 48,
   "metadata": {},
   "outputs": [
    {
     "name": "stdout",
     "output_type": "stream",
     "text": [
      "Executando query:\n",
      "Executando query:\n",
      "Executando query:\n",
      "(1, bytearray(b'\\xc4\\xcaB8\\xa0\\xb9#\\x82\\r\\xccP\\x9aou\\x84\\x9b'))\n",
      "(2, bytearray(b'\\xc8\\x1er\\x8d\\x9dL/co\\x06\\x7f\\x89\\xcc\\x14\\x86,'))\n",
      "(3, bytearray(b'\\xec\\xcb\\xc8~K\\\\\\xe2\\xfe(0\\x8f\\xd9\\xf2\\xa7\\xba\\xf3'))\n",
      "(4, bytearray(b'\\xa8\\x7f\\xf6y\\xa2\\xf3\\xe7\\x1d\\x91\\x81\\xa6{uB\\x12,'))\n",
      "(5, bytearray(b'\\xe4\\xda;\\x7f\\xbb\\xce#E\\xd7w+\\x06t\\xa3\\x18\\xd5'))\n",
      "(6, bytearray(b'\\x16y\\t\\x1cZ\\x88\\x0f\\xafo\\xb5\\xe6\\x08~\\xb1\\xb2\\xdc'))\n",
      "(7, bytearray(b'\\x8f\\x14\\xe4_\\xce\\xea\\x16zZ6\\xde\\xddK\\xea%C'))\n"
     ]
    }
   ],
   "source": [
    "db('DROP TEMPORARY TABLE IF EXISTS assinatura_digital_roupa')\n",
    "\n",
    "db('''\n",
    "CREATE TEMPORARY TABLE assinatura_digital_roupa\n",
    "    SELECT\n",
    "        id_roupa, UNHEX(MD5(id_roupa)) as assinatura_digital\n",
    "    FROM\n",
    "        Roupa\n",
    "''')\n",
    "\n",
    "db('SELECT * FROM assinatura_digital_roupa')"
   ]
  },
  {
   "cell_type": "markdown",
   "metadata": {},
   "source": [
    "f) (1,0 pt.) A assinatura de um figurino é a agregação das respectivas assinaturas de roupa usando a função de\n",
    "agregação BIT_XOR() do MySQL. Usando a tabela do item (e) (mesmo que você não a tenha feito), construa uma\n",
    "tabela temporária que lista a assinatura de figurino para cada cena e personagem nela. Ou seja, sua tabela terá as\n",
    "colunas (id_cena, id_personagem, assinatura de figurino)."
   ]
  },
  {
   "cell_type": "code",
   "execution_count": 54,
   "metadata": {},
   "outputs": [
    {
     "name": "stdout",
     "output_type": "stream",
     "text": [
      "Executando query:\n",
      "Executando query:\n",
      "Executando query:\n",
      "(1, 1, bytearray(b'\\xe0\\x1f\\xf8\\xcbv\\xa9\\xee\\x1fJ\\xfa\\xa0\\xcaQ\\xc6\\xb8D'))\n",
      "(2, 1, bytearray(b'H`\\x0e\\xb2\\xd4Z\\t\\x02\\xdb{\\x06\\xb1$\\x84\\xaah'))\n",
      "(2, 2, bytearray(b'\\x0c\\xd40\\xb5=\\xf5\\x0c\\xe1b\\xca/\\x13\\xa3a\\x02\\xb7'))\n",
      "(1, 2, bytearray(b'\\xe4\\xda;\\x7f\\xbb\\xce#E\\xd7w+\\x06t\\xa3\\x18\\xd5'))\n"
     ]
    }
   ],
   "source": [
    "db('DROP TEMPORARY TABLE IF EXISTS assinatura_figurino')\n",
    "\n",
    "db('''\n",
    "CREATE TEMPORARY TABLE assinatura_figurino\n",
    "    SELECT \n",
    "        id_cena, id_personagem, BIT_XOR(assinatura_digital) as assinatura_fig\n",
    "    FROM\n",
    "        assinatura_digital_roupa\n",
    "        INNER JOIN Figurino USING (id_roupa)\n",
    "    GROUP BY\n",
    "        id_cena, id_personagem\n",
    "''')\n",
    "\n",
    "db('SELECT * FROM assinatura_figurino')"
   ]
  },
  {
   "cell_type": "markdown",
   "metadata": {},
   "source": [
    "g) (1,0 pt.) Usando a tabela do item (f) (mesmo que você não a tenha feito) determine quais personagens sempre\n",
    "usam o mesmo figurino. DICA: conte o numero de figurinos distintos que o personagem usou no filme"
   ]
  },
  {
   "cell_type": "code",
   "execution_count": 65,
   "metadata": {},
   "outputs": [
    {
     "name": "stdout",
     "output_type": "stream",
     "text": [
      "Executando query:\n"
     ]
    }
   ],
   "source": [
    "db('''\n",
    "SELECT\n",
    "    id_personagem, (COUNT(assinatura_fig) - COUNT(DISTINCT(assinatura_fig))) as fig_iguais \n",
    "FROM\n",
    "    assinatura_figurino\n",
    "GROUP BY\n",
    "    id_personagem\n",
    "HAVING\n",
    "    fig_iguais != 0\n",
    "''')"
   ]
  },
  {
   "cell_type": "markdown",
   "metadata": {},
   "source": [
    "h) (0,5 pts.) O pessoal de roteiro da produtora gostou da base de dados dos figurinistas, e acha que pode usá-la\n",
    "diretamente para contabilizar quais personagens aparecem em qual cena. Explique porque isso não vai funcionar\n",
    "com um contraexemplo."
   ]
  },
  {
   "cell_type": "markdown",
   "metadata": {},
   "source": [
    "Usar para contabilizar quais personagens aparecem na cena\n",
    "\n",
    "Isso não funcionaria. Isso porque um mesmo personagem pode aparecer na mesma cena mais de uma vez usando figurinos diferentes. Assim, por exemplo, se na cena 1 o Bob veste uma camiseta, uma calça e chapéu e ainda na mesma cena ele aparece depois vestindo um macacão e um tênis, continuamos tendo apenas um mesmo personagem na mesma cena - que apenas trocou as vestimentas. Nesse caso, se usássemos os dados dos figurinistas para contar quais personagens aparecem na cena, provavelmente seriam contados 2, quando na verdade é apenas 1."
   ]
  },
  {
   "cell_type": "code",
   "execution_count": null,
   "metadata": {},
   "outputs": [],
   "source": []
  },
  {
   "cell_type": "markdown",
   "metadata": {},
   "source": [
    "Escreva a DDL para modificar o banco de\n",
    "dados e incorporar a informação dos filmes (id_filme, titulo) e da conexão com as suas cenas."
   ]
  },
  {
   "cell_type": "code",
   "execution_count": null,
   "metadata": {},
   "outputs": [],
   "source": [
    "'''\n",
    "DROP TABLE IF EXISTS Filmes\n",
    "\n",
    "CREATE TABLE Filmes(\n",
    "    id_filme INT NOT NULL,\n",
    "    titulo VARCHAR(80) NOT NULL,\n",
    "    PRIMARY KEY (id_filme)\n",
    ");\n",
    "\n",
    "CREATE TABLE Filme_Cenas(\n",
    "    id_filme INT NOT NULL,\n",
    "    id_cena INT NOT NULL,\n",
    "    PRIMARY KEY(id_filme, id_cena)\n",
    ");\n",
    "\n",
    "ALTER TABLE Filme_Cenas\n",
    "    ADD CONSTRAINT fk_cena\n",
    "        FOREIGN KEY (id_cena)\n",
    "            REFERENCES Cena(id_cena);\n",
    "\n",
    "\n",
    "ALTER TABLE Filme_Cenas\n",
    "    ADD CONSTRAINT fk_filme\n",
    "        FOREIGN KEY (id_filme)\n",
    "            REFERENCES Filmes(id_filme);\n",
    "\n",
    "\n",
    "\n",
    "\n",
    "'''"
   ]
  },
  {
   "cell_type": "code",
   "execution_count": null,
   "metadata": {},
   "outputs": [],
   "source": []
  },
  {
   "cell_type": "code",
   "execution_count": null,
   "metadata": {},
   "outputs": [],
   "source": []
  },
  {
   "cell_type": "code",
   "execution_count": null,
   "metadata": {},
   "outputs": [],
   "source": []
  },
  {
   "cell_type": "code",
   "execution_count": 2,
   "metadata": {},
   "outputs": [],
   "source": [
    "connection.close()"
   ]
  },
  {
   "cell_type": "code",
   "execution_count": null,
   "metadata": {},
   "outputs": [],
   "source": []
  }
 ],
 "metadata": {
  "kernelspec": {
   "display_name": "Python 3",
   "language": "python",
   "name": "python3"
  },
  "language_info": {
   "codemirror_mode": {
    "name": "ipython",
    "version": 3
   },
   "file_extension": ".py",
   "mimetype": "text/x-python",
   "name": "python",
   "nbconvert_exporter": "python",
   "pygments_lexer": "ipython3",
   "version": "3.7.6"
  }
 },
 "nbformat": 4,
 "nbformat_minor": 4
}
